{
  "cells": [
    {
      "cell_type": "markdown",
      "metadata": {
        "id": "view-in-github",
        "colab_type": "text"
      },
      "source": [
        "<a href=\"https://colab.research.google.com/github/AzadehZahedi/Deep-Learning/blob/main/Deep_Learning_Project1_1.ipynb\" target=\"_parent\"><img src=\"https://colab.research.google.com/assets/colab-badge.svg\" alt=\"Open In Colab\"/></a>"
      ]
    },
    {
      "cell_type": "markdown",
      "metadata": {
        "id": "KjrAfTRWjIt6"
      },
      "source": [
        "# Project 1"
      ]
    },
    {
      "cell_type": "markdown",
      "source": [
        "When you want to travel to a city like Urmia for the Nowruz holidays, you probably enter a hotel booking site via mobile or laptop, via Google search, promotional SMS, or directly, and after creating an account, you search and enter your destination and check-in/check-out date. As a result, a list of hotels is shown to you, and finally, you compare them by clicking on different hotels and maybe (🙃) finally book one of them.\n",
        "In this project, after preprocessing the data and solving the challenges related to it, we trained a model that can predict whether a user will book the viewed hotel or not, based on user search information and other related features. In this way, appropriate decisions can be made in real time for each user, based on the booking forecast, such as offering discounts or suggesting other hotels."
      ],
      "metadata": {
        "id": "4GgjE5EMOnd1"
      }
    },
    {
      "cell_type": "code",
      "execution_count": null,
      "metadata": {
        "id": "wixCZO7Zmaxm"
      },
      "outputs": [],
      "source": [
        "import numpy as np\n",
        "import pandas as pd"
      ]
    },
    {
      "cell_type": "code",
      "execution_count": null,
      "metadata": {
        "colab": {
          "base_uri": "https://localhost:8080/"
        },
        "id": "jB1p5u5Ag4oy",
        "outputId": "8b7f995b-7628-47df-b11d-4730a8cc9995"
      },
      "outputs": [
        {
          "output_type": "stream",
          "name": "stdout",
          "text": [
            "(700, 10, 10)\n"
          ]
        }
      ],
      "source": [
        "import gc\n",
        "# Get the current garbage collector thresholds\n",
        "thresholds = gc.get_threshold()\n",
        "print(thresholds)"
      ]
    },
    {
      "cell_type": "code",
      "execution_count": null,
      "metadata": {
        "colab": {
          "base_uri": "https://localhost:8080/"
        },
        "id": "EIZwC9PfhFQJ",
        "outputId": "10bd9070-3fad-4090-c42a-bab6b813cd19"
      },
      "outputs": [
        {
          "output_type": "execute_result",
          "data": {
            "text/plain": [
              "0"
            ]
          },
          "metadata": {},
          "execution_count": 3
        }
      ],
      "source": [
        "gc.collect()"
      ]
    },
    {
      "cell_type": "markdown",
      "metadata": {
        "id": "vhvhIcC_AV7-"
      },
      "source": [
        "**Read data**"
      ]
    },
    {
      "cell_type": "code",
      "execution_count": null,
      "metadata": {
        "colab": {
          "base_uri": "https://localhost:8080/"
        },
        "id": "WS2Z5CB8jRJ_",
        "outputId": "6e6bbdad-7f37-4c6f-81df-25f9305d9180"
      },
      "outputs": [
        {
          "output_type": "stream",
          "name": "stdout",
          "text": [
            "Requirement already satisfied: gdown in /usr/local/lib/python3.10/dist-packages (5.2.0)\n",
            "Requirement already satisfied: beautifulsoup4 in /usr/local/lib/python3.10/dist-packages (from gdown) (4.12.3)\n",
            "Requirement already satisfied: filelock in /usr/local/lib/python3.10/dist-packages (from gdown) (3.16.1)\n",
            "Requirement already satisfied: requests[socks] in /usr/local/lib/python3.10/dist-packages (from gdown) (2.32.3)\n",
            "Requirement already satisfied: tqdm in /usr/local/lib/python3.10/dist-packages (from gdown) (4.66.6)\n",
            "Requirement already satisfied: soupsieve>1.2 in /usr/local/lib/python3.10/dist-packages (from beautifulsoup4->gdown) (2.6)\n",
            "Requirement already satisfied: charset-normalizer<4,>=2 in /usr/local/lib/python3.10/dist-packages (from requests[socks]->gdown) (3.4.0)\n",
            "Requirement already satisfied: idna<4,>=2.5 in /usr/local/lib/python3.10/dist-packages (from requests[socks]->gdown) (3.10)\n",
            "Requirement already satisfied: urllib3<3,>=1.21.1 in /usr/local/lib/python3.10/dist-packages (from requests[socks]->gdown) (2.2.3)\n",
            "Requirement already satisfied: certifi>=2017.4.17 in /usr/local/lib/python3.10/dist-packages (from requests[socks]->gdown) (2024.8.30)\n",
            "Requirement already satisfied: PySocks!=1.5.7,>=1.5.6 in /usr/local/lib/python3.10/dist-packages (from requests[socks]->gdown) (1.7.1)\n"
          ]
        }
      ],
      "source": [
        "!pip install --upgrade --no-cache-dir gdown # gdown is library to read file in google drive"
      ]
    },
    {
      "cell_type": "code",
      "execution_count": null,
      "metadata": {
        "colab": {
          "base_uri": "https://localhost:8080/",
          "height": 122
        },
        "id": "jeokJdHvjWzK",
        "outputId": "34b36645-3614-4dcc-ca02-3ef54dd9ddc3"
      },
      "outputs": [
        {
          "output_type": "stream",
          "name": "stderr",
          "text": [
            "Downloading...\n",
            "From (original): https://drive.google.com/uc?id=1jIl8uXsrdRz3ZBxljjQNo0ssDT8LbJBx\n",
            "From (redirected): https://drive.google.com/uc?id=1jIl8uXsrdRz3ZBxljjQNo0ssDT8LbJBx&confirm=t&uuid=f2ab3855-4f30-4016-91ce-c91e9c8fdd6a\n",
            "To: /content/will_not_travel_again_data.zip\n",
            "100%|██████████| 188M/188M [00:09<00:00, 19.1MB/s]\n"
          ]
        },
        {
          "output_type": "execute_result",
          "data": {
            "text/plain": [
              "'will_not_travel_again_data.zip'"
            ],
            "application/vnd.google.colaboratory.intrinsic+json": {
              "type": "string"
            }
          },
          "metadata": {},
          "execution_count": 5
        }
      ],
      "source": [
        "import gdown\n",
        "\n",
        "# Step 1\n",
        "#!gdown 1jIl8uXsrdRz3ZBxljjQNo0ssDT8LbJBx\n",
        "gdown.download('https://drive.google.com/uc?id=1jIl8uXsrdRz3ZBxljjQNo0ssDT8LbJBx', 'will_not_travel_again_data.zip', quiet=False)"
      ]
    },
    {
      "cell_type": "code",
      "execution_count": null,
      "metadata": {
        "id": "u_F9k-3NBIkS"
      },
      "outputs": [],
      "source": [
        "# unzip data\n",
        "import zipfile\n",
        "import os\n",
        "\n",
        "# Step 2: Extract the contents of the ZIP file\n",
        "with zipfile.ZipFile('will_not_travel_again_data.zip', 'r') as zip_ref:\n",
        "    zip_ref.extractall('/content/will_not_travel_again_data')\n",
        "\n",
        "# Step 3: List the contents of the extracted directory to ensure the CSV file is there\n",
        "extracted_files = os.listdir('/content/will_not_travel_again_data')"
      ]
    },
    {
      "cell_type": "code",
      "execution_count": null,
      "metadata": {
        "colab": {
          "base_uri": "https://localhost:8080/",
          "height": 342
        },
        "id": "UnXKeMl0jg0O",
        "outputId": "46aca50d-c871-436f-b06e-ad61946e76e2"
      },
      "outputs": [
        {
          "output_type": "execute_result",
          "data": {
            "text/plain": [
              "      user  user_location_country  user_location_region  user_location_city  \\\n",
              "0   461899                      3                    50                5703   \n",
              "1    13796                     66                   174               21177   \n",
              "2  1128575                    205                   155               14703   \n",
              "3  1080476                     69                   761               41949   \n",
              "4  1080476                     69                   761               41949   \n",
              "\n",
              "   destination_distance          search_date  is_mobile  is_package  channel  \\\n",
              "0                   NaN  2013-01-07 00:00:02          0           0        9   \n",
              "1             5713.6206  2013-01-07 00:00:06          0           0        9   \n",
              "2              795.7298  2013-01-07 00:00:06          0           0        9   \n",
              "3                   NaN  2013-01-07 00:00:17          0           1        9   \n",
              "4                   NaN  2013-01-07 00:00:23          0           1        9   \n",
              "\n",
              "   search_count  ... n_adults n_children  n_rooms  destination  \\\n",
              "0             1  ...        2          1        1          669   \n",
              "1             3  ...        1          0        1         8821   \n",
              "2             1  ...        1          0        1        25064   \n",
              "3             1  ...        2          0        1         7635   \n",
              "4             1  ...        2          0        1         7635   \n",
              "\n",
              "   destination_type  hotel_continent  hotel_country  hotel_market  \\\n",
              "0                 3                2             50           212   \n",
              "1                 1                6             17            30   \n",
              "2                 6                2             50          1230   \n",
              "3                 3                2             50           675   \n",
              "4                 3                2             50           675   \n",
              "\n",
              "   hotel_category  is_booking  \n",
              "0              41           0  \n",
              "1              58           0  \n",
              "2              91           0  \n",
              "3              10           0  \n",
              "4              10           0  \n",
              "\n",
              "[5 rows x 22 columns]"
            ],
            "text/html": [
              "\n",
              "  <div id=\"df-7567622d-5bab-44bb-95c8-38b5634e9517\" class=\"colab-df-container\">\n",
              "    <div>\n",
              "<style scoped>\n",
              "    .dataframe tbody tr th:only-of-type {\n",
              "        vertical-align: middle;\n",
              "    }\n",
              "\n",
              "    .dataframe tbody tr th {\n",
              "        vertical-align: top;\n",
              "    }\n",
              "\n",
              "    .dataframe thead th {\n",
              "        text-align: right;\n",
              "    }\n",
              "</style>\n",
              "<table border=\"1\" class=\"dataframe\">\n",
              "  <thead>\n",
              "    <tr style=\"text-align: right;\">\n",
              "      <th></th>\n",
              "      <th>user</th>\n",
              "      <th>user_location_country</th>\n",
              "      <th>user_location_region</th>\n",
              "      <th>user_location_city</th>\n",
              "      <th>destination_distance</th>\n",
              "      <th>search_date</th>\n",
              "      <th>is_mobile</th>\n",
              "      <th>is_package</th>\n",
              "      <th>channel</th>\n",
              "      <th>search_count</th>\n",
              "      <th>...</th>\n",
              "      <th>n_adults</th>\n",
              "      <th>n_children</th>\n",
              "      <th>n_rooms</th>\n",
              "      <th>destination</th>\n",
              "      <th>destination_type</th>\n",
              "      <th>hotel_continent</th>\n",
              "      <th>hotel_country</th>\n",
              "      <th>hotel_market</th>\n",
              "      <th>hotel_category</th>\n",
              "      <th>is_booking</th>\n",
              "    </tr>\n",
              "  </thead>\n",
              "  <tbody>\n",
              "    <tr>\n",
              "      <th>0</th>\n",
              "      <td>461899</td>\n",
              "      <td>3</td>\n",
              "      <td>50</td>\n",
              "      <td>5703</td>\n",
              "      <td>NaN</td>\n",
              "      <td>2013-01-07 00:00:02</td>\n",
              "      <td>0</td>\n",
              "      <td>0</td>\n",
              "      <td>9</td>\n",
              "      <td>1</td>\n",
              "      <td>...</td>\n",
              "      <td>2</td>\n",
              "      <td>1</td>\n",
              "      <td>1</td>\n",
              "      <td>669</td>\n",
              "      <td>3</td>\n",
              "      <td>2</td>\n",
              "      <td>50</td>\n",
              "      <td>212</td>\n",
              "      <td>41</td>\n",
              "      <td>0</td>\n",
              "    </tr>\n",
              "    <tr>\n",
              "      <th>1</th>\n",
              "      <td>13796</td>\n",
              "      <td>66</td>\n",
              "      <td>174</td>\n",
              "      <td>21177</td>\n",
              "      <td>5713.6206</td>\n",
              "      <td>2013-01-07 00:00:06</td>\n",
              "      <td>0</td>\n",
              "      <td>0</td>\n",
              "      <td>9</td>\n",
              "      <td>3</td>\n",
              "      <td>...</td>\n",
              "      <td>1</td>\n",
              "      <td>0</td>\n",
              "      <td>1</td>\n",
              "      <td>8821</td>\n",
              "      <td>1</td>\n",
              "      <td>6</td>\n",
              "      <td>17</td>\n",
              "      <td>30</td>\n",
              "      <td>58</td>\n",
              "      <td>0</td>\n",
              "    </tr>\n",
              "    <tr>\n",
              "      <th>2</th>\n",
              "      <td>1128575</td>\n",
              "      <td>205</td>\n",
              "      <td>155</td>\n",
              "      <td>14703</td>\n",
              "      <td>795.7298</td>\n",
              "      <td>2013-01-07 00:00:06</td>\n",
              "      <td>0</td>\n",
              "      <td>0</td>\n",
              "      <td>9</td>\n",
              "      <td>1</td>\n",
              "      <td>...</td>\n",
              "      <td>1</td>\n",
              "      <td>0</td>\n",
              "      <td>1</td>\n",
              "      <td>25064</td>\n",
              "      <td>6</td>\n",
              "      <td>2</td>\n",
              "      <td>50</td>\n",
              "      <td>1230</td>\n",
              "      <td>91</td>\n",
              "      <td>0</td>\n",
              "    </tr>\n",
              "    <tr>\n",
              "      <th>3</th>\n",
              "      <td>1080476</td>\n",
              "      <td>69</td>\n",
              "      <td>761</td>\n",
              "      <td>41949</td>\n",
              "      <td>NaN</td>\n",
              "      <td>2013-01-07 00:00:17</td>\n",
              "      <td>0</td>\n",
              "      <td>1</td>\n",
              "      <td>9</td>\n",
              "      <td>1</td>\n",
              "      <td>...</td>\n",
              "      <td>2</td>\n",
              "      <td>0</td>\n",
              "      <td>1</td>\n",
              "      <td>7635</td>\n",
              "      <td>3</td>\n",
              "      <td>2</td>\n",
              "      <td>50</td>\n",
              "      <td>675</td>\n",
              "      <td>10</td>\n",
              "      <td>0</td>\n",
              "    </tr>\n",
              "    <tr>\n",
              "      <th>4</th>\n",
              "      <td>1080476</td>\n",
              "      <td>69</td>\n",
              "      <td>761</td>\n",
              "      <td>41949</td>\n",
              "      <td>NaN</td>\n",
              "      <td>2013-01-07 00:00:23</td>\n",
              "      <td>0</td>\n",
              "      <td>1</td>\n",
              "      <td>9</td>\n",
              "      <td>1</td>\n",
              "      <td>...</td>\n",
              "      <td>2</td>\n",
              "      <td>0</td>\n",
              "      <td>1</td>\n",
              "      <td>7635</td>\n",
              "      <td>3</td>\n",
              "      <td>2</td>\n",
              "      <td>50</td>\n",
              "      <td>675</td>\n",
              "      <td>10</td>\n",
              "      <td>0</td>\n",
              "    </tr>\n",
              "  </tbody>\n",
              "</table>\n",
              "<p>5 rows × 22 columns</p>\n",
              "</div>\n",
              "    <div class=\"colab-df-buttons\">\n",
              "\n",
              "  <div class=\"colab-df-container\">\n",
              "    <button class=\"colab-df-convert\" onclick=\"convertToInteractive('df-7567622d-5bab-44bb-95c8-38b5634e9517')\"\n",
              "            title=\"Convert this dataframe to an interactive table.\"\n",
              "            style=\"display:none;\">\n",
              "\n",
              "  <svg xmlns=\"http://www.w3.org/2000/svg\" height=\"24px\" viewBox=\"0 -960 960 960\">\n",
              "    <path d=\"M120-120v-720h720v720H120Zm60-500h600v-160H180v160Zm220 220h160v-160H400v160Zm0 220h160v-160H400v160ZM180-400h160v-160H180v160Zm440 0h160v-160H620v160ZM180-180h160v-160H180v160Zm440 0h160v-160H620v160Z\"/>\n",
              "  </svg>\n",
              "    </button>\n",
              "\n",
              "  <style>\n",
              "    .colab-df-container {\n",
              "      display:flex;\n",
              "      gap: 12px;\n",
              "    }\n",
              "\n",
              "    .colab-df-convert {\n",
              "      background-color: #E8F0FE;\n",
              "      border: none;\n",
              "      border-radius: 50%;\n",
              "      cursor: pointer;\n",
              "      display: none;\n",
              "      fill: #1967D2;\n",
              "      height: 32px;\n",
              "      padding: 0 0 0 0;\n",
              "      width: 32px;\n",
              "    }\n",
              "\n",
              "    .colab-df-convert:hover {\n",
              "      background-color: #E2EBFA;\n",
              "      box-shadow: 0px 1px 2px rgba(60, 64, 67, 0.3), 0px 1px 3px 1px rgba(60, 64, 67, 0.15);\n",
              "      fill: #174EA6;\n",
              "    }\n",
              "\n",
              "    .colab-df-buttons div {\n",
              "      margin-bottom: 4px;\n",
              "    }\n",
              "\n",
              "    [theme=dark] .colab-df-convert {\n",
              "      background-color: #3B4455;\n",
              "      fill: #D2E3FC;\n",
              "    }\n",
              "\n",
              "    [theme=dark] .colab-df-convert:hover {\n",
              "      background-color: #434B5C;\n",
              "      box-shadow: 0px 1px 3px 1px rgba(0, 0, 0, 0.15);\n",
              "      filter: drop-shadow(0px 1px 2px rgba(0, 0, 0, 0.3));\n",
              "      fill: #FFFFFF;\n",
              "    }\n",
              "  </style>\n",
              "\n",
              "    <script>\n",
              "      const buttonEl =\n",
              "        document.querySelector('#df-7567622d-5bab-44bb-95c8-38b5634e9517 button.colab-df-convert');\n",
              "      buttonEl.style.display =\n",
              "        google.colab.kernel.accessAllowed ? 'block' : 'none';\n",
              "\n",
              "      async function convertToInteractive(key) {\n",
              "        const element = document.querySelector('#df-7567622d-5bab-44bb-95c8-38b5634e9517');\n",
              "        const dataTable =\n",
              "          await google.colab.kernel.invokeFunction('convertToInteractive',\n",
              "                                                    [key], {});\n",
              "        if (!dataTable) return;\n",
              "\n",
              "        const docLinkHtml = 'Like what you see? Visit the ' +\n",
              "          '<a target=\"_blank\" href=https://colab.research.google.com/notebooks/data_table.ipynb>data table notebook</a>'\n",
              "          + ' to learn more about interactive tables.';\n",
              "        element.innerHTML = '';\n",
              "        dataTable['output_type'] = 'display_data';\n",
              "        await google.colab.output.renderOutput(dataTable, element);\n",
              "        const docLink = document.createElement('div');\n",
              "        docLink.innerHTML = docLinkHtml;\n",
              "        element.appendChild(docLink);\n",
              "      }\n",
              "    </script>\n",
              "  </div>\n",
              "\n",
              "\n",
              "<div id=\"df-72bdf9df-5e03-4b65-8cc6-71bced05d913\">\n",
              "  <button class=\"colab-df-quickchart\" onclick=\"quickchart('df-72bdf9df-5e03-4b65-8cc6-71bced05d913')\"\n",
              "            title=\"Suggest charts\"\n",
              "            style=\"display:none;\">\n",
              "\n",
              "<svg xmlns=\"http://www.w3.org/2000/svg\" height=\"24px\"viewBox=\"0 0 24 24\"\n",
              "     width=\"24px\">\n",
              "    <g>\n",
              "        <path d=\"M19 3H5c-1.1 0-2 .9-2 2v14c0 1.1.9 2 2 2h14c1.1 0 2-.9 2-2V5c0-1.1-.9-2-2-2zM9 17H7v-7h2v7zm4 0h-2V7h2v10zm4 0h-2v-4h2v4z\"/>\n",
              "    </g>\n",
              "</svg>\n",
              "  </button>\n",
              "\n",
              "<style>\n",
              "  .colab-df-quickchart {\n",
              "      --bg-color: #E8F0FE;\n",
              "      --fill-color: #1967D2;\n",
              "      --hover-bg-color: #E2EBFA;\n",
              "      --hover-fill-color: #174EA6;\n",
              "      --disabled-fill-color: #AAA;\n",
              "      --disabled-bg-color: #DDD;\n",
              "  }\n",
              "\n",
              "  [theme=dark] .colab-df-quickchart {\n",
              "      --bg-color: #3B4455;\n",
              "      --fill-color: #D2E3FC;\n",
              "      --hover-bg-color: #434B5C;\n",
              "      --hover-fill-color: #FFFFFF;\n",
              "      --disabled-bg-color: #3B4455;\n",
              "      --disabled-fill-color: #666;\n",
              "  }\n",
              "\n",
              "  .colab-df-quickchart {\n",
              "    background-color: var(--bg-color);\n",
              "    border: none;\n",
              "    border-radius: 50%;\n",
              "    cursor: pointer;\n",
              "    display: none;\n",
              "    fill: var(--fill-color);\n",
              "    height: 32px;\n",
              "    padding: 0;\n",
              "    width: 32px;\n",
              "  }\n",
              "\n",
              "  .colab-df-quickchart:hover {\n",
              "    background-color: var(--hover-bg-color);\n",
              "    box-shadow: 0 1px 2px rgba(60, 64, 67, 0.3), 0 1px 3px 1px rgba(60, 64, 67, 0.15);\n",
              "    fill: var(--button-hover-fill-color);\n",
              "  }\n",
              "\n",
              "  .colab-df-quickchart-complete:disabled,\n",
              "  .colab-df-quickchart-complete:disabled:hover {\n",
              "    background-color: var(--disabled-bg-color);\n",
              "    fill: var(--disabled-fill-color);\n",
              "    box-shadow: none;\n",
              "  }\n",
              "\n",
              "  .colab-df-spinner {\n",
              "    border: 2px solid var(--fill-color);\n",
              "    border-color: transparent;\n",
              "    border-bottom-color: var(--fill-color);\n",
              "    animation:\n",
              "      spin 1s steps(1) infinite;\n",
              "  }\n",
              "\n",
              "  @keyframes spin {\n",
              "    0% {\n",
              "      border-color: transparent;\n",
              "      border-bottom-color: var(--fill-color);\n",
              "      border-left-color: var(--fill-color);\n",
              "    }\n",
              "    20% {\n",
              "      border-color: transparent;\n",
              "      border-left-color: var(--fill-color);\n",
              "      border-top-color: var(--fill-color);\n",
              "    }\n",
              "    30% {\n",
              "      border-color: transparent;\n",
              "      border-left-color: var(--fill-color);\n",
              "      border-top-color: var(--fill-color);\n",
              "      border-right-color: var(--fill-color);\n",
              "    }\n",
              "    40% {\n",
              "      border-color: transparent;\n",
              "      border-right-color: var(--fill-color);\n",
              "      border-top-color: var(--fill-color);\n",
              "    }\n",
              "    60% {\n",
              "      border-color: transparent;\n",
              "      border-right-color: var(--fill-color);\n",
              "    }\n",
              "    80% {\n",
              "      border-color: transparent;\n",
              "      border-right-color: var(--fill-color);\n",
              "      border-bottom-color: var(--fill-color);\n",
              "    }\n",
              "    90% {\n",
              "      border-color: transparent;\n",
              "      border-bottom-color: var(--fill-color);\n",
              "    }\n",
              "  }\n",
              "</style>\n",
              "\n",
              "  <script>\n",
              "    async function quickchart(key) {\n",
              "      const quickchartButtonEl =\n",
              "        document.querySelector('#' + key + ' button');\n",
              "      quickchartButtonEl.disabled = true;  // To prevent multiple clicks.\n",
              "      quickchartButtonEl.classList.add('colab-df-spinner');\n",
              "      try {\n",
              "        const charts = await google.colab.kernel.invokeFunction(\n",
              "            'suggestCharts', [key], {});\n",
              "      } catch (error) {\n",
              "        console.error('Error during call to suggestCharts:', error);\n",
              "      }\n",
              "      quickchartButtonEl.classList.remove('colab-df-spinner');\n",
              "      quickchartButtonEl.classList.add('colab-df-quickchart-complete');\n",
              "    }\n",
              "    (() => {\n",
              "      let quickchartButtonEl =\n",
              "        document.querySelector('#df-72bdf9df-5e03-4b65-8cc6-71bced05d913 button');\n",
              "      quickchartButtonEl.style.display =\n",
              "        google.colab.kernel.accessAllowed ? 'block' : 'none';\n",
              "    })();\n",
              "  </script>\n",
              "</div>\n",
              "    </div>\n",
              "  </div>\n"
            ],
            "application/vnd.google.colaboratory.intrinsic+json": {
              "type": "dataframe",
              "variable_name": "train_df"
            }
          },
          "metadata": {},
          "execution_count": 7
        }
      ],
      "source": [
        "train_df = pd.read_csv('/content/will_not_travel_again_data/data/train.csv')\n",
        "train_df.head()"
      ]
    },
    {
      "cell_type": "code",
      "execution_count": null,
      "metadata": {
        "colab": {
          "base_uri": "https://localhost:8080/",
          "height": 359
        },
        "id": "Qb4hb0lhjnHT",
        "outputId": "fcce520b-a67b-46db-eb13-58125ed1ff1e"
      },
      "outputs": [
        {
          "output_type": "execute_result",
          "data": {
            "text/plain": [
              "   Unnamed: 0     user  user_location_country  user_location_region  \\\n",
              "0           0   956535                    215                   817   \n",
              "1           1  1099321                     66                   321   \n",
              "2           2   993646                    109                     0   \n",
              "3           3   544256                     66                   174   \n",
              "4           4    26542                    215                   646   \n",
              "\n",
              "   user_location_city  destination_distance          search_date  is_mobile  \\\n",
              "0               19599                   NaN  2014-12-01 12:23:32          0   \n",
              "1               47535             7322.6527  2014-12-01 13:00:29          0   \n",
              "2               21903                   NaN  2014-12-01 16:04:55          0   \n",
              "3               50284                   NaN  2014-12-01 12:31:22          0   \n",
              "4               51733             2045.2943  2014-12-01 11:29:26          0   \n",
              "\n",
              "   is_package  channel  ...  checkOut_date n_adults n_children  n_rooms  \\\n",
              "0           0        9  ...     2014-12-14        4          0        1   \n",
              "1           0        0  ...     2014-12-13        1          0        1   \n",
              "2           1        9  ...     2014-12-19        1          0        1   \n",
              "3           0        9  ...     2014-12-05        2          0        2   \n",
              "4           0        9  ...     2014-12-19        2          0        1   \n",
              "\n",
              "   destination  destination_type  hotel_continent  hotel_country  \\\n",
              "0         1031                 1                2             50   \n",
              "1         8796                 1                3            104   \n",
              "2         8253                 1                6             70   \n",
              "3         8279                 1                2             50   \n",
              "4        59198                 3                4            119   \n",
              "\n",
              "   hotel_market  hotel_category  \n",
              "0          1107              39  \n",
              "1          1003              57  \n",
              "2            19              70  \n",
              "3          1230              21  \n",
              "4          2064              53  \n",
              "\n",
              "[5 rows x 22 columns]"
            ],
            "text/html": [
              "\n",
              "  <div id=\"df-35044b28-a8cf-4ac5-a142-162ba40f2f61\" class=\"colab-df-container\">\n",
              "    <div>\n",
              "<style scoped>\n",
              "    .dataframe tbody tr th:only-of-type {\n",
              "        vertical-align: middle;\n",
              "    }\n",
              "\n",
              "    .dataframe tbody tr th {\n",
              "        vertical-align: top;\n",
              "    }\n",
              "\n",
              "    .dataframe thead th {\n",
              "        text-align: right;\n",
              "    }\n",
              "</style>\n",
              "<table border=\"1\" class=\"dataframe\">\n",
              "  <thead>\n",
              "    <tr style=\"text-align: right;\">\n",
              "      <th></th>\n",
              "      <th>Unnamed: 0</th>\n",
              "      <th>user</th>\n",
              "      <th>user_location_country</th>\n",
              "      <th>user_location_region</th>\n",
              "      <th>user_location_city</th>\n",
              "      <th>destination_distance</th>\n",
              "      <th>search_date</th>\n",
              "      <th>is_mobile</th>\n",
              "      <th>is_package</th>\n",
              "      <th>channel</th>\n",
              "      <th>...</th>\n",
              "      <th>checkOut_date</th>\n",
              "      <th>n_adults</th>\n",
              "      <th>n_children</th>\n",
              "      <th>n_rooms</th>\n",
              "      <th>destination</th>\n",
              "      <th>destination_type</th>\n",
              "      <th>hotel_continent</th>\n",
              "      <th>hotel_country</th>\n",
              "      <th>hotel_market</th>\n",
              "      <th>hotel_category</th>\n",
              "    </tr>\n",
              "  </thead>\n",
              "  <tbody>\n",
              "    <tr>\n",
              "      <th>0</th>\n",
              "      <td>0</td>\n",
              "      <td>956535</td>\n",
              "      <td>215</td>\n",
              "      <td>817</td>\n",
              "      <td>19599</td>\n",
              "      <td>NaN</td>\n",
              "      <td>2014-12-01 12:23:32</td>\n",
              "      <td>0</td>\n",
              "      <td>0</td>\n",
              "      <td>9</td>\n",
              "      <td>...</td>\n",
              "      <td>2014-12-14</td>\n",
              "      <td>4</td>\n",
              "      <td>0</td>\n",
              "      <td>1</td>\n",
              "      <td>1031</td>\n",
              "      <td>1</td>\n",
              "      <td>2</td>\n",
              "      <td>50</td>\n",
              "      <td>1107</td>\n",
              "      <td>39</td>\n",
              "    </tr>\n",
              "    <tr>\n",
              "      <th>1</th>\n",
              "      <td>1</td>\n",
              "      <td>1099321</td>\n",
              "      <td>66</td>\n",
              "      <td>321</td>\n",
              "      <td>47535</td>\n",
              "      <td>7322.6527</td>\n",
              "      <td>2014-12-01 13:00:29</td>\n",
              "      <td>0</td>\n",
              "      <td>0</td>\n",
              "      <td>0</td>\n",
              "      <td>...</td>\n",
              "      <td>2014-12-13</td>\n",
              "      <td>1</td>\n",
              "      <td>0</td>\n",
              "      <td>1</td>\n",
              "      <td>8796</td>\n",
              "      <td>1</td>\n",
              "      <td>3</td>\n",
              "      <td>104</td>\n",
              "      <td>1003</td>\n",
              "      <td>57</td>\n",
              "    </tr>\n",
              "    <tr>\n",
              "      <th>2</th>\n",
              "      <td>2</td>\n",
              "      <td>993646</td>\n",
              "      <td>109</td>\n",
              "      <td>0</td>\n",
              "      <td>21903</td>\n",
              "      <td>NaN</td>\n",
              "      <td>2014-12-01 16:04:55</td>\n",
              "      <td>0</td>\n",
              "      <td>1</td>\n",
              "      <td>9</td>\n",
              "      <td>...</td>\n",
              "      <td>2014-12-19</td>\n",
              "      <td>1</td>\n",
              "      <td>0</td>\n",
              "      <td>1</td>\n",
              "      <td>8253</td>\n",
              "      <td>1</td>\n",
              "      <td>6</td>\n",
              "      <td>70</td>\n",
              "      <td>19</td>\n",
              "      <td>70</td>\n",
              "    </tr>\n",
              "    <tr>\n",
              "      <th>3</th>\n",
              "      <td>3</td>\n",
              "      <td>544256</td>\n",
              "      <td>66</td>\n",
              "      <td>174</td>\n",
              "      <td>50284</td>\n",
              "      <td>NaN</td>\n",
              "      <td>2014-12-01 12:31:22</td>\n",
              "      <td>0</td>\n",
              "      <td>0</td>\n",
              "      <td>9</td>\n",
              "      <td>...</td>\n",
              "      <td>2014-12-05</td>\n",
              "      <td>2</td>\n",
              "      <td>0</td>\n",
              "      <td>2</td>\n",
              "      <td>8279</td>\n",
              "      <td>1</td>\n",
              "      <td>2</td>\n",
              "      <td>50</td>\n",
              "      <td>1230</td>\n",
              "      <td>21</td>\n",
              "    </tr>\n",
              "    <tr>\n",
              "      <th>4</th>\n",
              "      <td>4</td>\n",
              "      <td>26542</td>\n",
              "      <td>215</td>\n",
              "      <td>646</td>\n",
              "      <td>51733</td>\n",
              "      <td>2045.2943</td>\n",
              "      <td>2014-12-01 11:29:26</td>\n",
              "      <td>0</td>\n",
              "      <td>0</td>\n",
              "      <td>9</td>\n",
              "      <td>...</td>\n",
              "      <td>2014-12-19</td>\n",
              "      <td>2</td>\n",
              "      <td>0</td>\n",
              "      <td>1</td>\n",
              "      <td>59198</td>\n",
              "      <td>3</td>\n",
              "      <td>4</td>\n",
              "      <td>119</td>\n",
              "      <td>2064</td>\n",
              "      <td>53</td>\n",
              "    </tr>\n",
              "  </tbody>\n",
              "</table>\n",
              "<p>5 rows × 22 columns</p>\n",
              "</div>\n",
              "    <div class=\"colab-df-buttons\">\n",
              "\n",
              "  <div class=\"colab-df-container\">\n",
              "    <button class=\"colab-df-convert\" onclick=\"convertToInteractive('df-35044b28-a8cf-4ac5-a142-162ba40f2f61')\"\n",
              "            title=\"Convert this dataframe to an interactive table.\"\n",
              "            style=\"display:none;\">\n",
              "\n",
              "  <svg xmlns=\"http://www.w3.org/2000/svg\" height=\"24px\" viewBox=\"0 -960 960 960\">\n",
              "    <path d=\"M120-120v-720h720v720H120Zm60-500h600v-160H180v160Zm220 220h160v-160H400v160Zm0 220h160v-160H400v160ZM180-400h160v-160H180v160Zm440 0h160v-160H620v160ZM180-180h160v-160H180v160Zm440 0h160v-160H620v160Z\"/>\n",
              "  </svg>\n",
              "    </button>\n",
              "\n",
              "  <style>\n",
              "    .colab-df-container {\n",
              "      display:flex;\n",
              "      gap: 12px;\n",
              "    }\n",
              "\n",
              "    .colab-df-convert {\n",
              "      background-color: #E8F0FE;\n",
              "      border: none;\n",
              "      border-radius: 50%;\n",
              "      cursor: pointer;\n",
              "      display: none;\n",
              "      fill: #1967D2;\n",
              "      height: 32px;\n",
              "      padding: 0 0 0 0;\n",
              "      width: 32px;\n",
              "    }\n",
              "\n",
              "    .colab-df-convert:hover {\n",
              "      background-color: #E2EBFA;\n",
              "      box-shadow: 0px 1px 2px rgba(60, 64, 67, 0.3), 0px 1px 3px 1px rgba(60, 64, 67, 0.15);\n",
              "      fill: #174EA6;\n",
              "    }\n",
              "\n",
              "    .colab-df-buttons div {\n",
              "      margin-bottom: 4px;\n",
              "    }\n",
              "\n",
              "    [theme=dark] .colab-df-convert {\n",
              "      background-color: #3B4455;\n",
              "      fill: #D2E3FC;\n",
              "    }\n",
              "\n",
              "    [theme=dark] .colab-df-convert:hover {\n",
              "      background-color: #434B5C;\n",
              "      box-shadow: 0px 1px 3px 1px rgba(0, 0, 0, 0.15);\n",
              "      filter: drop-shadow(0px 1px 2px rgba(0, 0, 0, 0.3));\n",
              "      fill: #FFFFFF;\n",
              "    }\n",
              "  </style>\n",
              "\n",
              "    <script>\n",
              "      const buttonEl =\n",
              "        document.querySelector('#df-35044b28-a8cf-4ac5-a142-162ba40f2f61 button.colab-df-convert');\n",
              "      buttonEl.style.display =\n",
              "        google.colab.kernel.accessAllowed ? 'block' : 'none';\n",
              "\n",
              "      async function convertToInteractive(key) {\n",
              "        const element = document.querySelector('#df-35044b28-a8cf-4ac5-a142-162ba40f2f61');\n",
              "        const dataTable =\n",
              "          await google.colab.kernel.invokeFunction('convertToInteractive',\n",
              "                                                    [key], {});\n",
              "        if (!dataTable) return;\n",
              "\n",
              "        const docLinkHtml = 'Like what you see? Visit the ' +\n",
              "          '<a target=\"_blank\" href=https://colab.research.google.com/notebooks/data_table.ipynb>data table notebook</a>'\n",
              "          + ' to learn more about interactive tables.';\n",
              "        element.innerHTML = '';\n",
              "        dataTable['output_type'] = 'display_data';\n",
              "        await google.colab.output.renderOutput(dataTable, element);\n",
              "        const docLink = document.createElement('div');\n",
              "        docLink.innerHTML = docLinkHtml;\n",
              "        element.appendChild(docLink);\n",
              "      }\n",
              "    </script>\n",
              "  </div>\n",
              "\n",
              "\n",
              "<div id=\"df-6dc5101d-827f-4ce2-861f-5fa7ec4e7655\">\n",
              "  <button class=\"colab-df-quickchart\" onclick=\"quickchart('df-6dc5101d-827f-4ce2-861f-5fa7ec4e7655')\"\n",
              "            title=\"Suggest charts\"\n",
              "            style=\"display:none;\">\n",
              "\n",
              "<svg xmlns=\"http://www.w3.org/2000/svg\" height=\"24px\"viewBox=\"0 0 24 24\"\n",
              "     width=\"24px\">\n",
              "    <g>\n",
              "        <path d=\"M19 3H5c-1.1 0-2 .9-2 2v14c0 1.1.9 2 2 2h14c1.1 0 2-.9 2-2V5c0-1.1-.9-2-2-2zM9 17H7v-7h2v7zm4 0h-2V7h2v10zm4 0h-2v-4h2v4z\"/>\n",
              "    </g>\n",
              "</svg>\n",
              "  </button>\n",
              "\n",
              "<style>\n",
              "  .colab-df-quickchart {\n",
              "      --bg-color: #E8F0FE;\n",
              "      --fill-color: #1967D2;\n",
              "      --hover-bg-color: #E2EBFA;\n",
              "      --hover-fill-color: #174EA6;\n",
              "      --disabled-fill-color: #AAA;\n",
              "      --disabled-bg-color: #DDD;\n",
              "  }\n",
              "\n",
              "  [theme=dark] .colab-df-quickchart {\n",
              "      --bg-color: #3B4455;\n",
              "      --fill-color: #D2E3FC;\n",
              "      --hover-bg-color: #434B5C;\n",
              "      --hover-fill-color: #FFFFFF;\n",
              "      --disabled-bg-color: #3B4455;\n",
              "      --disabled-fill-color: #666;\n",
              "  }\n",
              "\n",
              "  .colab-df-quickchart {\n",
              "    background-color: var(--bg-color);\n",
              "    border: none;\n",
              "    border-radius: 50%;\n",
              "    cursor: pointer;\n",
              "    display: none;\n",
              "    fill: var(--fill-color);\n",
              "    height: 32px;\n",
              "    padding: 0;\n",
              "    width: 32px;\n",
              "  }\n",
              "\n",
              "  .colab-df-quickchart:hover {\n",
              "    background-color: var(--hover-bg-color);\n",
              "    box-shadow: 0 1px 2px rgba(60, 64, 67, 0.3), 0 1px 3px 1px rgba(60, 64, 67, 0.15);\n",
              "    fill: var(--button-hover-fill-color);\n",
              "  }\n",
              "\n",
              "  .colab-df-quickchart-complete:disabled,\n",
              "  .colab-df-quickchart-complete:disabled:hover {\n",
              "    background-color: var(--disabled-bg-color);\n",
              "    fill: var(--disabled-fill-color);\n",
              "    box-shadow: none;\n",
              "  }\n",
              "\n",
              "  .colab-df-spinner {\n",
              "    border: 2px solid var(--fill-color);\n",
              "    border-color: transparent;\n",
              "    border-bottom-color: var(--fill-color);\n",
              "    animation:\n",
              "      spin 1s steps(1) infinite;\n",
              "  }\n",
              "\n",
              "  @keyframes spin {\n",
              "    0% {\n",
              "      border-color: transparent;\n",
              "      border-bottom-color: var(--fill-color);\n",
              "      border-left-color: var(--fill-color);\n",
              "    }\n",
              "    20% {\n",
              "      border-color: transparent;\n",
              "      border-left-color: var(--fill-color);\n",
              "      border-top-color: var(--fill-color);\n",
              "    }\n",
              "    30% {\n",
              "      border-color: transparent;\n",
              "      border-left-color: var(--fill-color);\n",
              "      border-top-color: var(--fill-color);\n",
              "      border-right-color: var(--fill-color);\n",
              "    }\n",
              "    40% {\n",
              "      border-color: transparent;\n",
              "      border-right-color: var(--fill-color);\n",
              "      border-top-color: var(--fill-color);\n",
              "    }\n",
              "    60% {\n",
              "      border-color: transparent;\n",
              "      border-right-color: var(--fill-color);\n",
              "    }\n",
              "    80% {\n",
              "      border-color: transparent;\n",
              "      border-right-color: var(--fill-color);\n",
              "      border-bottom-color: var(--fill-color);\n",
              "    }\n",
              "    90% {\n",
              "      border-color: transparent;\n",
              "      border-bottom-color: var(--fill-color);\n",
              "    }\n",
              "  }\n",
              "</style>\n",
              "\n",
              "  <script>\n",
              "    async function quickchart(key) {\n",
              "      const quickchartButtonEl =\n",
              "        document.querySelector('#' + key + ' button');\n",
              "      quickchartButtonEl.disabled = true;  // To prevent multiple clicks.\n",
              "      quickchartButtonEl.classList.add('colab-df-spinner');\n",
              "      try {\n",
              "        const charts = await google.colab.kernel.invokeFunction(\n",
              "            'suggestCharts', [key], {});\n",
              "      } catch (error) {\n",
              "        console.error('Error during call to suggestCharts:', error);\n",
              "      }\n",
              "      quickchartButtonEl.classList.remove('colab-df-spinner');\n",
              "      quickchartButtonEl.classList.add('colab-df-quickchart-complete');\n",
              "    }\n",
              "    (() => {\n",
              "      let quickchartButtonEl =\n",
              "        document.querySelector('#df-6dc5101d-827f-4ce2-861f-5fa7ec4e7655 button');\n",
              "      quickchartButtonEl.style.display =\n",
              "        google.colab.kernel.accessAllowed ? 'block' : 'none';\n",
              "    })();\n",
              "  </script>\n",
              "</div>\n",
              "    </div>\n",
              "  </div>\n"
            ],
            "application/vnd.google.colaboratory.intrinsic+json": {
              "type": "dataframe",
              "variable_name": "test_df"
            }
          },
          "metadata": {},
          "execution_count": 8
        }
      ],
      "source": [
        "test_df = pd.read_csv('/content/will_not_travel_again_data/data/test.csv')\n",
        "test_df.head()"
      ]
    },
    {
      "cell_type": "markdown",
      "metadata": {
        "id": "hEWWG7zDj0xj"
      },
      "source": [
        "**Data preprocessing**\n",
        "\n"
      ]
    },
    {
      "cell_type": "code",
      "execution_count": null,
      "metadata": {
        "id": "_ufwwCOGj2Id"
      },
      "outputs": [],
      "source": [
        "# TODO : Drop columns = ['user'] for both train and test sets\n",
        "train = train_df.drop(columns=['user'])\n",
        "test = test_df.drop(columns=['Unnamed: 0', 'user'])"
      ]
    },
    {
      "cell_type": "code",
      "execution_count": null,
      "metadata": {
        "colab": {
          "base_uri": "https://localhost:8080/"
        },
        "id": "IC_iwGCxj5Rt",
        "outputId": "91f6ccae-d3d2-4b97-8daa-8066948c68af"
      },
      "outputs": [
        {
          "output_type": "stream",
          "name": "stdout",
          "text": [
            "user_location_country          0\n",
            "user_location_region           0\n",
            "user_location_city             0\n",
            "destination_distance     2727207\n",
            "search_date                    0\n",
            "is_mobile                      0\n",
            "is_package                     0\n",
            "channel                        0\n",
            "search_count                   0\n",
            "checkIn_date               14292\n",
            "checkOut_date              14292\n",
            "n_adults                       0\n",
            "n_children                     0\n",
            "n_rooms                        0\n",
            "destination                    0\n",
            "destination_type               0\n",
            "hotel_continent                0\n",
            "hotel_country                  0\n",
            "hotel_market                   0\n",
            "hotel_category                 0\n",
            "is_booking                     0\n",
            "dtype: int64\n",
            "user_location_country        0\n",
            "user_location_region         0\n",
            "user_location_city           0\n",
            "destination_distance     98670\n",
            "search_date                  0\n",
            "is_mobile                    0\n",
            "is_package                   0\n",
            "channel                      0\n",
            "search_count                 0\n",
            "checkIn_date                 0\n",
            "checkOut_date                0\n",
            "n_adults                     0\n",
            "n_children                   0\n",
            "n_rooms                      0\n",
            "destination                  0\n",
            "destination_type             0\n",
            "hotel_continent              0\n",
            "hotel_country                0\n",
            "hotel_market                 0\n",
            "hotel_category               0\n",
            "dtype: int64\n"
          ]
        }
      ],
      "source": [
        "# Check for missing values\n",
        "\n",
        "print(train.isnull().sum())\n",
        "print(test.isnull().sum())"
      ]
    },
    {
      "cell_type": "markdown",
      "source": [
        "Handle missing values"
      ],
      "metadata": {
        "id": "jkq2kM2DPClh"
      }
    },
    {
      "cell_type": "code",
      "execution_count": null,
      "metadata": {
        "id": "0ymrqUFAkO8_"
      },
      "outputs": [],
      "source": [
        "# TODO : check is_booking where checkIn_date or checkOut_date is null\n",
        "missing_checkin = train['checkIn_date'].isnull().sum()\n",
        "missing_checkout = train['checkOut_date'].isnull().sum()\n",
        "\n",
        "checkin_target_0 = train[train['checkIn_date'].isnull()]['is_booking'].value_counts().get(0, 0) # pandas.Series.get(key, default=None) # 14292 number of zero\n",
        "checkin_ratio = checkin_target_0 / missing_checkin\n",
        "\n",
        "checkout_target_0 = train[train['checkOut_date'].isnull()]['is_booking'].value_counts().get(0, 0)\n",
        "checkout_ratio = checkout_target_0 / missing_checkout"
      ]
    },
    {
      "cell_type": "code",
      "execution_count": null,
      "metadata": {
        "id": "hcfYi8AakU1q"
      },
      "outputs": [],
      "source": [
        "#  checkIn_date\n",
        "if checkin_ratio >= 0.99:\n",
        "    train = train.dropna(subset=['checkIn_date'])\n",
        "else:\n",
        "    train['checkIn_date'].fillna(train['checkIn_date'].mode()[0], inplace=True)\n"
      ]
    },
    {
      "cell_type": "markdown",
      "metadata": {
        "id": "idIWfhD_kYHd"
      },
      "source": [
        "The ''destination_distance'' column represents the physical distance between the user and the hotel at the time of the search. Since we can say that the calculated distance between two cities is always constant or within a range, to fill in the missing values ​​representing this distance, we can use ''user_location_city'' and ''destination'', which represent the city ID of the user and the hotel searched for, so that the instances where the ''destination_distance'' column is missing are filled in with the average value ''destination_distance'' in the columns that ''user_location_city'' and ''destination'' are similar."
      ]
    },
    {
      "cell_type": "code",
      "execution_count": null,
      "metadata": {
        "id": "kD7H4HnOkcSH"
      },
      "outputs": [],
      "source": [
        "missing_destination_distance = train['destination_distance'].isnull().sum()"
      ]
    },
    {
      "cell_type": "code",
      "execution_count": null,
      "metadata": {
        "id": "aGIF5f_2O6oE"
      },
      "outputs": [],
      "source": [
        "mean_distance = train.groupby(['user_location_city', 'destination'])['destination_distance'].transform('mean')\n",
        "\n",
        "# Output: This will return a Series that has the same length as the original DataFrame train (having the same number of entries)\n",
        "# Each value in this series corresponds to the mean distance of each specific group\n",
        "\n",
        "# If we use ... .mean(), it will return a pandas Series with a multi-level index (the combination of user_location_city and destination) and the mean distance as values.\n",
        "# The length of this Series will be fewer than the original DataFrame since it only contains the unique combinations of the group by."
      ]
    },
    {
      "cell_type": "code",
      "execution_count": null,
      "metadata": {
        "colab": {
          "base_uri": "https://localhost:8080/"
        },
        "id": "37axn8v3kghU",
        "outputId": "59a06c15-0bd0-419a-b4fa-31de21ada9db"
      },
      "outputs": [
        {
          "output_type": "stream",
          "name": "stderr",
          "text": [
            "<ipython-input-15-c459faa597fe>:1: FutureWarning: A value is trying to be set on a copy of a DataFrame or Series through chained assignment using an inplace method.\n",
            "The behavior will change in pandas 3.0. This inplace method will never work because the intermediate object on which we are setting values always behaves as a copy.\n",
            "\n",
            "For example, when doing 'df[col].method(value, inplace=True)', try using 'df.method({col: value}, inplace=True)' or df[col] = df[col].method(value) instead, to perform the operation inplace on the original object.\n",
            "\n",
            "\n",
            "  train['destination_distance'].fillna(mean_distance, inplace=True)\n"
          ]
        }
      ],
      "source": [
        "train['destination_distance'].fillna(mean_distance, inplace=True)"
      ]
    },
    {
      "cell_type": "code",
      "execution_count": null,
      "metadata": {
        "colab": {
          "base_uri": "https://localhost:8080/"
        },
        "id": "PxGfDTESPa65",
        "outputId": "face3356-ab2a-4137-c01a-b4ec4f7b9140"
      },
      "outputs": [
        {
          "output_type": "stream",
          "name": "stderr",
          "text": [
            "<ipython-input-16-9cca930688f7>:1: FutureWarning: A value is trying to be set on a copy of a DataFrame or Series through chained assignment using an inplace method.\n",
            "The behavior will change in pandas 3.0. This inplace method will never work because the intermediate object on which we are setting values always behaves as a copy.\n",
            "\n",
            "For example, when doing 'df[col].method(value, inplace=True)', try using 'df.method({col: value}, inplace=True)' or df[col] = df[col].method(value) instead, to perform the operation inplace on the original object.\n",
            "\n",
            "\n",
            "  test['destination_distance'].fillna(mean_distance, inplace=True)\n"
          ]
        }
      ],
      "source": [
        "test['destination_distance'].fillna(mean_distance, inplace=True)"
      ]
    },
    {
      "cell_type": "code",
      "execution_count": null,
      "metadata": {
        "colab": {
          "base_uri": "https://localhost:8080/"
        },
        "id": "02TcQiBMV4YY",
        "outputId": "da3299af-5cac-49e6-ebc8-44f80c862e88"
      },
      "outputs": [
        {
          "output_type": "stream",
          "name": "stdout",
          "text": [
            "2537339\n",
            "33277\n"
          ]
        }
      ],
      "source": [
        "# Check how many missing values remain\n",
        "print(train['destination_distance'].isnull().sum())\n",
        "print(test['destination_distance'].isnull().sum())"
      ]
    },
    {
      "cell_type": "markdown",
      "metadata": {
        "id": "CVLbYh9Lkm_2"
      },
      "source": [
        "Now for other missing items we use a number like 0 which is not used in this column."
      ]
    },
    {
      "cell_type": "code",
      "execution_count": null,
      "metadata": {
        "colab": {
          "base_uri": "https://localhost:8080/",
          "height": 99
        },
        "id": "js15Tc_hkju3",
        "outputId": "0eaa3e9f-2012-4fd9-82d8-197ea9308293"
      },
      "outputs": [
        {
          "output_type": "execute_result",
          "data": {
            "text/plain": [
              "Empty DataFrame\n",
              "Columns: [user_location_country, user_location_region, user_location_city, destination_distance, search_date, is_mobile, is_package, channel, search_count, checkIn_date, checkOut_date, n_adults, n_children, n_rooms, destination, destination_type, hotel_continent, hotel_country, hotel_market, hotel_category, is_booking]\n",
              "Index: []\n",
              "\n",
              "[0 rows x 21 columns]"
            ],
            "text/html": [
              "\n",
              "  <div id=\"df-f11bcfdd-d698-44cd-a324-c8c99ac17b7b\" class=\"colab-df-container\">\n",
              "    <div>\n",
              "<style scoped>\n",
              "    .dataframe tbody tr th:only-of-type {\n",
              "        vertical-align: middle;\n",
              "    }\n",
              "\n",
              "    .dataframe tbody tr th {\n",
              "        vertical-align: top;\n",
              "    }\n",
              "\n",
              "    .dataframe thead th {\n",
              "        text-align: right;\n",
              "    }\n",
              "</style>\n",
              "<table border=\"1\" class=\"dataframe\">\n",
              "  <thead>\n",
              "    <tr style=\"text-align: right;\">\n",
              "      <th></th>\n",
              "      <th>user_location_country</th>\n",
              "      <th>user_location_region</th>\n",
              "      <th>user_location_city</th>\n",
              "      <th>destination_distance</th>\n",
              "      <th>search_date</th>\n",
              "      <th>is_mobile</th>\n",
              "      <th>is_package</th>\n",
              "      <th>channel</th>\n",
              "      <th>search_count</th>\n",
              "      <th>checkIn_date</th>\n",
              "      <th>...</th>\n",
              "      <th>n_adults</th>\n",
              "      <th>n_children</th>\n",
              "      <th>n_rooms</th>\n",
              "      <th>destination</th>\n",
              "      <th>destination_type</th>\n",
              "      <th>hotel_continent</th>\n",
              "      <th>hotel_country</th>\n",
              "      <th>hotel_market</th>\n",
              "      <th>hotel_category</th>\n",
              "      <th>is_booking</th>\n",
              "    </tr>\n",
              "  </thead>\n",
              "  <tbody>\n",
              "  </tbody>\n",
              "</table>\n",
              "<p>0 rows × 21 columns</p>\n",
              "</div>\n",
              "    <div class=\"colab-df-buttons\">\n",
              "\n",
              "  <div class=\"colab-df-container\">\n",
              "    <button class=\"colab-df-convert\" onclick=\"convertToInteractive('df-f11bcfdd-d698-44cd-a324-c8c99ac17b7b')\"\n",
              "            title=\"Convert this dataframe to an interactive table.\"\n",
              "            style=\"display:none;\">\n",
              "\n",
              "  <svg xmlns=\"http://www.w3.org/2000/svg\" height=\"24px\" viewBox=\"0 -960 960 960\">\n",
              "    <path d=\"M120-120v-720h720v720H120Zm60-500h600v-160H180v160Zm220 220h160v-160H400v160Zm0 220h160v-160H400v160ZM180-400h160v-160H180v160Zm440 0h160v-160H620v160ZM180-180h160v-160H180v160Zm440 0h160v-160H620v160Z\"/>\n",
              "  </svg>\n",
              "    </button>\n",
              "\n",
              "  <style>\n",
              "    .colab-df-container {\n",
              "      display:flex;\n",
              "      gap: 12px;\n",
              "    }\n",
              "\n",
              "    .colab-df-convert {\n",
              "      background-color: #E8F0FE;\n",
              "      border: none;\n",
              "      border-radius: 50%;\n",
              "      cursor: pointer;\n",
              "      display: none;\n",
              "      fill: #1967D2;\n",
              "      height: 32px;\n",
              "      padding: 0 0 0 0;\n",
              "      width: 32px;\n",
              "    }\n",
              "\n",
              "    .colab-df-convert:hover {\n",
              "      background-color: #E2EBFA;\n",
              "      box-shadow: 0px 1px 2px rgba(60, 64, 67, 0.3), 0px 1px 3px 1px rgba(60, 64, 67, 0.15);\n",
              "      fill: #174EA6;\n",
              "    }\n",
              "\n",
              "    .colab-df-buttons div {\n",
              "      margin-bottom: 4px;\n",
              "    }\n",
              "\n",
              "    [theme=dark] .colab-df-convert {\n",
              "      background-color: #3B4455;\n",
              "      fill: #D2E3FC;\n",
              "    }\n",
              "\n",
              "    [theme=dark] .colab-df-convert:hover {\n",
              "      background-color: #434B5C;\n",
              "      box-shadow: 0px 1px 3px 1px rgba(0, 0, 0, 0.15);\n",
              "      filter: drop-shadow(0px 1px 2px rgba(0, 0, 0, 0.3));\n",
              "      fill: #FFFFFF;\n",
              "    }\n",
              "  </style>\n",
              "\n",
              "    <script>\n",
              "      const buttonEl =\n",
              "        document.querySelector('#df-f11bcfdd-d698-44cd-a324-c8c99ac17b7b button.colab-df-convert');\n",
              "      buttonEl.style.display =\n",
              "        google.colab.kernel.accessAllowed ? 'block' : 'none';\n",
              "\n",
              "      async function convertToInteractive(key) {\n",
              "        const element = document.querySelector('#df-f11bcfdd-d698-44cd-a324-c8c99ac17b7b');\n",
              "        const dataTable =\n",
              "          await google.colab.kernel.invokeFunction('convertToInteractive',\n",
              "                                                    [key], {});\n",
              "        if (!dataTable) return;\n",
              "\n",
              "        const docLinkHtml = 'Like what you see? Visit the ' +\n",
              "          '<a target=\"_blank\" href=https://colab.research.google.com/notebooks/data_table.ipynb>data table notebook</a>'\n",
              "          + ' to learn more about interactive tables.';\n",
              "        element.innerHTML = '';\n",
              "        dataTable['output_type'] = 'display_data';\n",
              "        await google.colab.output.renderOutput(dataTable, element);\n",
              "        const docLink = document.createElement('div');\n",
              "        docLink.innerHTML = docLinkHtml;\n",
              "        element.appendChild(docLink);\n",
              "      }\n",
              "    </script>\n",
              "  </div>\n",
              "\n",
              "    </div>\n",
              "  </div>\n"
            ],
            "application/vnd.google.colaboratory.intrinsic+json": {
              "type": "dataframe"
            }
          },
          "metadata": {},
          "execution_count": 18
        }
      ],
      "source": [
        "train[train['destination_distance'] == 0]"
      ]
    },
    {
      "cell_type": "code",
      "execution_count": null,
      "metadata": {
        "colab": {
          "base_uri": "https://localhost:8080/"
        },
        "id": "tbbmmZ8Tkpq2",
        "outputId": "0697579a-ed40-40a1-97de-cfa6322183a6"
      },
      "outputs": [
        {
          "output_type": "stream",
          "name": "stderr",
          "text": [
            "<ipython-input-19-67dfe7a30efd>:1: FutureWarning: A value is trying to be set on a copy of a DataFrame or Series through chained assignment using an inplace method.\n",
            "The behavior will change in pandas 3.0. This inplace method will never work because the intermediate object on which we are setting values always behaves as a copy.\n",
            "\n",
            "For example, when doing 'df[col].method(value, inplace=True)', try using 'df.method({col: value}, inplace=True)' or df[col] = df[col].method(value) instead, to perform the operation inplace on the original object.\n",
            "\n",
            "\n",
            "  train['destination_distance'].fillna(0, inplace=True) #TODO\n",
            "<ipython-input-19-67dfe7a30efd>:2: FutureWarning: A value is trying to be set on a copy of a DataFrame or Series through chained assignment using an inplace method.\n",
            "The behavior will change in pandas 3.0. This inplace method will never work because the intermediate object on which we are setting values always behaves as a copy.\n",
            "\n",
            "For example, when doing 'df[col].method(value, inplace=True)', try using 'df.method({col: value}, inplace=True)' or df[col] = df[col].method(value) instead, to perform the operation inplace on the original object.\n",
            "\n",
            "\n",
            "  test['destination_distance'].fillna(0, inplace=True) #TODO\n"
          ]
        }
      ],
      "source": [
        "train['destination_distance'].fillna(0, inplace=True) #TODO\n",
        "test['destination_distance'].fillna(0, inplace=True) #TODO"
      ]
    },
    {
      "cell_type": "markdown",
      "source": [
        "Date type data"
      ],
      "metadata": {
        "id": "zwaTBVcIPJ-Y"
      }
    },
    {
      "cell_type": "code",
      "execution_count": null,
      "metadata": {
        "id": "LHBLEh23k3rg"
      },
      "outputs": [],
      "source": [
        "# search_date, checkIn_date, checkOut_date\n",
        "# TODO : change type of these columns in time_columns into datetime64[ns]\n",
        "\n",
        "time_columns = ['search_date', 'checkIn_date', 'checkOut_date']\n",
        "for col in time_columns:\n",
        "  train[col] = pd.to_datetime(train[col])\n",
        "  test[col] = pd.to_datetime(test[col])"
      ]
    },
    {
      "cell_type": "code",
      "execution_count": null,
      "metadata": {
        "id": "S3qIzeCjk-vE"
      },
      "outputs": [],
      "source": [
        "# TODO : Add Days of Stay\n",
        "\n",
        "train['duration'] = train['checkOut_date'] - train['checkIn_date']\n",
        "train['duration'] = train['duration'].dt.days\n",
        "\n",
        "test['duration'] = test['checkOut_date'] - test['checkIn_date']\n",
        "test['duration'] = test['duration'].dt.days"
      ]
    },
    {
      "cell_type": "code",
      "execution_count": null,
      "metadata": {
        "id": "7iqjme9gZ0H4"
      },
      "outputs": [],
      "source": [
        "# TODO : Add Days between search_date and checkIn_date\n",
        "\n",
        "train['days_between'] = (train['checkIn_date'] - train['search_date']).dt.days\n",
        "test['days_between'] = (test['checkIn_date'] - test['search_date']).dt.days"
      ]
    },
    {
      "cell_type": "code",
      "execution_count": null,
      "metadata": {
        "id": "3zJ_339ClFw2"
      },
      "outputs": [],
      "source": [
        "train['search_date_hour'] = train['search_date'].dt.hour\n",
        "train['search_date_dayofweek'] = train['search_date'].dt.day_of_week\n",
        "train['checkIn_date_dayofweek'] = train['checkIn_date'].dt.day_of_week\n",
        "\n",
        "train['search_date_year'] = train['search_date'].dt.year\n",
        "train['search_date_month'] = train['search_date'].dt.month\n",
        "train['checkIn_date_year'] = train['checkIn_date'].dt.year\n",
        "train['checkIn_date_month'] = train['checkIn_date'].dt.month\n",
        "\n",
        "\n",
        "\n",
        "test['search_date_hour'] = test['search_date'].dt.hour\n",
        "test['search_date_dayofweek'] = test['search_date'].dt.day_of_week\n",
        "test['checkIn_date_dayofweek'] = test['checkIn_date'].dt.day_of_week\n",
        "\n",
        "test['search_date_year'] = test['search_date'].dt.year\n",
        "test['search_date_month'] = test['search_date'].dt.month\n",
        "test['checkIn_date_year'] = test['checkIn_date'].dt.year\n",
        "test['checkIn_date_month'] = test['checkIn_date'].dt.month"
      ]
    },
    {
      "cell_type": "markdown",
      "metadata": {
        "id": "CtjwLVdGlMcu"
      },
      "source": [
        "Now, to examine the relationship between the features we obtained in the previous step and the target variable (whether the search resulted in a hotel reservation), create two data frames based on the training dataset, so that the first data frame includes only the examples that resulted in a reservation and the second data frame includes only the examples that did not result in a reservation."
      ]
    },
    {
      "cell_type": "code",
      "execution_count": null,
      "metadata": {
        "id": "EzePdsy-lNDm"
      },
      "outputs": [],
      "source": [
        "is_booked = train[train['is_booking'] == 1]\n",
        "not_booked = train[train['is_booking'] == 0]"
      ]
    },
    {
      "cell_type": "code",
      "source": [
        "# ذخیره‌ فایل DataFrame به عنوان CSV\n",
        "train.to_csv('/content/drive/My Drive/saved_data.csv', index=False)\n",
        "test.to_csv('/content/drive/My Drive/saved_testdata.csv', index=False)"
      ],
      "metadata": {
        "id": "2H6q0cNIJPvC"
      },
      "execution_count": null,
      "outputs": []
    },
    {
      "cell_type": "markdown",
      "metadata": {
        "id": "k8Qn9V0PlPPQ"
      },
      "source": [
        "**Visualization**"
      ]
    },
    {
      "cell_type": "markdown",
      "metadata": {
        "id": "GPCgFEaplU_M"
      },
      "source": [
        "A bar chart showing the relationship between the percentage of searches that resulted in hotel reservations and those that did not (each relative to their own category) at different times of day."
      ]
    },
    {
      "cell_type": "code",
      "execution_count": null,
      "metadata": {
        "id": "oo_jGYIdilk2"
      },
      "outputs": [],
      "source": [
        "hourly_search_percentage_notbooked = not_booked['search_date_hour'].value_counts().sort_index()/len(not_booked)\n",
        "hourly_search_percentage_booked = is_booked['search_date_hour'].value_counts().sort_index()/len(is_booked)"
      ]
    },
    {
      "cell_type": "code",
      "execution_count": null,
      "metadata": {
        "colab": {
          "base_uri": "https://localhost:8080/",
          "height": 542
        },
        "id": "rWM9T8hFlSNA",
        "outputId": "1a90e45e-c6ae-4f60-d390-ea19d3c3f642"
      },
      "outputs": [
        {
          "output_type": "display_data",
          "data": {
            "text/html": [
              "<html>\n",
              "<head><meta charset=\"utf-8\" /></head>\n",
              "<body>\n",
              "    <div>            <script src=\"https://cdnjs.cloudflare.com/ajax/libs/mathjax/2.7.5/MathJax.js?config=TeX-AMS-MML_SVG\"></script><script type=\"text/javascript\">if (window.MathJax && window.MathJax.Hub && window.MathJax.Hub.Config) {window.MathJax.Hub.Config({SVG: {font: \"STIX-Web\"}});}</script>                <script type=\"text/javascript\">window.PlotlyConfig = {MathJaxConfig: 'local'};</script>\n",
              "        <script charset=\"utf-8\" src=\"https://cdn.plot.ly/plotly-2.35.2.min.js\"></script>                <div id=\"43e061ba-5a38-462f-839f-f37e1780e1c0\" class=\"plotly-graph-div\" style=\"height:525px; width:100%;\"></div>            <script type=\"text/javascript\">                                    window.PLOTLYENV=window.PLOTLYENV || {};                                    if (document.getElementById(\"43e061ba-5a38-462f-839f-f37e1780e1c0\")) {                    Plotly.newPlot(                        \"43e061ba-5a38-462f-839f-f37e1780e1c0\",                        [{\"name\":\"Booked\",\"y\":[0.0172285368510592,0.012442076731427915,0.009802573628840839,0.009264701216407526,0.011952552401011078,0.018588326657772634,0.029247567864842935,0.0406214541592193,0.04955225143420053,0.05630738501844026,0.06209706783991346,0.06542704198879835,0.06372428297528053,0.06249442863898638,0.06108024724000441,0.057887762949353876,0.05645394014205271,0.056065644608357876,0.054937019068785724,0.05345333730190507,0.04909747728773303,0.04198577659862178,0.03462629198917607,0.025662255407808518],\"type\":\"bar\"},{\"name\":\"Not Booked\",\"y\":[0.02098723722048626,0.013849316545462894,0.010303532209820263,0.009772211570698106,0.01217877305670304,0.018181501491109413,0.027303201555930242,0.03675555551077101,0.04437268680829171,0.05054470082156767,0.056007327647199644,0.0589381562065405,0.05858850087399438,0.05785305867803797,0.05669137957814206,0.05538531830511163,0.056713979778722445,0.0588215564455844,0.060192539313912614,0.05950762368103718,0.055852293150224684,0.04964515525833973,0.04105808669005092,0.03049630760226123],\"type\":\"bar\"}],                        {\"xaxis\":{\"automargin\":true,\"tickangle\":45,\"title\":{\"text\":\"Search Hour\"}},\"yaxis\":{\"title\":{\"text\":\"Frequency\"}},\"template\":{\"data\":{\"histogram2dcontour\":[{\"type\":\"histogram2dcontour\",\"colorbar\":{\"outlinewidth\":0,\"ticks\":\"\"},\"colorscale\":[[0.0,\"#0d0887\"],[0.1111111111111111,\"#46039f\"],[0.2222222222222222,\"#7201a8\"],[0.3333333333333333,\"#9c179e\"],[0.4444444444444444,\"#bd3786\"],[0.5555555555555556,\"#d8576b\"],[0.6666666666666666,\"#ed7953\"],[0.7777777777777778,\"#fb9f3a\"],[0.8888888888888888,\"#fdca26\"],[1.0,\"#f0f921\"]]}],\"choropleth\":[{\"type\":\"choropleth\",\"colorbar\":{\"outlinewidth\":0,\"ticks\":\"\"}}],\"histogram2d\":[{\"type\":\"histogram2d\",\"colorbar\":{\"outlinewidth\":0,\"ticks\":\"\"},\"colorscale\":[[0.0,\"#0d0887\"],[0.1111111111111111,\"#46039f\"],[0.2222222222222222,\"#7201a8\"],[0.3333333333333333,\"#9c179e\"],[0.4444444444444444,\"#bd3786\"],[0.5555555555555556,\"#d8576b\"],[0.6666666666666666,\"#ed7953\"],[0.7777777777777778,\"#fb9f3a\"],[0.8888888888888888,\"#fdca26\"],[1.0,\"#f0f921\"]]}],\"heatmap\":[{\"type\":\"heatmap\",\"colorbar\":{\"outlinewidth\":0,\"ticks\":\"\"},\"colorscale\":[[0.0,\"#0d0887\"],[0.1111111111111111,\"#46039f\"],[0.2222222222222222,\"#7201a8\"],[0.3333333333333333,\"#9c179e\"],[0.4444444444444444,\"#bd3786\"],[0.5555555555555556,\"#d8576b\"],[0.6666666666666666,\"#ed7953\"],[0.7777777777777778,\"#fb9f3a\"],[0.8888888888888888,\"#fdca26\"],[1.0,\"#f0f921\"]]}],\"heatmapgl\":[{\"type\":\"heatmapgl\",\"colorbar\":{\"outlinewidth\":0,\"ticks\":\"\"},\"colorscale\":[[0.0,\"#0d0887\"],[0.1111111111111111,\"#46039f\"],[0.2222222222222222,\"#7201a8\"],[0.3333333333333333,\"#9c179e\"],[0.4444444444444444,\"#bd3786\"],[0.5555555555555556,\"#d8576b\"],[0.6666666666666666,\"#ed7953\"],[0.7777777777777778,\"#fb9f3a\"],[0.8888888888888888,\"#fdca26\"],[1.0,\"#f0f921\"]]}],\"contourcarpet\":[{\"type\":\"contourcarpet\",\"colorbar\":{\"outlinewidth\":0,\"ticks\":\"\"}}],\"contour\":[{\"type\":\"contour\",\"colorbar\":{\"outlinewidth\":0,\"ticks\":\"\"},\"colorscale\":[[0.0,\"#0d0887\"],[0.1111111111111111,\"#46039f\"],[0.2222222222222222,\"#7201a8\"],[0.3333333333333333,\"#9c179e\"],[0.4444444444444444,\"#bd3786\"],[0.5555555555555556,\"#d8576b\"],[0.6666666666666666,\"#ed7953\"],[0.7777777777777778,\"#fb9f3a\"],[0.8888888888888888,\"#fdca26\"],[1.0,\"#f0f921\"]]}],\"surface\":[{\"type\":\"surface\",\"colorbar\":{\"outlinewidth\":0,\"ticks\":\"\"},\"colorscale\":[[0.0,\"#0d0887\"],[0.1111111111111111,\"#46039f\"],[0.2222222222222222,\"#7201a8\"],[0.3333333333333333,\"#9c179e\"],[0.4444444444444444,\"#bd3786\"],[0.5555555555555556,\"#d8576b\"],[0.6666666666666666,\"#ed7953\"],[0.7777777777777778,\"#fb9f3a\"],[0.8888888888888888,\"#fdca26\"],[1.0,\"#f0f921\"]]}],\"mesh3d\":[{\"type\":\"mesh3d\",\"colorbar\":{\"outlinewidth\":0,\"ticks\":\"\"}}],\"scatter\":[{\"fillpattern\":{\"fillmode\":\"overlay\",\"size\":10,\"solidity\":0.2},\"type\":\"scatter\"}],\"parcoords\":[{\"type\":\"parcoords\",\"line\":{\"colorbar\":{\"outlinewidth\":0,\"ticks\":\"\"}}}],\"scatterpolargl\":[{\"type\":\"scatterpolargl\",\"marker\":{\"colorbar\":{\"outlinewidth\":0,\"ticks\":\"\"}}}],\"bar\":[{\"error_x\":{\"color\":\"#2a3f5f\"},\"error_y\":{\"color\":\"#2a3f5f\"},\"marker\":{\"line\":{\"color\":\"#E5ECF6\",\"width\":0.5},\"pattern\":{\"fillmode\":\"overlay\",\"size\":10,\"solidity\":0.2}},\"type\":\"bar\"}],\"scattergeo\":[{\"type\":\"scattergeo\",\"marker\":{\"colorbar\":{\"outlinewidth\":0,\"ticks\":\"\"}}}],\"scatterpolar\":[{\"type\":\"scatterpolar\",\"marker\":{\"colorbar\":{\"outlinewidth\":0,\"ticks\":\"\"}}}],\"histogram\":[{\"marker\":{\"pattern\":{\"fillmode\":\"overlay\",\"size\":10,\"solidity\":0.2}},\"type\":\"histogram\"}],\"scattergl\":[{\"type\":\"scattergl\",\"marker\":{\"colorbar\":{\"outlinewidth\":0,\"ticks\":\"\"}}}],\"scatter3d\":[{\"type\":\"scatter3d\",\"line\":{\"colorbar\":{\"outlinewidth\":0,\"ticks\":\"\"}},\"marker\":{\"colorbar\":{\"outlinewidth\":0,\"ticks\":\"\"}}}],\"scattermapbox\":[{\"type\":\"scattermapbox\",\"marker\":{\"colorbar\":{\"outlinewidth\":0,\"ticks\":\"\"}}}],\"scatterternary\":[{\"type\":\"scatterternary\",\"marker\":{\"colorbar\":{\"outlinewidth\":0,\"ticks\":\"\"}}}],\"scattercarpet\":[{\"type\":\"scattercarpet\",\"marker\":{\"colorbar\":{\"outlinewidth\":0,\"ticks\":\"\"}}}],\"carpet\":[{\"aaxis\":{\"endlinecolor\":\"#2a3f5f\",\"gridcolor\":\"white\",\"linecolor\":\"white\",\"minorgridcolor\":\"white\",\"startlinecolor\":\"#2a3f5f\"},\"baxis\":{\"endlinecolor\":\"#2a3f5f\",\"gridcolor\":\"white\",\"linecolor\":\"white\",\"minorgridcolor\":\"white\",\"startlinecolor\":\"#2a3f5f\"},\"type\":\"carpet\"}],\"table\":[{\"cells\":{\"fill\":{\"color\":\"#EBF0F8\"},\"line\":{\"color\":\"white\"}},\"header\":{\"fill\":{\"color\":\"#C8D4E3\"},\"line\":{\"color\":\"white\"}},\"type\":\"table\"}],\"barpolar\":[{\"marker\":{\"line\":{\"color\":\"#E5ECF6\",\"width\":0.5},\"pattern\":{\"fillmode\":\"overlay\",\"size\":10,\"solidity\":0.2}},\"type\":\"barpolar\"}],\"pie\":[{\"automargin\":true,\"type\":\"pie\"}]},\"layout\":{\"autotypenumbers\":\"strict\",\"colorway\":[\"#636efa\",\"#EF553B\",\"#00cc96\",\"#ab63fa\",\"#FFA15A\",\"#19d3f3\",\"#FF6692\",\"#B6E880\",\"#FF97FF\",\"#FECB52\"],\"font\":{\"color\":\"#2a3f5f\"},\"hovermode\":\"closest\",\"hoverlabel\":{\"align\":\"left\"},\"paper_bgcolor\":\"white\",\"plot_bgcolor\":\"#E5ECF6\",\"polar\":{\"bgcolor\":\"#E5ECF6\",\"angularaxis\":{\"gridcolor\":\"white\",\"linecolor\":\"white\",\"ticks\":\"\"},\"radialaxis\":{\"gridcolor\":\"white\",\"linecolor\":\"white\",\"ticks\":\"\"}},\"ternary\":{\"bgcolor\":\"#E5ECF6\",\"aaxis\":{\"gridcolor\":\"white\",\"linecolor\":\"white\",\"ticks\":\"\"},\"baxis\":{\"gridcolor\":\"white\",\"linecolor\":\"white\",\"ticks\":\"\"},\"caxis\":{\"gridcolor\":\"white\",\"linecolor\":\"white\",\"ticks\":\"\"}},\"coloraxis\":{\"colorbar\":{\"outlinewidth\":0,\"ticks\":\"\"}},\"colorscale\":{\"sequential\":[[0.0,\"#0d0887\"],[0.1111111111111111,\"#46039f\"],[0.2222222222222222,\"#7201a8\"],[0.3333333333333333,\"#9c179e\"],[0.4444444444444444,\"#bd3786\"],[0.5555555555555556,\"#d8576b\"],[0.6666666666666666,\"#ed7953\"],[0.7777777777777778,\"#fb9f3a\"],[0.8888888888888888,\"#fdca26\"],[1.0,\"#f0f921\"]],\"sequentialminus\":[[0.0,\"#0d0887\"],[0.1111111111111111,\"#46039f\"],[0.2222222222222222,\"#7201a8\"],[0.3333333333333333,\"#9c179e\"],[0.4444444444444444,\"#bd3786\"],[0.5555555555555556,\"#d8576b\"],[0.6666666666666666,\"#ed7953\"],[0.7777777777777778,\"#fb9f3a\"],[0.8888888888888888,\"#fdca26\"],[1.0,\"#f0f921\"]],\"diverging\":[[0,\"#8e0152\"],[0.1,\"#c51b7d\"],[0.2,\"#de77ae\"],[0.3,\"#f1b6da\"],[0.4,\"#fde0ef\"],[0.5,\"#f7f7f7\"],[0.6,\"#e6f5d0\"],[0.7,\"#b8e186\"],[0.8,\"#7fbc41\"],[0.9,\"#4d9221\"],[1,\"#276419\"]]},\"xaxis\":{\"gridcolor\":\"white\",\"linecolor\":\"white\",\"ticks\":\"\",\"title\":{\"standoff\":15},\"zerolinecolor\":\"white\",\"automargin\":true,\"zerolinewidth\":2},\"yaxis\":{\"gridcolor\":\"white\",\"linecolor\":\"white\",\"ticks\":\"\",\"title\":{\"standoff\":15},\"zerolinecolor\":\"white\",\"automargin\":true,\"zerolinewidth\":2},\"scene\":{\"xaxis\":{\"backgroundcolor\":\"#E5ECF6\",\"gridcolor\":\"white\",\"linecolor\":\"white\",\"showbackground\":true,\"ticks\":\"\",\"zerolinecolor\":\"white\",\"gridwidth\":2},\"yaxis\":{\"backgroundcolor\":\"#E5ECF6\",\"gridcolor\":\"white\",\"linecolor\":\"white\",\"showbackground\":true,\"ticks\":\"\",\"zerolinecolor\":\"white\",\"gridwidth\":2},\"zaxis\":{\"backgroundcolor\":\"#E5ECF6\",\"gridcolor\":\"white\",\"linecolor\":\"white\",\"showbackground\":true,\"ticks\":\"\",\"zerolinecolor\":\"white\",\"gridwidth\":2}},\"shapedefaults\":{\"line\":{\"color\":\"#2a3f5f\"}},\"annotationdefaults\":{\"arrowcolor\":\"#2a3f5f\",\"arrowhead\":0,\"arrowwidth\":1},\"geo\":{\"bgcolor\":\"white\",\"landcolor\":\"#E5ECF6\",\"subunitcolor\":\"white\",\"showland\":true,\"showlakes\":true,\"lakecolor\":\"white\"},\"title\":{\"x\":0.05},\"mapbox\":{\"style\":\"light\"}}}},                        {\"responsive\": true}                    ).then(function(){\n",
              "                            \n",
              "var gd = document.getElementById('43e061ba-5a38-462f-839f-f37e1780e1c0');\n",
              "var x = new MutationObserver(function (mutations, observer) {{\n",
              "        var display = window.getComputedStyle(gd).display;\n",
              "        if (!display || display === 'none') {{\n",
              "            console.log([gd, 'removed!']);\n",
              "            Plotly.purge(gd);\n",
              "            observer.disconnect();\n",
              "        }}\n",
              "}});\n",
              "\n",
              "// Listen for the removal of the full notebook cells\n",
              "var notebookContainer = gd.closest('#notebook-container');\n",
              "if (notebookContainer) {{\n",
              "    x.observe(notebookContainer, {childList: true});\n",
              "}}\n",
              "\n",
              "// Listen for the clearing of the current output cell\n",
              "var outputEl = gd.closest('.output');\n",
              "if (outputEl) {{\n",
              "    x.observe(outputEl, {childList: true});\n",
              "}}\n",
              "\n",
              "                        })                };                            </script>        </div>\n",
              "</body>\n",
              "</html>"
            ]
          },
          "metadata": {}
        }
      ],
      "source": [
        "import plotly.graph_objects as go\n",
        "\n",
        "trace_not_booked = go.Bar(y = hourly_search_percentage_notbooked, name='Not Booked') # TODO\n",
        "trace_is_booked = go.Bar(y = hourly_search_percentage_booked, name='Booked') # TODO\n",
        "\n",
        "data = [trace_is_booked, trace_not_booked]\n",
        "\n",
        "layout = go.Layout(\n",
        "    xaxis=dict(title='Search Hour', tickangle=45, automargin=True),\n",
        "    yaxis=dict(title='Frequency')\n",
        ")\n",
        "\n",
        "fig = go.Figure(data=data, layout=layout)\n",
        "fig.show()\n",
        "fig.write_json('./search_hour.json')"
      ]
    },
    {
      "cell_type": "markdown",
      "metadata": {
        "id": "QFy-x-ra-ZDb"
      },
      "source": [
        "A bar chart for the check in day"
      ]
    },
    {
      "cell_type": "code",
      "execution_count": null,
      "metadata": {
        "id": "_-spKqJAtzCE"
      },
      "outputs": [],
      "source": [
        "daily_search_percentage_notbooked = not_booked['checkIn_date_dayofweek'].value_counts().sort_index()/len(not_booked)\n",
        "daily_search_percentage_booked = is_booked['checkIn_date_dayofweek'].value_counts().sort_index()/len(is_booked)"
      ]
    },
    {
      "cell_type": "code",
      "execution_count": null,
      "metadata": {
        "colab": {
          "base_uri": "https://localhost:8080/",
          "height": 542
        },
        "id": "wT-rPzIClYm1",
        "outputId": "c338e427-ada2-4913-f087-bc198ebf3a4f"
      },
      "outputs": [
        {
          "output_type": "display_data",
          "data": {
            "text/html": [
              "<html>\n",
              "<head><meta charset=\"utf-8\" /></head>\n",
              "<body>\n",
              "    <div>            <script src=\"https://cdnjs.cloudflare.com/ajax/libs/mathjax/2.7.5/MathJax.js?config=TeX-AMS-MML_SVG\"></script><script type=\"text/javascript\">if (window.MathJax && window.MathJax.Hub && window.MathJax.Hub.Config) {window.MathJax.Hub.Config({SVG: {font: \"STIX-Web\"}});}</script>                <script type=\"text/javascript\">window.PlotlyConfig = {MathJaxConfig: 'local'};</script>\n",
              "        <script charset=\"utf-8\" src=\"https://cdn.plot.ly/plotly-2.35.2.min.js\"></script>                <div id=\"19c99743-e152-44b7-a2e3-94ac8f5cb1fd\" class=\"plotly-graph-div\" style=\"height:525px; width:100%;\"></div>            <script type=\"text/javascript\">                                    window.PLOTLYENV=window.PLOTLYENV || {};                                    if (document.getElementById(\"19c99743-e152-44b7-a2e3-94ac8f5cb1fd\")) {                    Plotly.newPlot(                        \"19c99743-e152-44b7-a2e3-94ac8f5cb1fd\",                        [{\"name\":\"Booked\",\"y\":[0.13295118203506143,0.12222546221521846,0.12909844424937336,0.14494754988539993,0.18271646720564705,0.1585605567281644,0.12950033768113534],\"type\":\"bar\"},{\"name\":\"Not Booked\",\"y\":[0.1183309075304876,0.10949912341451316,0.1275431523479521,0.15283392839997345,0.1973995086399703,0.1699268775548483,0.12446650211225506],\"type\":\"bar\"}],                        {\"xaxis\":{\"automargin\":true,\"tickangle\":45,\"ticktext\":[\"دوشنبه\",\"سه‌شنبه\",\"چهارشنبه\",\"پنج‌شنبه\",\"جمعه\",\"شنبه\",\"یکشنبه\"],\"tickvals\":[0,1,2,3,4,5,6],\"title\":{\"text\":\"Day of Week\"}},\"yaxis\":{\"title\":{\"text\":\"Frequency\"}},\"template\":{\"data\":{\"histogram2dcontour\":[{\"type\":\"histogram2dcontour\",\"colorbar\":{\"outlinewidth\":0,\"ticks\":\"\"},\"colorscale\":[[0.0,\"#0d0887\"],[0.1111111111111111,\"#46039f\"],[0.2222222222222222,\"#7201a8\"],[0.3333333333333333,\"#9c179e\"],[0.4444444444444444,\"#bd3786\"],[0.5555555555555556,\"#d8576b\"],[0.6666666666666666,\"#ed7953\"],[0.7777777777777778,\"#fb9f3a\"],[0.8888888888888888,\"#fdca26\"],[1.0,\"#f0f921\"]]}],\"choropleth\":[{\"type\":\"choropleth\",\"colorbar\":{\"outlinewidth\":0,\"ticks\":\"\"}}],\"histogram2d\":[{\"type\":\"histogram2d\",\"colorbar\":{\"outlinewidth\":0,\"ticks\":\"\"},\"colorscale\":[[0.0,\"#0d0887\"],[0.1111111111111111,\"#46039f\"],[0.2222222222222222,\"#7201a8\"],[0.3333333333333333,\"#9c179e\"],[0.4444444444444444,\"#bd3786\"],[0.5555555555555556,\"#d8576b\"],[0.6666666666666666,\"#ed7953\"],[0.7777777777777778,\"#fb9f3a\"],[0.8888888888888888,\"#fdca26\"],[1.0,\"#f0f921\"]]}],\"heatmap\":[{\"type\":\"heatmap\",\"colorbar\":{\"outlinewidth\":0,\"ticks\":\"\"},\"colorscale\":[[0.0,\"#0d0887\"],[0.1111111111111111,\"#46039f\"],[0.2222222222222222,\"#7201a8\"],[0.3333333333333333,\"#9c179e\"],[0.4444444444444444,\"#bd3786\"],[0.5555555555555556,\"#d8576b\"],[0.6666666666666666,\"#ed7953\"],[0.7777777777777778,\"#fb9f3a\"],[0.8888888888888888,\"#fdca26\"],[1.0,\"#f0f921\"]]}],\"heatmapgl\":[{\"type\":\"heatmapgl\",\"colorbar\":{\"outlinewidth\":0,\"ticks\":\"\"},\"colorscale\":[[0.0,\"#0d0887\"],[0.1111111111111111,\"#46039f\"],[0.2222222222222222,\"#7201a8\"],[0.3333333333333333,\"#9c179e\"],[0.4444444444444444,\"#bd3786\"],[0.5555555555555556,\"#d8576b\"],[0.6666666666666666,\"#ed7953\"],[0.7777777777777778,\"#fb9f3a\"],[0.8888888888888888,\"#fdca26\"],[1.0,\"#f0f921\"]]}],\"contourcarpet\":[{\"type\":\"contourcarpet\",\"colorbar\":{\"outlinewidth\":0,\"ticks\":\"\"}}],\"contour\":[{\"type\":\"contour\",\"colorbar\":{\"outlinewidth\":0,\"ticks\":\"\"},\"colorscale\":[[0.0,\"#0d0887\"],[0.1111111111111111,\"#46039f\"],[0.2222222222222222,\"#7201a8\"],[0.3333333333333333,\"#9c179e\"],[0.4444444444444444,\"#bd3786\"],[0.5555555555555556,\"#d8576b\"],[0.6666666666666666,\"#ed7953\"],[0.7777777777777778,\"#fb9f3a\"],[0.8888888888888888,\"#fdca26\"],[1.0,\"#f0f921\"]]}],\"surface\":[{\"type\":\"surface\",\"colorbar\":{\"outlinewidth\":0,\"ticks\":\"\"},\"colorscale\":[[0.0,\"#0d0887\"],[0.1111111111111111,\"#46039f\"],[0.2222222222222222,\"#7201a8\"],[0.3333333333333333,\"#9c179e\"],[0.4444444444444444,\"#bd3786\"],[0.5555555555555556,\"#d8576b\"],[0.6666666666666666,\"#ed7953\"],[0.7777777777777778,\"#fb9f3a\"],[0.8888888888888888,\"#fdca26\"],[1.0,\"#f0f921\"]]}],\"mesh3d\":[{\"type\":\"mesh3d\",\"colorbar\":{\"outlinewidth\":0,\"ticks\":\"\"}}],\"scatter\":[{\"fillpattern\":{\"fillmode\":\"overlay\",\"size\":10,\"solidity\":0.2},\"type\":\"scatter\"}],\"parcoords\":[{\"type\":\"parcoords\",\"line\":{\"colorbar\":{\"outlinewidth\":0,\"ticks\":\"\"}}}],\"scatterpolargl\":[{\"type\":\"scatterpolargl\",\"marker\":{\"colorbar\":{\"outlinewidth\":0,\"ticks\":\"\"}}}],\"bar\":[{\"error_x\":{\"color\":\"#2a3f5f\"},\"error_y\":{\"color\":\"#2a3f5f\"},\"marker\":{\"line\":{\"color\":\"#E5ECF6\",\"width\":0.5},\"pattern\":{\"fillmode\":\"overlay\",\"size\":10,\"solidity\":0.2}},\"type\":\"bar\"}],\"scattergeo\":[{\"type\":\"scattergeo\",\"marker\":{\"colorbar\":{\"outlinewidth\":0,\"ticks\":\"\"}}}],\"scatterpolar\":[{\"type\":\"scatterpolar\",\"marker\":{\"colorbar\":{\"outlinewidth\":0,\"ticks\":\"\"}}}],\"histogram\":[{\"marker\":{\"pattern\":{\"fillmode\":\"overlay\",\"size\":10,\"solidity\":0.2}},\"type\":\"histogram\"}],\"scattergl\":[{\"type\":\"scattergl\",\"marker\":{\"colorbar\":{\"outlinewidth\":0,\"ticks\":\"\"}}}],\"scatter3d\":[{\"type\":\"scatter3d\",\"line\":{\"colorbar\":{\"outlinewidth\":0,\"ticks\":\"\"}},\"marker\":{\"colorbar\":{\"outlinewidth\":0,\"ticks\":\"\"}}}],\"scattermapbox\":[{\"type\":\"scattermapbox\",\"marker\":{\"colorbar\":{\"outlinewidth\":0,\"ticks\":\"\"}}}],\"scatterternary\":[{\"type\":\"scatterternary\",\"marker\":{\"colorbar\":{\"outlinewidth\":0,\"ticks\":\"\"}}}],\"scattercarpet\":[{\"type\":\"scattercarpet\",\"marker\":{\"colorbar\":{\"outlinewidth\":0,\"ticks\":\"\"}}}],\"carpet\":[{\"aaxis\":{\"endlinecolor\":\"#2a3f5f\",\"gridcolor\":\"white\",\"linecolor\":\"white\",\"minorgridcolor\":\"white\",\"startlinecolor\":\"#2a3f5f\"},\"baxis\":{\"endlinecolor\":\"#2a3f5f\",\"gridcolor\":\"white\",\"linecolor\":\"white\",\"minorgridcolor\":\"white\",\"startlinecolor\":\"#2a3f5f\"},\"type\":\"carpet\"}],\"table\":[{\"cells\":{\"fill\":{\"color\":\"#EBF0F8\"},\"line\":{\"color\":\"white\"}},\"header\":{\"fill\":{\"color\":\"#C8D4E3\"},\"line\":{\"color\":\"white\"}},\"type\":\"table\"}],\"barpolar\":[{\"marker\":{\"line\":{\"color\":\"#E5ECF6\",\"width\":0.5},\"pattern\":{\"fillmode\":\"overlay\",\"size\":10,\"solidity\":0.2}},\"type\":\"barpolar\"}],\"pie\":[{\"automargin\":true,\"type\":\"pie\"}]},\"layout\":{\"autotypenumbers\":\"strict\",\"colorway\":[\"#636efa\",\"#EF553B\",\"#00cc96\",\"#ab63fa\",\"#FFA15A\",\"#19d3f3\",\"#FF6692\",\"#B6E880\",\"#FF97FF\",\"#FECB52\"],\"font\":{\"color\":\"#2a3f5f\"},\"hovermode\":\"closest\",\"hoverlabel\":{\"align\":\"left\"},\"paper_bgcolor\":\"white\",\"plot_bgcolor\":\"#E5ECF6\",\"polar\":{\"bgcolor\":\"#E5ECF6\",\"angularaxis\":{\"gridcolor\":\"white\",\"linecolor\":\"white\",\"ticks\":\"\"},\"radialaxis\":{\"gridcolor\":\"white\",\"linecolor\":\"white\",\"ticks\":\"\"}},\"ternary\":{\"bgcolor\":\"#E5ECF6\",\"aaxis\":{\"gridcolor\":\"white\",\"linecolor\":\"white\",\"ticks\":\"\"},\"baxis\":{\"gridcolor\":\"white\",\"linecolor\":\"white\",\"ticks\":\"\"},\"caxis\":{\"gridcolor\":\"white\",\"linecolor\":\"white\",\"ticks\":\"\"}},\"coloraxis\":{\"colorbar\":{\"outlinewidth\":0,\"ticks\":\"\"}},\"colorscale\":{\"sequential\":[[0.0,\"#0d0887\"],[0.1111111111111111,\"#46039f\"],[0.2222222222222222,\"#7201a8\"],[0.3333333333333333,\"#9c179e\"],[0.4444444444444444,\"#bd3786\"],[0.5555555555555556,\"#d8576b\"],[0.6666666666666666,\"#ed7953\"],[0.7777777777777778,\"#fb9f3a\"],[0.8888888888888888,\"#fdca26\"],[1.0,\"#f0f921\"]],\"sequentialminus\":[[0.0,\"#0d0887\"],[0.1111111111111111,\"#46039f\"],[0.2222222222222222,\"#7201a8\"],[0.3333333333333333,\"#9c179e\"],[0.4444444444444444,\"#bd3786\"],[0.5555555555555556,\"#d8576b\"],[0.6666666666666666,\"#ed7953\"],[0.7777777777777778,\"#fb9f3a\"],[0.8888888888888888,\"#fdca26\"],[1.0,\"#f0f921\"]],\"diverging\":[[0,\"#8e0152\"],[0.1,\"#c51b7d\"],[0.2,\"#de77ae\"],[0.3,\"#f1b6da\"],[0.4,\"#fde0ef\"],[0.5,\"#f7f7f7\"],[0.6,\"#e6f5d0\"],[0.7,\"#b8e186\"],[0.8,\"#7fbc41\"],[0.9,\"#4d9221\"],[1,\"#276419\"]]},\"xaxis\":{\"gridcolor\":\"white\",\"linecolor\":\"white\",\"ticks\":\"\",\"title\":{\"standoff\":15},\"zerolinecolor\":\"white\",\"automargin\":true,\"zerolinewidth\":2},\"yaxis\":{\"gridcolor\":\"white\",\"linecolor\":\"white\",\"ticks\":\"\",\"title\":{\"standoff\":15},\"zerolinecolor\":\"white\",\"automargin\":true,\"zerolinewidth\":2},\"scene\":{\"xaxis\":{\"backgroundcolor\":\"#E5ECF6\",\"gridcolor\":\"white\",\"linecolor\":\"white\",\"showbackground\":true,\"ticks\":\"\",\"zerolinecolor\":\"white\",\"gridwidth\":2},\"yaxis\":{\"backgroundcolor\":\"#E5ECF6\",\"gridcolor\":\"white\",\"linecolor\":\"white\",\"showbackground\":true,\"ticks\":\"\",\"zerolinecolor\":\"white\",\"gridwidth\":2},\"zaxis\":{\"backgroundcolor\":\"#E5ECF6\",\"gridcolor\":\"white\",\"linecolor\":\"white\",\"showbackground\":true,\"ticks\":\"\",\"zerolinecolor\":\"white\",\"gridwidth\":2}},\"shapedefaults\":{\"line\":{\"color\":\"#2a3f5f\"}},\"annotationdefaults\":{\"arrowcolor\":\"#2a3f5f\",\"arrowhead\":0,\"arrowwidth\":1},\"geo\":{\"bgcolor\":\"white\",\"landcolor\":\"#E5ECF6\",\"subunitcolor\":\"white\",\"showland\":true,\"showlakes\":true,\"lakecolor\":\"white\"},\"title\":{\"x\":0.05},\"mapbox\":{\"style\":\"light\"}}}},                        {\"responsive\": true}                    ).then(function(){\n",
              "                            \n",
              "var gd = document.getElementById('19c99743-e152-44b7-a2e3-94ac8f5cb1fd');\n",
              "var x = new MutationObserver(function (mutations, observer) {{\n",
              "        var display = window.getComputedStyle(gd).display;\n",
              "        if (!display || display === 'none') {{\n",
              "            console.log([gd, 'removed!']);\n",
              "            Plotly.purge(gd);\n",
              "            observer.disconnect();\n",
              "        }}\n",
              "}});\n",
              "\n",
              "// Listen for the removal of the full notebook cells\n",
              "var notebookContainer = gd.closest('#notebook-container');\n",
              "if (notebookContainer) {{\n",
              "    x.observe(notebookContainer, {childList: true});\n",
              "}}\n",
              "\n",
              "// Listen for the clearing of the current output cell\n",
              "var outputEl = gd.closest('.output');\n",
              "if (outputEl) {{\n",
              "    x.observe(outputEl, {childList: true});\n",
              "}}\n",
              "\n",
              "                        })                };                            </script>        </div>\n",
              "</body>\n",
              "</html>"
            ]
          },
          "metadata": {}
        }
      ],
      "source": [
        "trace_not_booked = go.Bar(y=daily_search_percentage_notbooked, name='Not Booked')\n",
        "trace_is_booked = go.Bar(y=daily_search_percentage_booked, name='Booked')\n",
        "\n",
        "# Modify tick label text\n",
        "ticktext = ['دوشنبه', 'سه‌شنبه', 'چهارشنبه', 'پنج‌شنبه', 'جمعه', 'شنبه', 'یکشنبه']\n",
        "\n",
        "data = [trace_is_booked, trace_not_booked]\n",
        "\n",
        "layout = go.Layout(\n",
        "    xaxis=dict(title='Day of Week', tickangle=45, automargin=True,\n",
        "               tickvals = [0,1,2,3,4,5,6], ticktext= ticktext\n",
        " ),\n",
        "    yaxis=dict(title='Frequency'),\n",
        ")\n",
        "\n",
        "fig = go.Figure(data=data, layout=layout)\n",
        "fig.show()\n",
        "fig.write_json('./checkIn_day.json')"
      ]
    },
    {
      "cell_type": "markdown",
      "metadata": {
        "id": "JyJjx7tO-d4K"
      },
      "source": [
        "A bar chart for the month of check in"
      ]
    },
    {
      "cell_type": "code",
      "execution_count": null,
      "metadata": {
        "id": "LtzO4RPg-jEd"
      },
      "outputs": [],
      "source": [
        "monthly_search_percentage_notbooked = not_booked['checkIn_date_month'].value_counts().sort_index()/len(not_booked)\n",
        "monthly_search_percentage_booked = is_booked['checkIn_date_month'].value_counts().sort_index()/len(is_booked)"
      ]
    },
    {
      "cell_type": "code",
      "execution_count": null,
      "metadata": {
        "colab": {
          "base_uri": "https://localhost:8080/",
          "height": 542
        },
        "id": "hTZzJjBWldTA",
        "outputId": "0552e7c7-b3a7-4877-968b-542e96d03558"
      },
      "outputs": [
        {
          "output_type": "display_data",
          "data": {
            "text/html": [
              "<html>\n",
              "<head><meta charset=\"utf-8\" /></head>\n",
              "<body>\n",
              "    <div>            <script src=\"https://cdnjs.cloudflare.com/ajax/libs/mathjax/2.7.5/MathJax.js?config=TeX-AMS-MML_SVG\"></script><script type=\"text/javascript\">if (window.MathJax && window.MathJax.Hub && window.MathJax.Hub.Config) {window.MathJax.Hub.Config({SVG: {font: \"STIX-Web\"}});}</script>                <script type=\"text/javascript\">window.PlotlyConfig = {MathJaxConfig: 'local'};</script>\n",
              "        <script charset=\"utf-8\" src=\"https://cdn.plot.ly/plotly-2.35.2.min.js\"></script>                <div id=\"8b2ea7a2-046d-451a-a1a1-e57c4308f4e9\" class=\"plotly-graph-div\" style=\"height:525px; width:100%;\"></div>            <script type=\"text/javascript\">                                    window.PLOTLYENV=window.PLOTLYENV || {};                                    if (document.getElementById(\"8b2ea7a2-046d-451a-a1a1-e57c4308f4e9\")) {                    Plotly.newPlot(                        \"8b2ea7a2-046d-451a-a1a1-e57c4308f4e9\",                        [{\"name\":\"Booked\",\"y\":[0.05186540498317638,0.06473808182006355,0.07849613290887747,0.07822115319240874,0.08894234037956267,0.08699028656814738,0.09178581195315676,0.09913320954209834,0.08621822813344675,0.09571862624968461,0.09688653460589514,0.08100418966348225],\"type\":\"bar\"},{\"name\":\"Not Booked\",\"y\":[0.042386316312695224,0.05306599071434052,0.07440993683315913,0.0748646759008879,0.08423670557595891,0.08708303529618715,0.10055275484209297,0.11134355889245198,0.08491874220239098,0.09371122788041356,0.09401683441437626,0.09941022113504541],\"type\":\"bar\"}],                        {\"xaxis\":{\"automargin\":true,\"tickangle\":45,\"ticktext\":[\"Jan\",\"Feb\",\"Mar\",\"Apr\",\"May\",\"Jun\",\"Jul\",\"Aug\",\"Sep\",\"Oct\",\"Nov\",\"Dec\"],\"tickvals\":[0,1,2,3,4,5,6,7,8,9,10,11],\"title\":{\"text\":\"Month\"}},\"yaxis\":{\"title\":{\"text\":\"Frequency\"}},\"template\":{\"data\":{\"histogram2dcontour\":[{\"type\":\"histogram2dcontour\",\"colorbar\":{\"outlinewidth\":0,\"ticks\":\"\"},\"colorscale\":[[0.0,\"#0d0887\"],[0.1111111111111111,\"#46039f\"],[0.2222222222222222,\"#7201a8\"],[0.3333333333333333,\"#9c179e\"],[0.4444444444444444,\"#bd3786\"],[0.5555555555555556,\"#d8576b\"],[0.6666666666666666,\"#ed7953\"],[0.7777777777777778,\"#fb9f3a\"],[0.8888888888888888,\"#fdca26\"],[1.0,\"#f0f921\"]]}],\"choropleth\":[{\"type\":\"choropleth\",\"colorbar\":{\"outlinewidth\":0,\"ticks\":\"\"}}],\"histogram2d\":[{\"type\":\"histogram2d\",\"colorbar\":{\"outlinewidth\":0,\"ticks\":\"\"},\"colorscale\":[[0.0,\"#0d0887\"],[0.1111111111111111,\"#46039f\"],[0.2222222222222222,\"#7201a8\"],[0.3333333333333333,\"#9c179e\"],[0.4444444444444444,\"#bd3786\"],[0.5555555555555556,\"#d8576b\"],[0.6666666666666666,\"#ed7953\"],[0.7777777777777778,\"#fb9f3a\"],[0.8888888888888888,\"#fdca26\"],[1.0,\"#f0f921\"]]}],\"heatmap\":[{\"type\":\"heatmap\",\"colorbar\":{\"outlinewidth\":0,\"ticks\":\"\"},\"colorscale\":[[0.0,\"#0d0887\"],[0.1111111111111111,\"#46039f\"],[0.2222222222222222,\"#7201a8\"],[0.3333333333333333,\"#9c179e\"],[0.4444444444444444,\"#bd3786\"],[0.5555555555555556,\"#d8576b\"],[0.6666666666666666,\"#ed7953\"],[0.7777777777777778,\"#fb9f3a\"],[0.8888888888888888,\"#fdca26\"],[1.0,\"#f0f921\"]]}],\"heatmapgl\":[{\"type\":\"heatmapgl\",\"colorbar\":{\"outlinewidth\":0,\"ticks\":\"\"},\"colorscale\":[[0.0,\"#0d0887\"],[0.1111111111111111,\"#46039f\"],[0.2222222222222222,\"#7201a8\"],[0.3333333333333333,\"#9c179e\"],[0.4444444444444444,\"#bd3786\"],[0.5555555555555556,\"#d8576b\"],[0.6666666666666666,\"#ed7953\"],[0.7777777777777778,\"#fb9f3a\"],[0.8888888888888888,\"#fdca26\"],[1.0,\"#f0f921\"]]}],\"contourcarpet\":[{\"type\":\"contourcarpet\",\"colorbar\":{\"outlinewidth\":0,\"ticks\":\"\"}}],\"contour\":[{\"type\":\"contour\",\"colorbar\":{\"outlinewidth\":0,\"ticks\":\"\"},\"colorscale\":[[0.0,\"#0d0887\"],[0.1111111111111111,\"#46039f\"],[0.2222222222222222,\"#7201a8\"],[0.3333333333333333,\"#9c179e\"],[0.4444444444444444,\"#bd3786\"],[0.5555555555555556,\"#d8576b\"],[0.6666666666666666,\"#ed7953\"],[0.7777777777777778,\"#fb9f3a\"],[0.8888888888888888,\"#fdca26\"],[1.0,\"#f0f921\"]]}],\"surface\":[{\"type\":\"surface\",\"colorbar\":{\"outlinewidth\":0,\"ticks\":\"\"},\"colorscale\":[[0.0,\"#0d0887\"],[0.1111111111111111,\"#46039f\"],[0.2222222222222222,\"#7201a8\"],[0.3333333333333333,\"#9c179e\"],[0.4444444444444444,\"#bd3786\"],[0.5555555555555556,\"#d8576b\"],[0.6666666666666666,\"#ed7953\"],[0.7777777777777778,\"#fb9f3a\"],[0.8888888888888888,\"#fdca26\"],[1.0,\"#f0f921\"]]}],\"mesh3d\":[{\"type\":\"mesh3d\",\"colorbar\":{\"outlinewidth\":0,\"ticks\":\"\"}}],\"scatter\":[{\"fillpattern\":{\"fillmode\":\"overlay\",\"size\":10,\"solidity\":0.2},\"type\":\"scatter\"}],\"parcoords\":[{\"type\":\"parcoords\",\"line\":{\"colorbar\":{\"outlinewidth\":0,\"ticks\":\"\"}}}],\"scatterpolargl\":[{\"type\":\"scatterpolargl\",\"marker\":{\"colorbar\":{\"outlinewidth\":0,\"ticks\":\"\"}}}],\"bar\":[{\"error_x\":{\"color\":\"#2a3f5f\"},\"error_y\":{\"color\":\"#2a3f5f\"},\"marker\":{\"line\":{\"color\":\"#E5ECF6\",\"width\":0.5},\"pattern\":{\"fillmode\":\"overlay\",\"size\":10,\"solidity\":0.2}},\"type\":\"bar\"}],\"scattergeo\":[{\"type\":\"scattergeo\",\"marker\":{\"colorbar\":{\"outlinewidth\":0,\"ticks\":\"\"}}}],\"scatterpolar\":[{\"type\":\"scatterpolar\",\"marker\":{\"colorbar\":{\"outlinewidth\":0,\"ticks\":\"\"}}}],\"histogram\":[{\"marker\":{\"pattern\":{\"fillmode\":\"overlay\",\"size\":10,\"solidity\":0.2}},\"type\":\"histogram\"}],\"scattergl\":[{\"type\":\"scattergl\",\"marker\":{\"colorbar\":{\"outlinewidth\":0,\"ticks\":\"\"}}}],\"scatter3d\":[{\"type\":\"scatter3d\",\"line\":{\"colorbar\":{\"outlinewidth\":0,\"ticks\":\"\"}},\"marker\":{\"colorbar\":{\"outlinewidth\":0,\"ticks\":\"\"}}}],\"scattermapbox\":[{\"type\":\"scattermapbox\",\"marker\":{\"colorbar\":{\"outlinewidth\":0,\"ticks\":\"\"}}}],\"scatterternary\":[{\"type\":\"scatterternary\",\"marker\":{\"colorbar\":{\"outlinewidth\":0,\"ticks\":\"\"}}}],\"scattercarpet\":[{\"type\":\"scattercarpet\",\"marker\":{\"colorbar\":{\"outlinewidth\":0,\"ticks\":\"\"}}}],\"carpet\":[{\"aaxis\":{\"endlinecolor\":\"#2a3f5f\",\"gridcolor\":\"white\",\"linecolor\":\"white\",\"minorgridcolor\":\"white\",\"startlinecolor\":\"#2a3f5f\"},\"baxis\":{\"endlinecolor\":\"#2a3f5f\",\"gridcolor\":\"white\",\"linecolor\":\"white\",\"minorgridcolor\":\"white\",\"startlinecolor\":\"#2a3f5f\"},\"type\":\"carpet\"}],\"table\":[{\"cells\":{\"fill\":{\"color\":\"#EBF0F8\"},\"line\":{\"color\":\"white\"}},\"header\":{\"fill\":{\"color\":\"#C8D4E3\"},\"line\":{\"color\":\"white\"}},\"type\":\"table\"}],\"barpolar\":[{\"marker\":{\"line\":{\"color\":\"#E5ECF6\",\"width\":0.5},\"pattern\":{\"fillmode\":\"overlay\",\"size\":10,\"solidity\":0.2}},\"type\":\"barpolar\"}],\"pie\":[{\"automargin\":true,\"type\":\"pie\"}]},\"layout\":{\"autotypenumbers\":\"strict\",\"colorway\":[\"#636efa\",\"#EF553B\",\"#00cc96\",\"#ab63fa\",\"#FFA15A\",\"#19d3f3\",\"#FF6692\",\"#B6E880\",\"#FF97FF\",\"#FECB52\"],\"font\":{\"color\":\"#2a3f5f\"},\"hovermode\":\"closest\",\"hoverlabel\":{\"align\":\"left\"},\"paper_bgcolor\":\"white\",\"plot_bgcolor\":\"#E5ECF6\",\"polar\":{\"bgcolor\":\"#E5ECF6\",\"angularaxis\":{\"gridcolor\":\"white\",\"linecolor\":\"white\",\"ticks\":\"\"},\"radialaxis\":{\"gridcolor\":\"white\",\"linecolor\":\"white\",\"ticks\":\"\"}},\"ternary\":{\"bgcolor\":\"#E5ECF6\",\"aaxis\":{\"gridcolor\":\"white\",\"linecolor\":\"white\",\"ticks\":\"\"},\"baxis\":{\"gridcolor\":\"white\",\"linecolor\":\"white\",\"ticks\":\"\"},\"caxis\":{\"gridcolor\":\"white\",\"linecolor\":\"white\",\"ticks\":\"\"}},\"coloraxis\":{\"colorbar\":{\"outlinewidth\":0,\"ticks\":\"\"}},\"colorscale\":{\"sequential\":[[0.0,\"#0d0887\"],[0.1111111111111111,\"#46039f\"],[0.2222222222222222,\"#7201a8\"],[0.3333333333333333,\"#9c179e\"],[0.4444444444444444,\"#bd3786\"],[0.5555555555555556,\"#d8576b\"],[0.6666666666666666,\"#ed7953\"],[0.7777777777777778,\"#fb9f3a\"],[0.8888888888888888,\"#fdca26\"],[1.0,\"#f0f921\"]],\"sequentialminus\":[[0.0,\"#0d0887\"],[0.1111111111111111,\"#46039f\"],[0.2222222222222222,\"#7201a8\"],[0.3333333333333333,\"#9c179e\"],[0.4444444444444444,\"#bd3786\"],[0.5555555555555556,\"#d8576b\"],[0.6666666666666666,\"#ed7953\"],[0.7777777777777778,\"#fb9f3a\"],[0.8888888888888888,\"#fdca26\"],[1.0,\"#f0f921\"]],\"diverging\":[[0,\"#8e0152\"],[0.1,\"#c51b7d\"],[0.2,\"#de77ae\"],[0.3,\"#f1b6da\"],[0.4,\"#fde0ef\"],[0.5,\"#f7f7f7\"],[0.6,\"#e6f5d0\"],[0.7,\"#b8e186\"],[0.8,\"#7fbc41\"],[0.9,\"#4d9221\"],[1,\"#276419\"]]},\"xaxis\":{\"gridcolor\":\"white\",\"linecolor\":\"white\",\"ticks\":\"\",\"title\":{\"standoff\":15},\"zerolinecolor\":\"white\",\"automargin\":true,\"zerolinewidth\":2},\"yaxis\":{\"gridcolor\":\"white\",\"linecolor\":\"white\",\"ticks\":\"\",\"title\":{\"standoff\":15},\"zerolinecolor\":\"white\",\"automargin\":true,\"zerolinewidth\":2},\"scene\":{\"xaxis\":{\"backgroundcolor\":\"#E5ECF6\",\"gridcolor\":\"white\",\"linecolor\":\"white\",\"showbackground\":true,\"ticks\":\"\",\"zerolinecolor\":\"white\",\"gridwidth\":2},\"yaxis\":{\"backgroundcolor\":\"#E5ECF6\",\"gridcolor\":\"white\",\"linecolor\":\"white\",\"showbackground\":true,\"ticks\":\"\",\"zerolinecolor\":\"white\",\"gridwidth\":2},\"zaxis\":{\"backgroundcolor\":\"#E5ECF6\",\"gridcolor\":\"white\",\"linecolor\":\"white\",\"showbackground\":true,\"ticks\":\"\",\"zerolinecolor\":\"white\",\"gridwidth\":2}},\"shapedefaults\":{\"line\":{\"color\":\"#2a3f5f\"}},\"annotationdefaults\":{\"arrowcolor\":\"#2a3f5f\",\"arrowhead\":0,\"arrowwidth\":1},\"geo\":{\"bgcolor\":\"white\",\"landcolor\":\"#E5ECF6\",\"subunitcolor\":\"white\",\"showland\":true,\"showlakes\":true,\"lakecolor\":\"white\"},\"title\":{\"x\":0.05},\"mapbox\":{\"style\":\"light\"}}}},                        {\"responsive\": true}                    ).then(function(){\n",
              "                            \n",
              "var gd = document.getElementById('8b2ea7a2-046d-451a-a1a1-e57c4308f4e9');\n",
              "var x = new MutationObserver(function (mutations, observer) {{\n",
              "        var display = window.getComputedStyle(gd).display;\n",
              "        if (!display || display === 'none') {{\n",
              "            console.log([gd, 'removed!']);\n",
              "            Plotly.purge(gd);\n",
              "            observer.disconnect();\n",
              "        }}\n",
              "}});\n",
              "\n",
              "// Listen for the removal of the full notebook cells\n",
              "var notebookContainer = gd.closest('#notebook-container');\n",
              "if (notebookContainer) {{\n",
              "    x.observe(notebookContainer, {childList: true});\n",
              "}}\n",
              "\n",
              "// Listen for the clearing of the current output cell\n",
              "var outputEl = gd.closest('.output');\n",
              "if (outputEl) {{\n",
              "    x.observe(outputEl, {childList: true});\n",
              "}}\n",
              "\n",
              "                        })                };                            </script>        </div>\n",
              "</body>\n",
              "</html>"
            ]
          },
          "metadata": {}
        }
      ],
      "source": [
        "trace_not_booked = go.Bar(y = monthly_search_percentage_notbooked, name='Not Booked') # TODO\n",
        "trace_is_booked = go.Bar(y = monthly_search_percentage_booked, name='Booked') # TODO\n",
        "\n",
        "data = [trace_is_booked, trace_not_booked]\n",
        "\n",
        "ticktext = ['Jan', 'Feb', 'Mar', 'Apr', 'May', 'Jun', 'Jul', 'Aug', 'Sep', 'Oct', 'Nov', 'Dec']\n",
        "\n",
        "layout = go.Layout(\n",
        "    xaxis=dict(title='Month', tickangle=45, automargin=True,\n",
        "             ticktext = ticktext ,tickvals = np.arange(0,12)),\n",
        "    yaxis=dict(title='Frequency')\n",
        ")\n",
        "\n",
        "fig = go.Figure(data=data, layout=layout)\n",
        "fig.show()\n",
        "fig.write_json('./checkIn_date_month.json')"
      ]
    },
    {
      "cell_type": "markdown",
      "metadata": {
        "id": "BI_TqY-q_eoX"
      },
      "source": [
        "A line graph for the time interval between search and check in."
      ]
    },
    {
      "cell_type": "code",
      "execution_count": null,
      "metadata": {
        "id": "qmfGW0tJ_zIz"
      },
      "outputs": [],
      "source": [
        "days_search_percentage_notbooked = not_booked['days_between'].value_counts().sort_index()/len(not_booked)\n",
        "days_search_percentage_booked = is_booked['days_between'].value_counts().sort_index()/len(is_booked)"
      ]
    },
    {
      "cell_type": "code",
      "execution_count": null,
      "metadata": {
        "colab": {
          "base_uri": "https://localhost:8080/",
          "height": 542
        },
        "id": "tCvwwJRQlf-B",
        "outputId": "da9ffa75-e59d-474b-ecb3-ce9908eb3a14"
      },
      "outputs": [
        {
          "output_type": "display_data",
          "data": {
            "text/html": [
              "<html>\n",
              "<head><meta charset=\"utf-8\" /></head>\n",
              "<body>\n",
              "    <div>            <script src=\"https://cdnjs.cloudflare.com/ajax/libs/mathjax/2.7.5/MathJax.js?config=TeX-AMS-MML_SVG\"></script><script type=\"text/javascript\">if (window.MathJax && window.MathJax.Hub && window.MathJax.Hub.Config) {window.MathJax.Hub.Config({SVG: {font: \"STIX-Web\"}});}</script>                <script type=\"text/javascript\">window.PlotlyConfig = {MathJaxConfig: 'local'};</script>\n",
              "        <script charset=\"utf-8\" src=\"https://cdn.plot.ly/plotly-2.35.2.min.js\"></script>                <div id=\"1389d8d8-3305-4a46-bc58-e792a6ee502e\" class=\"plotly-graph-div\" style=\"height:525px; width:100%;\"></div>            <script type=\"text/javascript\">                                    window.PLOTLYENV=window.PLOTLYENV || {};                                    if (document.getElementById(\"1389d8d8-3305-4a46-bc58-e792a6ee502e\")) {                    Plotly.newPlot(                        \"1389d8d8-3305-4a46-bc58-e792a6ee502e\",                        [{\"name\":\"Booked\",\"y\":[0.00020699022613304485,0.06565971713350265,0.07598052176645761,0.048325418853032404,0.040802759466781094,0.036138680429754017,0.03336017659136956,0.03054843344659879,0.02727587264510846,0.02297591510076798,0.020789675267085382,0.019422331072556875,0.018221183409960005,0.017500494812401887,0.016905209052574005,0.016163368169133677,0.014702349565698245,0.013785246884948185,0.013389396963438273,0.012871165959324153,0.012482870425629318,0.01244963111924299,0.01154159370387102,0.010668306472448392,0.0106184475128689,0.010039781406234183,0.00978444309808466,0.0095759419943886,0.009669616403295526,0.008755535477671496,0.008483577516328809,0.0083914139849849,0.008213130432549138,0.008013694594231168,0.007737204000199436,0.007289984241547018,0.007108678933985227,0.006552675990795734,0.006341153131973644,0.006398566479368211,0.005987607782228152,0.005892422495758211,0.005715649820885465,0.0055328336357606585,0.005345484817946808,0.005084102999545226,0.005177777408452151,0.004933015243243733,0.004958700161814987,0.004688253078035315,0.0046142200774475835,0.004467664953835136,0.004148869788038987,0.004327153340474748,0.004058217134258091,0.00407634766501427,0.0039025967452675538,0.0035989103551015535,0.003715247927453703,0.0035566057833371356,0.0035354534974549267,0.0034357355782959416,0.0033964527616575538,0.003340550291826001,0.003283136944431434,0.0031275165554408967,0.003023266003592867,0.003065570575357285,0.0029129719414927773,0.0029280807171229266,0.0028495150838461505,0.0027724603281323893,0.0026183508167048667,0.002535252550739046,0.0024793500809074933,0.002427980243764986,0.0025186328975458816,0.00244762165208418,0.0023509254880512247,0.002222500895194956,0.0021862398336825978,0.0021409135067921503,0.0020291085671290455,0.002100119812590747,0.0021182503433469263,0.0020668805062044188,0.0019958692607427173,0.0019868039953646276,0.0019218362601549858,0.0020502608530112544,0.0019263688928440306,0.0017722593814165082,0.001755639728223344,0.001737509197467165,0.0017208895442740006,0.0017631941160384185,0.001592464951417732,0.001630236890493105,0.0015682909104094932,0.0015954867065437618,0.0014912361546957319,0.0013537462964613738,0.0014308010521751349,0.0014595077258724185,0.0014353336848641797,0.0013371266432682094,0.0014187140316710154,0.001287267683688717,0.0012721589080585676,0.0012102129279749558,0.0012540283773023885,0.0012177673157900302,0.0011104950088159705,0.0012253217036051049,0.0010893427229337616,0.0011316472946981794,0.0010289076204131645,0.001121071151757075,0.0010289076204131645,0.0010107770896569854,0.0010379728857912542,0.0009986900691528662,0.0009684725178925675,0.0008868851294897615,0.0009745160281446273,0.000895950394867851,0.0009548746198254333,0.0009065265378089556,0.0008083194962129854,0.0007388191283142988,0.0008173847615910749,0.0008340044147842391,0.0007947215981458511,0.0008340044147842391,0.0007781019449526869,0.0007252212302471645,0.0007584605366334928,0.0007418408834403286,0.0007433517610033436,0.000735797373188269,0.0007781019449526869,0.00071464508730606,0.0007297538629362092,0.0006678078828525973,0.0006647861277265674,0.0006965145565498809,0.0006028401476429555,0.0006073727803320002,0.0005967966373908957,0.0006088836578950151,0.0006753622706676719,0.0005816878617607465,0.0005937748822648659,0.0005650682085675823,0.0005046331060469853,0.0005937748822648659,0.0005454268002483883,0.0005771552290717017,0.0005227636368031644,0.0005454268002483883,0.0004955678406688958,0.0005257853919291943,0.000530318024618239,0.0005393832899963285,0.0004623285342825673,0.0004880134528538211,0.00047592643234970166,0.0004426871259633733,0.0005121874938620599,0.00046837204453462707,0.0004910352079798509,0.0004185130849551345,0.00039736079907292553,0.0004351327381482987,0.00047290467722367185,0.0004094478195770449,0.00042908922789623895,0.00037016500293865685,0.00039131728882086585,0.0003716758805016718,0.0003550562273085076,0.00038678465613182106,0.00039131728882086585,0.0003731867580646867,0.00037620851319071654,0.0003535453497454927,0.00038678465613182106,0.0003429692068043882,0.0003520344721824777,0.00030519726772901506,0.00034145832924137326,0.00034145832924137326,0.0003278604311742389,0.0002976428799139404,0.0003021755126029852,0.00030670814529202997,0.0003218169209221792,0.00030972990041805984,0.00028253410428379116,0.0003021755126029852,0.0002613818184015822,0.00028102322672077625,0.00028404498184680607,0.00028253410428379116,0.0002160554915111344,0.00028404498184680607,0.00022512075688922397,0.00024325128764540307,0.0002326751447042986,0.00028102322672077625,0.00022209900176319413,0.0002553383081495225,0.00022512075688922397,0.00021907724663716425,0.00024174041008238816,0.00021303373638510456,0.00023720777739334338,0.000244762165208418,0.00021907724663716425,0.00018734881781385082,0.00022965338957826875,0.0001918814505028956,0.0001979249607549553,0.0001752617973097314,0.0001858379402508359,0.0001918814505028956,0.00020094671588098516,0.00016015302167958216,0.00018281618512480603,0.00017072916462068663,0.00016770740949465678,0.0001918814505028956,0.00017375091974671647,0.0001797944299987762,0.00014655512361244781,0.0001752617973097314,0.00015410951142752244,0.0001571312665535523,0.00012691371529325378,0.00014806600117546275,0.00013144634798229856,0.00013295722554531347,0.00014202249092340303,0.0001390007357973732,0.00013748985823435825,0.00014957687873847766,0.0001344681031083284,0.00010727230697405974,0.00011180493966310452,0.00011331581722611945,0.00011482669478913438,0.00011784844991516422,0.00011935932747817916,0.000122381082604209,0.00010425055184802989,0.00010576142941104481,0.00009518528646994033,0.00010727230697405974,0.00014202249092340303,0.0001102940621000896,0.00009820704159597019,0.0000876308986548657,0.00009669616403295527,0.00010878318453707467,0.0001102940621000896,0.00010122879672200003,0.00009367440890692541,0.00009820704159597019,0.00008612002109185078,0.00010122879672200003,0.00009518528646994033,0.00007252212302471644,0.0000695003678986866,0.00010727230697405974,0.00009065265378089556,0.00007403300058773138,0.00007252212302471644,0.00010425055184802989,0.00006496773520964181,0.0000876308986548657,0.00009065265378089556,0.00008612002109185078,0.0000755438781507463,0.00006043510252059704,0.00004532632689044778,0.00006496773520964181,0.00009518528646994033,0.00007101124546170152,0.00007252212302471644,0.00006798949033567167,0.00006496773520964181,0.00006496773520964181,0.000054391592268537336,0.000051369837142507485,0.00005741334739456719,0.000051369837142507485,0.00006345685764662689,0.00007101124546170152,0.00007856563327677616,0.00006496773520964181,0.000054391592268537336,0.00006194598008361197,0.00004834808201647763,0.0000695003678986866,0.000040793694201403,0.000054391592268537336,0.00005892422495758211,0.000040793694201403,0.00004834808201647763,0.00004532632689044778,0.00003928281663838808,0.000054391592268537336,0.000051369837142507485,0.00004834808201647763,0.000051369837142507485,0.00004381544932743285,0.00004834808201647763,0.00006043510252059704,0.00005288071470552241,0.000040793694201403,0.00003777193907537315,0.000028706673697283594,0.00003626106151235822,0.00005892422495758211,0.00005741334739456719,0.00004381544932743285,0.00003626106151235822,0.000028706673697283594,0.000016619653193164184,0.000025684918571253742,0.000031728428823313446,0.000025684918571253742,0.000024174041008238817,0.000021152285882208965,0.000012087020504119408,0.00001510877563014926,0.00001510877563014926,0.000010576142941104482,0.00001510877563014926,0.000021152285882208965,0.000016619653193164184,0.000010576142941104482,0.000012087020504119408,9.065265378089555e-6,0.00001813053075617911,0.00001813053075617911,0.000010576142941104482,0.000012087020504119408,1.510877563014926e-6,0.000016619653193164184,0.000013597898067134334,0.000010576142941104482,0.000010576142941104482,9.065265378089555e-6,0.00001510877563014926,0.000012087020504119408,4.5326326890447775e-6,6.043510252059704e-6,6.043510252059704e-6,6.043510252059704e-6,0.00001510877563014926,6.043510252059704e-6,0.00001510877563014926,0.000012087020504119408,9.065265378089555e-6,6.043510252059704e-6,0.000016619653193164184,4.5326326890447775e-6,3.021755126029852e-6,6.043510252059704e-6,9.065265378089555e-6,1.510877563014926e-6,1.510877563014926e-6,7.55438781507463e-6,7.55438781507463e-6,3.021755126029852e-6,9.065265378089555e-6,1.510877563014926e-6,1.510877563014926e-6,3.021755126029852e-6,3.021755126029852e-6,4.5326326890447775e-6,4.5326326890447775e-6,1.510877563014926e-6,3.021755126029852e-6,1.510877563014926e-6,1.510877563014926e-6,1.510877563014926e-6,3.021755126029852e-6,1.510877563014926e-6,1.510877563014926e-6,3.021755126029852e-6,1.510877563014926e-6,1.510877563014926e-6,3.021755126029852e-6,1.510877563014926e-6,1.510877563014926e-6,1.510877563014926e-6,3.021755126029852e-6,4.5326326890447775e-6,3.021755126029852e-6,1.510877563014926e-6,4.5326326890447775e-6,1.510877563014926e-6,1.510877563014926e-6,3.021755126029852e-6,1.510877563014926e-6,1.510877563014926e-6,1.510877563014926e-6,1.510877563014926e-6,3.021755126029852e-6,4.5326326890447775e-6,3.021755126029852e-6,1.510877563014926e-6,3.021755126029852e-6,1.510877563014926e-6,1.510877563014926e-6,1.510877563014926e-6,1.510877563014926e-6,1.510877563014926e-6,1.510877563014926e-6,3.021755126029852e-6,4.5326326890447775e-6,3.021755126029852e-6,1.510877563014926e-6,1.510877563014926e-6,1.510877563014926e-6,1.510877563014926e-6,3.021755126029852e-6,1.510877563014926e-6,1.510877563014926e-6,1.510877563014926e-6,1.510877563014926e-6,3.021755126029852e-6,1.510877563014926e-6,1.510877563014926e-6,1.510877563014926e-6,1.510877563014926e-6,1.510877563014926e-6,1.510877563014926e-6,1.510877563014926e-6],\"type\":\"scatter\"},{\"name\":\"Not Booked\",\"opacity\":0.5,\"y\":[1.4395032216801853e-7,1.4395032216801853e-7,1.4395032216801853e-7,1.4395032216801853e-7,2.8790064433603707e-7,1.4395032216801853e-7,1.4395032216801853e-7,1.4395032216801853e-7,1.4395032216801853e-7,1.4395032216801853e-7,2.8790064433603707e-7,1.4395032216801853e-7,2.8790064433603707e-7,4.318509665040556e-7,2.8790064433603707e-7,1.4395032216801853e-7,1.4395032216801853e-7,2.8790064433603707e-7,1.4395032216801853e-7,5.758012886720741e-7,1.4395032216801853e-7,1.4395032216801853e-7,4.318509665040556e-7,1.4395032216801853e-7,1.4395032216801853e-7,1.4395032216801853e-7,2.8790064433603707e-7,2.8790064433603707e-7,2.8790064433603707e-7,1.4395032216801853e-7,1.4395032216801853e-7,1.4395032216801853e-7,2.8790064433603707e-7,1.4395032216801853e-7,4.318509665040556e-7,1.4395032216801853e-7,1.4395032216801853e-7,1.4395032216801853e-7,2.8790064433603707e-7,1.4395032216801853e-7,2.8790064433603707e-7,1.4395032216801853e-7,2.8790064433603707e-7,2.8790064433603707e-7,5.758012886720741e-7,2.8790064433603707e-7,1.4395032216801853e-7,1.4395032216801853e-7,4.318509665040556e-7,1.4395032216801853e-7,1.4395032216801853e-7,2.8790064433603707e-7,1.4395032216801853e-7,1.4395032216801853e-7,2.8790064433603707e-7,1.4395032216801853e-7,1.4395032216801853e-7,1.4395032216801853e-7,4.318509665040556e-7,1.4395032216801853e-7,2.8790064433603707e-7,4.318509665040556e-7,1.4395032216801853e-7,4.318509665040556e-7,1.4395032216801853e-7,1.4395032216801853e-7,1.4395032216801853e-7,1.4395032216801853e-7,1.4395032216801853e-7,1.4395032216801853e-7,1.4395032216801853e-7,1.4395032216801853e-7,1.4395032216801853e-7,1.4395032216801853e-7,2.8790064433603707e-7,2.8790064433603707e-7,2.8790064433603707e-7,4.318509665040556e-7,1.4395032216801853e-7,1.4395032216801853e-7,1.4395032216801853e-7,5.758012886720741e-7,5.758012886720741e-7,1.4395032216801853e-7,2.8790064433603707e-7,4.318509665040556e-7,4.318509665040556e-7,2.8790064433603707e-7,2.8790064433603707e-7,1.4395032216801853e-7,1.4395032216801853e-7,1.4395032216801853e-7,5.758012886720741e-7,2.8790064433603707e-7,1.4395032216801853e-7,2.8790064433603707e-7,1.4395032216801853e-7,1.4395032216801853e-7,8.637019330081112e-7,2.8790064433603707e-7,1.4395032216801853e-7,4.318509665040556e-7,5.758012886720741e-7,1.4395032216801853e-7,1.4395032216801853e-7,1.4395032216801853e-7,2.8790064433603707e-7,2.8790064433603707e-7,4.318509665040556e-7,2.8790064433603707e-7,2.8790064433603707e-7,2.8790064433603707e-7,2.8790064433603707e-7,4.318509665040556e-7,1.4395032216801853e-7,1.4395032216801853e-7,2.8790064433603707e-7,1.4395032216801853e-7,1.4395032216801853e-7,4.318509665040556e-7,1.4395032216801853e-7,4.318509665040556e-7,1.4395032216801853e-7,1.4395032216801853e-7,2.8790064433603707e-7,1.4395032216801853e-7,2.8790064433603707e-7,1.4395032216801853e-7,1.4395032216801853e-7,4.318509665040556e-7,2.8790064433603707e-7,2.8790064433603707e-7,1.4395032216801853e-7,2.8790064433603707e-7,1.4395032216801853e-7,4.318509665040556e-7,1.4395032216801853e-7,4.318509665040556e-7,1.4395032216801853e-7,2.8790064433603707e-7,1.4395032216801853e-7,1.4395032216801853e-7,2.8790064433603707e-7,1.4395032216801853e-7,4.318509665040556e-7,2.8790064433603707e-7,2.8790064433603707e-7,2.8790064433603707e-7,4.318509665040556e-7,2.8790064433603707e-7,1.4395032216801853e-7,4.318509665040556e-7,8.637019330081112e-7,1.4395032216801853e-7,7.197516108400927e-7,8.637019330081112e-7,4.318509665040556e-7,1.4395032216801853e-7,5.758012886720741e-7,2.8790064433603707e-7,4.318509665040556e-7,2.8790064433603707e-7,4.318509665040556e-7,1.4395032216801853e-7,1.4395032216801853e-7,2.8790064433603707e-7,7.197516108400927e-7,1.4395032216801853e-7,1.4395032216801853e-7,2.8790064433603707e-7,7.197516108400927e-7,4.318509665040556e-7,5.758012886720741e-7,7.197516108400927e-7,1.4395032216801853e-7,4.318509665040556e-7,8.637019330081112e-7,2.8790064433603707e-7,4.318509665040556e-7,7.197516108400927e-7,1.4395032216801853e-7,7.197516108400927e-7,4.318509665040556e-7,4.318509665040556e-7,8.637019330081112e-7,5.758012886720741e-7,5.758012886720741e-7,2.8790064433603707e-7,8.637019330081112e-7,1.2955528995121668e-6,8.637019330081112e-7,1.0076522551761297e-6,1.1516025773441483e-6,1.871354188184241e-6,1.871354188184241e-6,1.5834535438482039e-6,1.871354188184241e-6,3.1669070876964077e-6,4.89431095371263e-6,0.0001328661473610811,0.028224771518449897,0.04199808229380808,0.030732674031261117,0.026606194095992696,0.02448379054594743,0.022867660278967087,0.021244620396522678,0.020250211570986006,0.018106647323582043,0.016912147550231824,0.01625357482631314,0.015767166687707404,0.015125580101804547,0.01490591191017615,0.014955574771324117,0.013516503400610436,0.013152740936491852,0.013025057000728821,0.012696562365541402,0.012480061081000702,0.01217287109349415,0.011901092885240931,0.011455566638130915,0.011113252772015367,0.011076257539218185,0.010759422880126377,0.010685864265498519,0.010746323400809088,0.010433519350737983,0.010058240860845958,0.010097539298797828,0.009870961491705367,0.00948272747281822,0.009266801989566193,0.008917146657020076,0.008415191883620195,0.008232662875111148,0.008053300773689797,0.007897546525104,0.007573370399581622,0.007470014068264985,0.00742466971678206,0.0071066834551129065,0.006874923436422397,0.00674464839486034,0.006617828161030316,0.006501948151685061,0.0063032967070931955,0.0062205252718465845,0.0060857877702973195,0.005836177911657975,0.005745201308047787,0.0056748096005076265,0.005609312203921178,0.0055677105608146205,0.005390219813581454,0.005169543969697881,0.005135427743344061,0.00506647553902558,0.005017676379810622,0.004874157908609108,0.004806933108156643,0.0047038646774843415,0.0045076603883693325,0.004373066837142235,0.004346148126896815,0.004278491475477847,0.004173119839650857,0.004107622443064409,0.004070915110911564,0.003938048963550483,0.0038037433129677217,0.0037788399072326544,0.003798417151047505,0.0036782186320372095,0.0036485648656705977,0.003638056492152332,0.003466179807483718,0.003340799076875374,0.003286817706062367,0.0032519817280977064,0.003241617304901609,0.003162732528353535,0.0030962274795119107,0.0030911892182360298,0.0030159031997421563,0.0029231991922659523,0.002859141298901184,0.0028382685021868213,0.002819842860949315,0.0028309270357562526,0.0026940302793744667,0.0026101072415505118,0.002586499388714957,0.0025710967042429787,0.0025205701411620046,0.002453633241353876,0.0024907724244732244,0.002392742255076804,0.00234509469843919,0.0023404882881298134,0.002259588207071387,0.0022502314361304656,0.0022823323579739337,0.002204599184003204,0.002107576666861959,0.0020570501037809846,0.002042942972208519,0.002019191169050796,0.0019767258240112303,0.001982915687864455,0.0019876660484959997,0.0019308056712396325,0.0017815291871513973,0.0018231308302579547,0.0017753393232981724,0.0017423746995216963,0.0017452537059650566,0.001747556911119745,0.0017095540260673881,0.0016493827914011562,0.0015990001786423498,0.0015473220129840312,0.0015743846735516186,0.0015087433266430022,0.001562292846489505,0.0015317753781898852,0.0014914692879828399,0.0014199259778653348,0.0013917117147204032,0.0014356165629816487,0.001376021129604089,0.0014337452087934644,0.0013604744948099432,0.001282741320839213,0.0013017427633653916,0.0012559665609159618,0.0012566863125268017,0.0012591334680036581,0.0012756877550529802,0.0012381167209671274,0.0011664294605274541,0.0011540497328210045,0.0011231004135548806,0.001119213754856344,0.0010771802607832826,0.0010905676407449083,0.001095461951698621,0.001033563313166373,0.0010348588660658853,0.0009961362294026881,0.00102435049254762,0.0009994470868125527,0.0009833246507297345,0.0009499281759867543,0.0009574135927394912,0.0009447459643887056,0.0009447459643887056,0.0009034322219264843,0.0009336617895817681,0.0009220018134861586,0.0009186909560762942,0.0008421093846829084,0.0008573681188327184,0.0008206607866798737,0.0008408138317833962,0.0008418214840385723,0.0008094326615507682,0.0008028109467310393,0.0008015153938315272,0.0007413441591652954,0.0007599137507249698,0.0007666794158668667,0.0007758922364856199,0.0007630806578126662,0.0007162968031080601,0.0007109706411878435,0.0006978711618705538,0.0006955679567158655,0.0007114024921543475,0.0006895220431848087,0.0007026215225020984,0.0006866430367414483,0.0006715282529138064,0.0006459050955678991,0.0006176908324229675,0.0006182666337116396,0.0006198500872554878,0.0006332374672171136,0.0005775286925380904,0.0006045913531056779,0.000590196320888876,0.0005687477228858412,0.0005756573383499061,0.0005786802951154345,0.0005758012886720741,0.0005382302545862212,0.0005313206391221564,0.0005265702784906117,0.0005010910714668725,0.0005139026501398262,0.000496772561801832,0.0005215320172147312,0.0004989318166343522,0.0004927419527811274,0.0004800743244303418,0.0004754679141209652,0.0004532995645070903,0.0004721570567111008,0.0004366013271356002,0.00045747412384996287,0.00044178353873364885,0.0004311312148932155,0.0004557467199839467,0.0004488371045198818,0.0004406319361563047,0.00041299347430004516,0.0004063717594803163,0.00038348365825560134,0.0003916888266191784,0.00036261086154123866,0.0003608834576752225,0.0003892416711423221,0.0003830518072890973,0.0003751345395698563,0.0003446170712702364,0.00033238129388595477,0.0003568528486545179,0.00033281314485245886,0.00033756350548400343,0.00033194944291945074,0.0003223047713341935,0.00032043341714600926,0.00032216082101202545,0.0003050307326740313,0.0003200015661795052,0.0003207213177903453,0.00030718998750655155,0.00028343818434882847,0.00027768017146210773,0.00028790064433603706,0.0002867490417586929,0.00026386094053397794,0.00028444583660400464,0.00028790064433603706,0.0002629972386009699,0.0002658762450443302,0.00024500344832996754,0.00025220096443836847,0.00027839992307294786,0.0002570952753920811,0.0002569513250699131,0.0002447155476856315,0.00022744150902546928,0.00022326694968259674,0.0002306084161131657,0.00023435112448953415,0.000240828888987095,0.0002307523664353337,0.0002369422302885585,0.00021966819162839627,0.00021247067551999536,0.00022398670129343684,0.00020426550715641828,0.00022182744646091657,0.00020728846392194667,0.0001996590968470417,0.00021621338389636382,0.00019663614008151332,0.00018152135625387137,0.00020153045103522594,0.0001802258033543592,0.00021391017874167553,0.00020714451359977865,0.00018440036269723174,0.00017461174078980648,0.00019145392848346463,0.00017446779046763846,0.0001779225981996709,0.00018684751817408805,0.00015820140406265235,0.0001772028465888308,0.00015287524214243568,0.00017000533048042987,0.0001701492808025979,0.00016323966533853302,0.0001662626221040614,0.0001592090563178285,0.0001499962356990753,0.00015863325502915641,0.0001453898253896987,0.00015014018602124333,0.0001544586956862839,0.00016021670857300463,0.00016050460921734067,0.0001772028465888308,0.00015834535438482037,0.00015489054665278793,0.00014956438473257125,0.00014150316669116222,0.00014323057055717843,0.00013934391185864192,0.000147549080222219,0.00014006366346948202,0.0001383362596034658,0.00013876811056996987,0.00014222291830200232,0.00016122436082818074,0.00015575424858579604,0.00013848020992563383,0.0001389120608921379,0.00015561029826362802,0.00015057203698774739,0.00015014018602124333,0.0001653989201710533,0.000186559617529752,0.00014942043441040323,0.00016640657242622943,0.00016338361566070104,0.0001671263240370695,0.00016381546662720507,0.0001715887840242781,0.00015719375180747624,0.00011458445644574275,0.00008262748492444264,0.00007399046559436153,0.00006175468821007995,0.00005326161920216685,0.00005311766887999884,0.00004879915921495828,0.00004102584181788528,0.00003929843795186906,0.00003166907087696408,0.00003210092184346813,0.00003238882248780417,0.000027206610889755502,0.00003238882248780417,0.00003238882248780417,0.000029653766366611815,0.00002346390251338702,0.00002461550509073117,0.000025767107668075318,0.00002461550509073117,0.00003080536894395597,0.00002735056121192352,0.000029221915400107763,0.000025767107668075318,0.000026630809601083426,0.000032532772809972184,0.000022888101224714945,0.000021016747036530705,0.000019145392848346464,0.000027926362500595595,0.000025767107668075318,0.000026630809601083426,0.000020872796714362685,0.000022312299936042873,0.000017274038660162224,0.000018281690915338352,0.000018137740593170336,0.000020296995425690613,0.000015258734149809964,0.000016986138015826188,9.356770940921204e-6,0.000010940224484769408,0.000014251081894633833,0.000011803926417777519,0.000010364423196097334,0.000011803926417777519,7.629367074904982e-6,0.000011803926417777519,0.000010076522551761296,0.00001079627416260139,7.773317397073e-6,5.614062564552722e-6,7.485416752736964e-6,8.78096965224913e-6,6.1898638532247965e-6,7.341466430568945e-6,7.629367074904982e-6,6.9096154640648896e-6,7.91726771924102e-6,8.205168363577056e-6,4.606410309376593e-6,7.773317397073e-6,7.053565786232908e-6,8.205168363577056e-6,7.773317397073e-6,5.758012886720741e-6,4.606410309376593e-6,3.4548077320324448e-6,4.750360631544611e-6,5.038261275880648e-6,5.614062564552722e-6,8.349118685745074e-6,4.174559342872537e-6,6.045913531056778e-6,3.742708376368482e-6,4.174559342872537e-6,4.462459987208574e-6,5.182211598048667e-6,4.318509665040556e-6,4.030609020704519e-6,3.8866586985365e-6,4.606410309376593e-6,4.030609020704519e-6,4.750360631544611e-6,4.750360631544611e-6,5.614062564552722e-6,3.4548077320324448e-6,2.3032051546882965e-6,2.735056121192352e-6,2.3032051546882965e-6,2.447155476856315e-6,3.3108574098644263e-6,3.742708376368482e-6,3.742708376368482e-6,3.742708376368482e-6,2.159254832520278e-6,2.5911057990243336e-6,2.5911057990243336e-6,3.3108574098644263e-6,1.1516025773441483e-6,2.3032051546882965e-6,2.447155476856315e-6,2.3032051546882965e-6,2.5911057990243336e-6,1.7274038660162224e-6,3.1669070876964077e-6,1.7274038660162224e-6,2.0153045103522595e-6,1.2955528995121668e-6,1.4395032216801853e-6,2.159254832520278e-6,2.8790064433603707e-6,2.447155476856315e-6,1.871354188184241e-6,2.5911057990243336e-6,1.7274038660162224e-6,2.3032051546882965e-6,1.5834535438482039e-6,2.735056121192352e-6,1.4395032216801853e-6,1.7274038660162224e-6,1.5834535438482039e-6,5.758012886720741e-7,2.0153045103522595e-6,1.2955528995121668e-6,1.5834535438482039e-6,1.2955528995121668e-6,1.2955528995121668e-6,4.318509665040556e-7,1.0076522551761297e-6,1.2955528995121668e-6,8.637019330081112e-7,2.159254832520278e-6,1.7274038660162224e-6,8.637019330081112e-7,1.2955528995121668e-6,8.637019330081112e-7,4.318509665040556e-7,1.2955528995121668e-6,2.0153045103522595e-6,2.3032051546882965e-6,1.2955528995121668e-6,3.1669070876964077e-6,1.2955528995121668e-6,1.871354188184241e-6,4.318509665040556e-7,4.318509665040556e-7,1.871354188184241e-6,1.4395032216801853e-6,7.197516108400927e-7,1.2955528995121668e-6,1.1516025773441483e-6,7.197516108400927e-7,1.1516025773441483e-6,5.758012886720741e-7,1.0076522551761297e-6,5.758012886720741e-7,1.0076522551761297e-6,5.758012886720741e-7,5.758012886720741e-7,1.0076522551761297e-6,8.637019330081112e-7,2.8790064433603707e-7,1.1516025773441483e-6,7.197516108400927e-7,7.197516108400927e-7,8.637019330081112e-7,1.2955528995121668e-6,1.0076522551761297e-6,5.758012886720741e-7,1.4395032216801853e-6,1.4395032216801853e-6,1.0076522551761297e-6,1.871354188184241e-6,2.0153045103522595e-6,5.758012886720741e-7,1.4395032216801853e-7,1.4395032216801853e-7,1.4395032216801853e-7],\"type\":\"scatter\"}],                        {\"xaxis\":{\"automargin\":true,\"tickangle\":45,\"title\":{\"text\":\"Days between search and checking time\"}},\"yaxis\":{\"title\":{\"text\":\"Frequency\"}},\"template\":{\"data\":{\"histogram2dcontour\":[{\"type\":\"histogram2dcontour\",\"colorbar\":{\"outlinewidth\":0,\"ticks\":\"\"},\"colorscale\":[[0.0,\"#0d0887\"],[0.1111111111111111,\"#46039f\"],[0.2222222222222222,\"#7201a8\"],[0.3333333333333333,\"#9c179e\"],[0.4444444444444444,\"#bd3786\"],[0.5555555555555556,\"#d8576b\"],[0.6666666666666666,\"#ed7953\"],[0.7777777777777778,\"#fb9f3a\"],[0.8888888888888888,\"#fdca26\"],[1.0,\"#f0f921\"]]}],\"choropleth\":[{\"type\":\"choropleth\",\"colorbar\":{\"outlinewidth\":0,\"ticks\":\"\"}}],\"histogram2d\":[{\"type\":\"histogram2d\",\"colorbar\":{\"outlinewidth\":0,\"ticks\":\"\"},\"colorscale\":[[0.0,\"#0d0887\"],[0.1111111111111111,\"#46039f\"],[0.2222222222222222,\"#7201a8\"],[0.3333333333333333,\"#9c179e\"],[0.4444444444444444,\"#bd3786\"],[0.5555555555555556,\"#d8576b\"],[0.6666666666666666,\"#ed7953\"],[0.7777777777777778,\"#fb9f3a\"],[0.8888888888888888,\"#fdca26\"],[1.0,\"#f0f921\"]]}],\"heatmap\":[{\"type\":\"heatmap\",\"colorbar\":{\"outlinewidth\":0,\"ticks\":\"\"},\"colorscale\":[[0.0,\"#0d0887\"],[0.1111111111111111,\"#46039f\"],[0.2222222222222222,\"#7201a8\"],[0.3333333333333333,\"#9c179e\"],[0.4444444444444444,\"#bd3786\"],[0.5555555555555556,\"#d8576b\"],[0.6666666666666666,\"#ed7953\"],[0.7777777777777778,\"#fb9f3a\"],[0.8888888888888888,\"#fdca26\"],[1.0,\"#f0f921\"]]}],\"heatmapgl\":[{\"type\":\"heatmapgl\",\"colorbar\":{\"outlinewidth\":0,\"ticks\":\"\"},\"colorscale\":[[0.0,\"#0d0887\"],[0.1111111111111111,\"#46039f\"],[0.2222222222222222,\"#7201a8\"],[0.3333333333333333,\"#9c179e\"],[0.4444444444444444,\"#bd3786\"],[0.5555555555555556,\"#d8576b\"],[0.6666666666666666,\"#ed7953\"],[0.7777777777777778,\"#fb9f3a\"],[0.8888888888888888,\"#fdca26\"],[1.0,\"#f0f921\"]]}],\"contourcarpet\":[{\"type\":\"contourcarpet\",\"colorbar\":{\"outlinewidth\":0,\"ticks\":\"\"}}],\"contour\":[{\"type\":\"contour\",\"colorbar\":{\"outlinewidth\":0,\"ticks\":\"\"},\"colorscale\":[[0.0,\"#0d0887\"],[0.1111111111111111,\"#46039f\"],[0.2222222222222222,\"#7201a8\"],[0.3333333333333333,\"#9c179e\"],[0.4444444444444444,\"#bd3786\"],[0.5555555555555556,\"#d8576b\"],[0.6666666666666666,\"#ed7953\"],[0.7777777777777778,\"#fb9f3a\"],[0.8888888888888888,\"#fdca26\"],[1.0,\"#f0f921\"]]}],\"surface\":[{\"type\":\"surface\",\"colorbar\":{\"outlinewidth\":0,\"ticks\":\"\"},\"colorscale\":[[0.0,\"#0d0887\"],[0.1111111111111111,\"#46039f\"],[0.2222222222222222,\"#7201a8\"],[0.3333333333333333,\"#9c179e\"],[0.4444444444444444,\"#bd3786\"],[0.5555555555555556,\"#d8576b\"],[0.6666666666666666,\"#ed7953\"],[0.7777777777777778,\"#fb9f3a\"],[0.8888888888888888,\"#fdca26\"],[1.0,\"#f0f921\"]]}],\"mesh3d\":[{\"type\":\"mesh3d\",\"colorbar\":{\"outlinewidth\":0,\"ticks\":\"\"}}],\"scatter\":[{\"fillpattern\":{\"fillmode\":\"overlay\",\"size\":10,\"solidity\":0.2},\"type\":\"scatter\"}],\"parcoords\":[{\"type\":\"parcoords\",\"line\":{\"colorbar\":{\"outlinewidth\":0,\"ticks\":\"\"}}}],\"scatterpolargl\":[{\"type\":\"scatterpolargl\",\"marker\":{\"colorbar\":{\"outlinewidth\":0,\"ticks\":\"\"}}}],\"bar\":[{\"error_x\":{\"color\":\"#2a3f5f\"},\"error_y\":{\"color\":\"#2a3f5f\"},\"marker\":{\"line\":{\"color\":\"#E5ECF6\",\"width\":0.5},\"pattern\":{\"fillmode\":\"overlay\",\"size\":10,\"solidity\":0.2}},\"type\":\"bar\"}],\"scattergeo\":[{\"type\":\"scattergeo\",\"marker\":{\"colorbar\":{\"outlinewidth\":0,\"ticks\":\"\"}}}],\"scatterpolar\":[{\"type\":\"scatterpolar\",\"marker\":{\"colorbar\":{\"outlinewidth\":0,\"ticks\":\"\"}}}],\"histogram\":[{\"marker\":{\"pattern\":{\"fillmode\":\"overlay\",\"size\":10,\"solidity\":0.2}},\"type\":\"histogram\"}],\"scattergl\":[{\"type\":\"scattergl\",\"marker\":{\"colorbar\":{\"outlinewidth\":0,\"ticks\":\"\"}}}],\"scatter3d\":[{\"type\":\"scatter3d\",\"line\":{\"colorbar\":{\"outlinewidth\":0,\"ticks\":\"\"}},\"marker\":{\"colorbar\":{\"outlinewidth\":0,\"ticks\":\"\"}}}],\"scattermapbox\":[{\"type\":\"scattermapbox\",\"marker\":{\"colorbar\":{\"outlinewidth\":0,\"ticks\":\"\"}}}],\"scatterternary\":[{\"type\":\"scatterternary\",\"marker\":{\"colorbar\":{\"outlinewidth\":0,\"ticks\":\"\"}}}],\"scattercarpet\":[{\"type\":\"scattercarpet\",\"marker\":{\"colorbar\":{\"outlinewidth\":0,\"ticks\":\"\"}}}],\"carpet\":[{\"aaxis\":{\"endlinecolor\":\"#2a3f5f\",\"gridcolor\":\"white\",\"linecolor\":\"white\",\"minorgridcolor\":\"white\",\"startlinecolor\":\"#2a3f5f\"},\"baxis\":{\"endlinecolor\":\"#2a3f5f\",\"gridcolor\":\"white\",\"linecolor\":\"white\",\"minorgridcolor\":\"white\",\"startlinecolor\":\"#2a3f5f\"},\"type\":\"carpet\"}],\"table\":[{\"cells\":{\"fill\":{\"color\":\"#EBF0F8\"},\"line\":{\"color\":\"white\"}},\"header\":{\"fill\":{\"color\":\"#C8D4E3\"},\"line\":{\"color\":\"white\"}},\"type\":\"table\"}],\"barpolar\":[{\"marker\":{\"line\":{\"color\":\"#E5ECF6\",\"width\":0.5},\"pattern\":{\"fillmode\":\"overlay\",\"size\":10,\"solidity\":0.2}},\"type\":\"barpolar\"}],\"pie\":[{\"automargin\":true,\"type\":\"pie\"}]},\"layout\":{\"autotypenumbers\":\"strict\",\"colorway\":[\"#636efa\",\"#EF553B\",\"#00cc96\",\"#ab63fa\",\"#FFA15A\",\"#19d3f3\",\"#FF6692\",\"#B6E880\",\"#FF97FF\",\"#FECB52\"],\"font\":{\"color\":\"#2a3f5f\"},\"hovermode\":\"closest\",\"hoverlabel\":{\"align\":\"left\"},\"paper_bgcolor\":\"white\",\"plot_bgcolor\":\"#E5ECF6\",\"polar\":{\"bgcolor\":\"#E5ECF6\",\"angularaxis\":{\"gridcolor\":\"white\",\"linecolor\":\"white\",\"ticks\":\"\"},\"radialaxis\":{\"gridcolor\":\"white\",\"linecolor\":\"white\",\"ticks\":\"\"}},\"ternary\":{\"bgcolor\":\"#E5ECF6\",\"aaxis\":{\"gridcolor\":\"white\",\"linecolor\":\"white\",\"ticks\":\"\"},\"baxis\":{\"gridcolor\":\"white\",\"linecolor\":\"white\",\"ticks\":\"\"},\"caxis\":{\"gridcolor\":\"white\",\"linecolor\":\"white\",\"ticks\":\"\"}},\"coloraxis\":{\"colorbar\":{\"outlinewidth\":0,\"ticks\":\"\"}},\"colorscale\":{\"sequential\":[[0.0,\"#0d0887\"],[0.1111111111111111,\"#46039f\"],[0.2222222222222222,\"#7201a8\"],[0.3333333333333333,\"#9c179e\"],[0.4444444444444444,\"#bd3786\"],[0.5555555555555556,\"#d8576b\"],[0.6666666666666666,\"#ed7953\"],[0.7777777777777778,\"#fb9f3a\"],[0.8888888888888888,\"#fdca26\"],[1.0,\"#f0f921\"]],\"sequentialminus\":[[0.0,\"#0d0887\"],[0.1111111111111111,\"#46039f\"],[0.2222222222222222,\"#7201a8\"],[0.3333333333333333,\"#9c179e\"],[0.4444444444444444,\"#bd3786\"],[0.5555555555555556,\"#d8576b\"],[0.6666666666666666,\"#ed7953\"],[0.7777777777777778,\"#fb9f3a\"],[0.8888888888888888,\"#fdca26\"],[1.0,\"#f0f921\"]],\"diverging\":[[0,\"#8e0152\"],[0.1,\"#c51b7d\"],[0.2,\"#de77ae\"],[0.3,\"#f1b6da\"],[0.4,\"#fde0ef\"],[0.5,\"#f7f7f7\"],[0.6,\"#e6f5d0\"],[0.7,\"#b8e186\"],[0.8,\"#7fbc41\"],[0.9,\"#4d9221\"],[1,\"#276419\"]]},\"xaxis\":{\"gridcolor\":\"white\",\"linecolor\":\"white\",\"ticks\":\"\",\"title\":{\"standoff\":15},\"zerolinecolor\":\"white\",\"automargin\":true,\"zerolinewidth\":2},\"yaxis\":{\"gridcolor\":\"white\",\"linecolor\":\"white\",\"ticks\":\"\",\"title\":{\"standoff\":15},\"zerolinecolor\":\"white\",\"automargin\":true,\"zerolinewidth\":2},\"scene\":{\"xaxis\":{\"backgroundcolor\":\"#E5ECF6\",\"gridcolor\":\"white\",\"linecolor\":\"white\",\"showbackground\":true,\"ticks\":\"\",\"zerolinecolor\":\"white\",\"gridwidth\":2},\"yaxis\":{\"backgroundcolor\":\"#E5ECF6\",\"gridcolor\":\"white\",\"linecolor\":\"white\",\"showbackground\":true,\"ticks\":\"\",\"zerolinecolor\":\"white\",\"gridwidth\":2},\"zaxis\":{\"backgroundcolor\":\"#E5ECF6\",\"gridcolor\":\"white\",\"linecolor\":\"white\",\"showbackground\":true,\"ticks\":\"\",\"zerolinecolor\":\"white\",\"gridwidth\":2}},\"shapedefaults\":{\"line\":{\"color\":\"#2a3f5f\"}},\"annotationdefaults\":{\"arrowcolor\":\"#2a3f5f\",\"arrowhead\":0,\"arrowwidth\":1},\"geo\":{\"bgcolor\":\"white\",\"landcolor\":\"#E5ECF6\",\"subunitcolor\":\"white\",\"showland\":true,\"showlakes\":true,\"lakecolor\":\"white\"},\"title\":{\"x\":0.05},\"mapbox\":{\"style\":\"light\"}}}},                        {\"responsive\": true}                    ).then(function(){\n",
              "                            \n",
              "var gd = document.getElementById('1389d8d8-3305-4a46-bc58-e792a6ee502e');\n",
              "var x = new MutationObserver(function (mutations, observer) {{\n",
              "        var display = window.getComputedStyle(gd).display;\n",
              "        if (!display || display === 'none') {{\n",
              "            console.log([gd, 'removed!']);\n",
              "            Plotly.purge(gd);\n",
              "            observer.disconnect();\n",
              "        }}\n",
              "}});\n",
              "\n",
              "// Listen for the removal of the full notebook cells\n",
              "var notebookContainer = gd.closest('#notebook-container');\n",
              "if (notebookContainer) {{\n",
              "    x.observe(notebookContainer, {childList: true});\n",
              "}}\n",
              "\n",
              "// Listen for the clearing of the current output cell\n",
              "var outputEl = gd.closest('.output');\n",
              "if (outputEl) {{\n",
              "    x.observe(outputEl, {childList: true});\n",
              "}}\n",
              "\n",
              "                        })                };                            </script>        </div>\n",
              "</body>\n",
              "</html>"
            ]
          },
          "metadata": {}
        }
      ],
      "source": [
        "trace_not_booked = go.Scatter(y = days_search_percentage_notbooked, name='Not Booked', opacity = 0.5)\n",
        "trace_is_booked = go.Scatter(y = days_search_percentage_booked, name='Booked')\n",
        "\n",
        "data = [trace_is_booked, trace_not_booked]\n",
        "\n",
        "layout = go.Layout(\n",
        "    xaxis=dict(title='Days between search and checking time', tickangle=45, automargin=True),\n",
        "    yaxis=dict(title='Frequency')\n",
        ")\n",
        "\n",
        "fig = go.Figure(data=data, layout=layout)\n",
        "fig.show()\n",
        "fig.write_json('./days_between.json')"
      ]
    },
    {
      "cell_type": "markdown",
      "metadata": {
        "id": "rKV5sj0u_qti"
      },
      "source": [
        "A line graph for the duration of stay"
      ]
    },
    {
      "cell_type": "code",
      "execution_count": null,
      "metadata": {
        "id": "tP26-y4NCxQs"
      },
      "outputs": [],
      "source": [
        "stay_search_percentage_notbooked = not_booked['duration'].value_counts().sort_index()/len(not_booked)\n",
        "stay_search_percentage_booked = is_booked['duration'].value_counts().sort_index()/len(is_booked)"
      ]
    },
    {
      "cell_type": "code",
      "execution_count": null,
      "metadata": {
        "colab": {
          "base_uri": "https://localhost:8080/",
          "height": 542
        },
        "id": "Fu76wUTKljqg",
        "outputId": "76c91502-4643-4f17-8915-a31b41962fc9"
      },
      "outputs": [
        {
          "output_type": "display_data",
          "data": {
            "text/html": [
              "<html>\n",
              "<head><meta charset=\"utf-8\" /></head>\n",
              "<body>\n",
              "    <div>            <script src=\"https://cdnjs.cloudflare.com/ajax/libs/mathjax/2.7.5/MathJax.js?config=TeX-AMS-MML_SVG\"></script><script type=\"text/javascript\">if (window.MathJax && window.MathJax.Hub && window.MathJax.Hub.Config) {window.MathJax.Hub.Config({SVG: {font: \"STIX-Web\"}});}</script>                <script type=\"text/javascript\">window.PlotlyConfig = {MathJaxConfig: 'local'};</script>\n",
              "        <script charset=\"utf-8\" src=\"https://cdn.plot.ly/plotly-2.35.2.min.js\"></script>                <div id=\"8227a21d-8270-497d-9adf-dd61cdca96d3\" class=\"plotly-graph-div\" style=\"height:525px; width:100%;\"></div>            <script type=\"text/javascript\">                                    window.PLOTLYENV=window.PLOTLYENV || {};                                    if (document.getElementById(\"8227a21d-8270-497d-9adf-dd61cdca96d3\")) {                    Plotly.newPlot(                        \"8227a21d-8270-497d-9adf-dd61cdca96d3\",                        [{\"name\":\"Booked\",\"y\":[0.43093098764555415,0.22446050339418644,0.14472696176119976,0.08568337747613947,0.044226408024572915,0.023844669699501563,0.023492635227319085,0.007432006732470421,0.004302979299466509,0.003382854863590419,0.0017390200750301797,0.0012721589080585676,0.0010470381511693437,0.0015562038899053737,0.0004532632689044778,0.0002719579613426867,0.0002160554915111344,0.00014655512361244781,0.00012691371529325378,0.00014806600117546275,0.0001797944299987762,0.00004834808201647763,0.00003021755126029852,0.000049858959579492555,0.00004834808201647763,0.00003626106151235822,0.000040793694201403,0.00010273967428501497,1.510877563014926e-6,1.510877563014926e-6],\"type\":\"scatter\"},{\"name\":\"Not Booked\",\"opacity\":0.5,\"y\":[0.004578771847520333,0.25929829112254044,0.20371691247863596,0.1759753821917041,0.12360150462634743,0.07102163414996832,0.04835420876913694,0.056060589266401804,0.017280228524015447,0.010560771435534511,0.008098501174850555,0.003975188146669832,0.0027703239501235166,0.0031355259174637795,0.004954194287734526,0.0012952649988678306,0.0007819381500166766,0.0005249868249467635,0.00038132440342308107,0.0003876582175984739,0.00046395188834752373,0.0005808395499479548,0.00021160697358698724,0.00015244339117593162,0.0001561860995523001,0.000194188984604657,0.00019562848782633718,0.00013776045831479373,0.000342025965471212,0.0000823395842801066,0.00010738694033734182,0.00010076522551761297,0.00008766574620032329,0.00006765665141896871,0.0000489431095371263,0.00004635200373810196,0.000029221915400107763,0.000017130088337994204,0.000013387379961625723,0.000012091827062113557,9.356770940921204e-6,7.485416752736964e-6,0.000010940224484769408,6.9096154640648896e-6,7.91726771924102e-6,5.758012886720741e-6,4.462459987208574e-6,3.8866586985365e-6,5.326161920216685e-6,5.038261275880648e-6,5.038261275880648e-6,4.89431095371263e-6,3.8866586985365e-6,3.5987580542004633e-6,2.5911057990243336e-6,3.4548077320324448e-6,5.758012886720741e-6,3.742708376368482e-6,4.030609020704519e-6,8.205168363577056e-6,0.00002274415090254693,0.00001065232384043337,2.8790064433603707e-6,1.871354188184241e-6,1.2955528995121668e-6,7.197516108400927e-7,4.318509665040556e-7,4.318509665040556e-7,1.4395032216801853e-7,2.8790064433603707e-7,4.318509665040556e-7,5.758012886720741e-7,1.4395032216801853e-7,1.4395032216801853e-7,2.8790064433603707e-7,1.4395032216801853e-7,2.8790064433603707e-7,7.197516108400927e-7,2.8790064433603707e-7,2.8790064433603707e-7,1.4395032216801853e-7,2.8790064433603707e-7,1.4395032216801853e-7,1.4395032216801853e-7,4.318509665040556e-7,4.318509665040556e-7,1.7274038660162224e-6,1.1516025773441483e-6,2.447155476856315e-6,6.3338141753928154e-6,7.197516108400927e-7,1.4395032216801853e-6,5.758012886720741e-7,1.4395032216801853e-7,1.4395032216801853e-7,4.318509665040556e-7,4.318509665040556e-7,1.4395032216801853e-7,1.4395032216801853e-7,1.4395032216801853e-7,2.8790064433603707e-7,1.4395032216801853e-7,1.4395032216801853e-7,4.318509665040556e-7,2.8790064433603707e-7,1.4395032216801853e-7,1.1516025773441483e-6,1.4395032216801853e-7,2.8790064433603707e-6,1.0076522551761297e-6,2.8790064433603707e-7,1.4395032216801853e-7,1.4395032216801853e-7,4.318509665040556e-7,1.4395032216801853e-7,2.8790064433603707e-7,1.4395032216801853e-7,1.4395032216801853e-7,1.4395032216801853e-7,2.8790064433603707e-7,1.4395032216801853e-7,4.318509665040556e-7,4.318509665040556e-7,1.4395032216801853e-7,2.3032051546882965e-6,8.637019330081112e-7,1.4395032216801853e-7,1.4395032216801853e-7,2.8790064433603707e-7,4.318509665040556e-7,2.8790064433603707e-7,1.4395032216801853e-7,1.4395032216801853e-7,1.4395032216801853e-7,1.4395032216801853e-7,1.4395032216801853e-7,1.4395032216801853e-7,8.637019330081112e-7,1.4395032216801853e-7,1.4395032216801853e-7,1.4395032216801853e-7,1.4395032216801853e-7,2.8790064433603707e-7,1.4395032216801853e-7,1.4395032216801853e-7,2.8790064433603707e-7,2.8790064433603707e-7,1.4395032216801853e-7,1.4395032216801853e-7,1.4395032216801853e-7,5.758012886720741e-7,1.1516025773441483e-6,1.4395032216801853e-7,1.4395032216801853e-7,1.4395032216801853e-7,1.4395032216801853e-7,1.4395032216801853e-7,2.8790064433603707e-7,4.318509665040556e-7,2.8790064433603707e-7,1.4395032216801853e-7,1.4395032216801853e-7,1.4395032216801853e-7,4.318509665040556e-7,1.4395032216801853e-7,1.4395032216801853e-7,1.4395032216801853e-7,1.4395032216801853e-7,1.0076522551761297e-6,1.4395032216801853e-7,1.4395032216801853e-7,1.4395032216801853e-7],\"type\":\"scatter\"}],                        {\"xaxis\":{\"automargin\":true,\"tickangle\":45,\"title\":{\"text\":\"Length of Stay\"}},\"yaxis\":{\"title\":{\"text\":\"Frequency\"}},\"template\":{\"data\":{\"histogram2dcontour\":[{\"type\":\"histogram2dcontour\",\"colorbar\":{\"outlinewidth\":0,\"ticks\":\"\"},\"colorscale\":[[0.0,\"#0d0887\"],[0.1111111111111111,\"#46039f\"],[0.2222222222222222,\"#7201a8\"],[0.3333333333333333,\"#9c179e\"],[0.4444444444444444,\"#bd3786\"],[0.5555555555555556,\"#d8576b\"],[0.6666666666666666,\"#ed7953\"],[0.7777777777777778,\"#fb9f3a\"],[0.8888888888888888,\"#fdca26\"],[1.0,\"#f0f921\"]]}],\"choropleth\":[{\"type\":\"choropleth\",\"colorbar\":{\"outlinewidth\":0,\"ticks\":\"\"}}],\"histogram2d\":[{\"type\":\"histogram2d\",\"colorbar\":{\"outlinewidth\":0,\"ticks\":\"\"},\"colorscale\":[[0.0,\"#0d0887\"],[0.1111111111111111,\"#46039f\"],[0.2222222222222222,\"#7201a8\"],[0.3333333333333333,\"#9c179e\"],[0.4444444444444444,\"#bd3786\"],[0.5555555555555556,\"#d8576b\"],[0.6666666666666666,\"#ed7953\"],[0.7777777777777778,\"#fb9f3a\"],[0.8888888888888888,\"#fdca26\"],[1.0,\"#f0f921\"]]}],\"heatmap\":[{\"type\":\"heatmap\",\"colorbar\":{\"outlinewidth\":0,\"ticks\":\"\"},\"colorscale\":[[0.0,\"#0d0887\"],[0.1111111111111111,\"#46039f\"],[0.2222222222222222,\"#7201a8\"],[0.3333333333333333,\"#9c179e\"],[0.4444444444444444,\"#bd3786\"],[0.5555555555555556,\"#d8576b\"],[0.6666666666666666,\"#ed7953\"],[0.7777777777777778,\"#fb9f3a\"],[0.8888888888888888,\"#fdca26\"],[1.0,\"#f0f921\"]]}],\"heatmapgl\":[{\"type\":\"heatmapgl\",\"colorbar\":{\"outlinewidth\":0,\"ticks\":\"\"},\"colorscale\":[[0.0,\"#0d0887\"],[0.1111111111111111,\"#46039f\"],[0.2222222222222222,\"#7201a8\"],[0.3333333333333333,\"#9c179e\"],[0.4444444444444444,\"#bd3786\"],[0.5555555555555556,\"#d8576b\"],[0.6666666666666666,\"#ed7953\"],[0.7777777777777778,\"#fb9f3a\"],[0.8888888888888888,\"#fdca26\"],[1.0,\"#f0f921\"]]}],\"contourcarpet\":[{\"type\":\"contourcarpet\",\"colorbar\":{\"outlinewidth\":0,\"ticks\":\"\"}}],\"contour\":[{\"type\":\"contour\",\"colorbar\":{\"outlinewidth\":0,\"ticks\":\"\"},\"colorscale\":[[0.0,\"#0d0887\"],[0.1111111111111111,\"#46039f\"],[0.2222222222222222,\"#7201a8\"],[0.3333333333333333,\"#9c179e\"],[0.4444444444444444,\"#bd3786\"],[0.5555555555555556,\"#d8576b\"],[0.6666666666666666,\"#ed7953\"],[0.7777777777777778,\"#fb9f3a\"],[0.8888888888888888,\"#fdca26\"],[1.0,\"#f0f921\"]]}],\"surface\":[{\"type\":\"surface\",\"colorbar\":{\"outlinewidth\":0,\"ticks\":\"\"},\"colorscale\":[[0.0,\"#0d0887\"],[0.1111111111111111,\"#46039f\"],[0.2222222222222222,\"#7201a8\"],[0.3333333333333333,\"#9c179e\"],[0.4444444444444444,\"#bd3786\"],[0.5555555555555556,\"#d8576b\"],[0.6666666666666666,\"#ed7953\"],[0.7777777777777778,\"#fb9f3a\"],[0.8888888888888888,\"#fdca26\"],[1.0,\"#f0f921\"]]}],\"mesh3d\":[{\"type\":\"mesh3d\",\"colorbar\":{\"outlinewidth\":0,\"ticks\":\"\"}}],\"scatter\":[{\"fillpattern\":{\"fillmode\":\"overlay\",\"size\":10,\"solidity\":0.2},\"type\":\"scatter\"}],\"parcoords\":[{\"type\":\"parcoords\",\"line\":{\"colorbar\":{\"outlinewidth\":0,\"ticks\":\"\"}}}],\"scatterpolargl\":[{\"type\":\"scatterpolargl\",\"marker\":{\"colorbar\":{\"outlinewidth\":0,\"ticks\":\"\"}}}],\"bar\":[{\"error_x\":{\"color\":\"#2a3f5f\"},\"error_y\":{\"color\":\"#2a3f5f\"},\"marker\":{\"line\":{\"color\":\"#E5ECF6\",\"width\":0.5},\"pattern\":{\"fillmode\":\"overlay\",\"size\":10,\"solidity\":0.2}},\"type\":\"bar\"}],\"scattergeo\":[{\"type\":\"scattergeo\",\"marker\":{\"colorbar\":{\"outlinewidth\":0,\"ticks\":\"\"}}}],\"scatterpolar\":[{\"type\":\"scatterpolar\",\"marker\":{\"colorbar\":{\"outlinewidth\":0,\"ticks\":\"\"}}}],\"histogram\":[{\"marker\":{\"pattern\":{\"fillmode\":\"overlay\",\"size\":10,\"solidity\":0.2}},\"type\":\"histogram\"}],\"scattergl\":[{\"type\":\"scattergl\",\"marker\":{\"colorbar\":{\"outlinewidth\":0,\"ticks\":\"\"}}}],\"scatter3d\":[{\"type\":\"scatter3d\",\"line\":{\"colorbar\":{\"outlinewidth\":0,\"ticks\":\"\"}},\"marker\":{\"colorbar\":{\"outlinewidth\":0,\"ticks\":\"\"}}}],\"scattermapbox\":[{\"type\":\"scattermapbox\",\"marker\":{\"colorbar\":{\"outlinewidth\":0,\"ticks\":\"\"}}}],\"scatterternary\":[{\"type\":\"scatterternary\",\"marker\":{\"colorbar\":{\"outlinewidth\":0,\"ticks\":\"\"}}}],\"scattercarpet\":[{\"type\":\"scattercarpet\",\"marker\":{\"colorbar\":{\"outlinewidth\":0,\"ticks\":\"\"}}}],\"carpet\":[{\"aaxis\":{\"endlinecolor\":\"#2a3f5f\",\"gridcolor\":\"white\",\"linecolor\":\"white\",\"minorgridcolor\":\"white\",\"startlinecolor\":\"#2a3f5f\"},\"baxis\":{\"endlinecolor\":\"#2a3f5f\",\"gridcolor\":\"white\",\"linecolor\":\"white\",\"minorgridcolor\":\"white\",\"startlinecolor\":\"#2a3f5f\"},\"type\":\"carpet\"}],\"table\":[{\"cells\":{\"fill\":{\"color\":\"#EBF0F8\"},\"line\":{\"color\":\"white\"}},\"header\":{\"fill\":{\"color\":\"#C8D4E3\"},\"line\":{\"color\":\"white\"}},\"type\":\"table\"}],\"barpolar\":[{\"marker\":{\"line\":{\"color\":\"#E5ECF6\",\"width\":0.5},\"pattern\":{\"fillmode\":\"overlay\",\"size\":10,\"solidity\":0.2}},\"type\":\"barpolar\"}],\"pie\":[{\"automargin\":true,\"type\":\"pie\"}]},\"layout\":{\"autotypenumbers\":\"strict\",\"colorway\":[\"#636efa\",\"#EF553B\",\"#00cc96\",\"#ab63fa\",\"#FFA15A\",\"#19d3f3\",\"#FF6692\",\"#B6E880\",\"#FF97FF\",\"#FECB52\"],\"font\":{\"color\":\"#2a3f5f\"},\"hovermode\":\"closest\",\"hoverlabel\":{\"align\":\"left\"},\"paper_bgcolor\":\"white\",\"plot_bgcolor\":\"#E5ECF6\",\"polar\":{\"bgcolor\":\"#E5ECF6\",\"angularaxis\":{\"gridcolor\":\"white\",\"linecolor\":\"white\",\"ticks\":\"\"},\"radialaxis\":{\"gridcolor\":\"white\",\"linecolor\":\"white\",\"ticks\":\"\"}},\"ternary\":{\"bgcolor\":\"#E5ECF6\",\"aaxis\":{\"gridcolor\":\"white\",\"linecolor\":\"white\",\"ticks\":\"\"},\"baxis\":{\"gridcolor\":\"white\",\"linecolor\":\"white\",\"ticks\":\"\"},\"caxis\":{\"gridcolor\":\"white\",\"linecolor\":\"white\",\"ticks\":\"\"}},\"coloraxis\":{\"colorbar\":{\"outlinewidth\":0,\"ticks\":\"\"}},\"colorscale\":{\"sequential\":[[0.0,\"#0d0887\"],[0.1111111111111111,\"#46039f\"],[0.2222222222222222,\"#7201a8\"],[0.3333333333333333,\"#9c179e\"],[0.4444444444444444,\"#bd3786\"],[0.5555555555555556,\"#d8576b\"],[0.6666666666666666,\"#ed7953\"],[0.7777777777777778,\"#fb9f3a\"],[0.8888888888888888,\"#fdca26\"],[1.0,\"#f0f921\"]],\"sequentialminus\":[[0.0,\"#0d0887\"],[0.1111111111111111,\"#46039f\"],[0.2222222222222222,\"#7201a8\"],[0.3333333333333333,\"#9c179e\"],[0.4444444444444444,\"#bd3786\"],[0.5555555555555556,\"#d8576b\"],[0.6666666666666666,\"#ed7953\"],[0.7777777777777778,\"#fb9f3a\"],[0.8888888888888888,\"#fdca26\"],[1.0,\"#f0f921\"]],\"diverging\":[[0,\"#8e0152\"],[0.1,\"#c51b7d\"],[0.2,\"#de77ae\"],[0.3,\"#f1b6da\"],[0.4,\"#fde0ef\"],[0.5,\"#f7f7f7\"],[0.6,\"#e6f5d0\"],[0.7,\"#b8e186\"],[0.8,\"#7fbc41\"],[0.9,\"#4d9221\"],[1,\"#276419\"]]},\"xaxis\":{\"gridcolor\":\"white\",\"linecolor\":\"white\",\"ticks\":\"\",\"title\":{\"standoff\":15},\"zerolinecolor\":\"white\",\"automargin\":true,\"zerolinewidth\":2},\"yaxis\":{\"gridcolor\":\"white\",\"linecolor\":\"white\",\"ticks\":\"\",\"title\":{\"standoff\":15},\"zerolinecolor\":\"white\",\"automargin\":true,\"zerolinewidth\":2},\"scene\":{\"xaxis\":{\"backgroundcolor\":\"#E5ECF6\",\"gridcolor\":\"white\",\"linecolor\":\"white\",\"showbackground\":true,\"ticks\":\"\",\"zerolinecolor\":\"white\",\"gridwidth\":2},\"yaxis\":{\"backgroundcolor\":\"#E5ECF6\",\"gridcolor\":\"white\",\"linecolor\":\"white\",\"showbackground\":true,\"ticks\":\"\",\"zerolinecolor\":\"white\",\"gridwidth\":2},\"zaxis\":{\"backgroundcolor\":\"#E5ECF6\",\"gridcolor\":\"white\",\"linecolor\":\"white\",\"showbackground\":true,\"ticks\":\"\",\"zerolinecolor\":\"white\",\"gridwidth\":2}},\"shapedefaults\":{\"line\":{\"color\":\"#2a3f5f\"}},\"annotationdefaults\":{\"arrowcolor\":\"#2a3f5f\",\"arrowhead\":0,\"arrowwidth\":1},\"geo\":{\"bgcolor\":\"white\",\"landcolor\":\"#E5ECF6\",\"subunitcolor\":\"white\",\"showland\":true,\"showlakes\":true,\"lakecolor\":\"white\"},\"title\":{\"x\":0.05},\"mapbox\":{\"style\":\"light\"}}}},                        {\"responsive\": true}                    ).then(function(){\n",
              "                            \n",
              "var gd = document.getElementById('8227a21d-8270-497d-9adf-dd61cdca96d3');\n",
              "var x = new MutationObserver(function (mutations, observer) {{\n",
              "        var display = window.getComputedStyle(gd).display;\n",
              "        if (!display || display === 'none') {{\n",
              "            console.log([gd, 'removed!']);\n",
              "            Plotly.purge(gd);\n",
              "            observer.disconnect();\n",
              "        }}\n",
              "}});\n",
              "\n",
              "// Listen for the removal of the full notebook cells\n",
              "var notebookContainer = gd.closest('#notebook-container');\n",
              "if (notebookContainer) {{\n",
              "    x.observe(notebookContainer, {childList: true});\n",
              "}}\n",
              "\n",
              "// Listen for the clearing of the current output cell\n",
              "var outputEl = gd.closest('.output');\n",
              "if (outputEl) {{\n",
              "    x.observe(outputEl, {childList: true});\n",
              "}}\n",
              "\n",
              "                        })                };                            </script>        </div>\n",
              "</body>\n",
              "</html>"
            ]
          },
          "metadata": {}
        }
      ],
      "source": [
        "trace_not_booked = go.Scatter(y = stay_search_percentage_notbooked, name='Not Booked', opacity = 0.5)\n",
        "trace_is_booked = go.Scatter(y = stay_search_percentage_booked, name='Booked')\n",
        "\n",
        "data = [trace_is_booked, trace_not_booked]\n",
        "\n",
        "layout = go.Layout(\n",
        "    xaxis=dict(title='Length of Stay', tickangle=45, automargin=True),\n",
        "    yaxis=dict(title='Frequency')\n",
        ")\n",
        "\n",
        "fig = go.Figure(data=data, layout=layout)\n",
        "fig.show()\n",
        "fig.write_json('./los.json')"
      ]
    },
    {
      "cell_type": "markdown",
      "metadata": {
        "id": "MrXekVellnR1"
      },
      "source": [
        "Foreign or Domestic?"
      ]
    },
    {
      "cell_type": "code",
      "execution_count": null,
      "metadata": {
        "id": "C-OClGjClkkT"
      },
      "outputs": [],
      "source": [
        "# TODO: Add is_abroad column\n",
        "import numpy as np\n",
        "train['is_abroad'] = np.where(\n",
        "     train['user_location_country'] == train['hotel_country'], 0, 1\n",
        ")\n",
        "\n",
        "test['is_abroad'] = np.where(\n",
        "     test['user_location_country'] == test['hotel_country'], 0, 1\n",
        ")"
      ]
    },
    {
      "cell_type": "code",
      "execution_count": null,
      "metadata": {
        "id": "9Zl6wYhhbfNJ"
      },
      "outputs": [],
      "source": [
        "# TODO: Preprocessing (Make One-hotted Columns) (Optional)\n",
        "#dummy_columns = ['channel', 'destination_type', 'hotel_category']\n",
        "\n",
        "#for col in dummy_columns:\n",
        "#    print(\"column:\", col, \"unique_values:\", len(train[col].unique()))\n",
        "#    print(\"column:\", col, \"unique_values:\", len(train[col].unique()))"
      ]
    },
    {
      "cell_type": "code",
      "execution_count": null,
      "metadata": {
        "id": "n15HA1ODctyu"
      },
      "outputs": [],
      "source": [
        "#!pip install category_encoders"
      ]
    },
    {
      "cell_type": "code",
      "execution_count": null,
      "metadata": {
        "id": "LEuk46-Wly3_"
      },
      "outputs": [],
      "source": [
        "#import category_encoders as ce\n",
        "#binary_encoder = ce.BinaryEncoder()\n",
        "\n",
        "#train_binary_channel = binary_encoder.fit_transform(train['channel'])\n",
        "#test_binary_channel = binary_encoder.transform(test['channel'])\n",
        "\n",
        "#train_binary_destination_type = binary_encoder.fit_transform(train['destination_type'])\n",
        "#test_binary_destination_type = binary_encoder.transform(test['destination_type'])\n",
        "\n",
        "#train_binary_hotel_category = binary_encoder.fit_transform(train['hotel_category'])\n",
        "#test_binary_hotel_category = binary_encoder.transform(test['hotel_category'])"
      ]
    },
    {
      "cell_type": "code",
      "execution_count": null,
      "metadata": {
        "id": "uFzEcb4FeZQy"
      },
      "outputs": [],
      "source": [
        "#train = pd.concat([train, train_binary_channel, train_binary_destination_type, train_binary_hotel_category], axis = 1)\n",
        "#test = pd.concat([test, test_binary_channel, test_binary_destination_type, test_binary_hotel_category], axis = 1)"
      ]
    },
    {
      "cell_type": "code",
      "execution_count": null,
      "metadata": {
        "id": "xF0gXXuMWghU"
      },
      "outputs": [],
      "source": [
        "# TODO: Preprocessing (Drop Unnecessary Columns) (Optional)\n",
        "columns_to_del = ['user_location_country', 'user_location_region', 'user_location_city', 'checkIn_date', 'checkOut_date', 'hotel_continent', 'hotel_country', 'hotel_market',\n",
        "                  'search_date'\n",
        "                  #'channel', 'destination_type', 'hotel_category'\n",
        "                  ]\n",
        "\n",
        "train = train.drop(columns=columns_to_del)\n",
        "test = test.drop(columns=columns_to_del)"
      ]
    },
    {
      "cell_type": "code",
      "execution_count": null,
      "metadata": {
        "id": "gGxmOa2ul9B_"
      },
      "outputs": [],
      "source": [
        "# normalize data\n",
        "columns = test.columns\n",
        "for column in columns:\n",
        "  mean = train[column].mean()\n",
        "  std = train[column].std()\n",
        "  train[column] = (train[column]- mean)/std\n",
        "  test[column] = (test[column] - mean)/std"
      ]
    },
    {
      "cell_type": "code",
      "execution_count": null,
      "metadata": {
        "colab": {
          "base_uri": "https://localhost:8080/",
          "height": 178
        },
        "id": "iwrAv1dlxZ0Z",
        "outputId": "da29bfa9-14c2-4a80-bb78-05f839a3b2d5"
      },
      "outputs": [
        {
          "output_type": "execute_result",
          "data": {
            "text/plain": [
              "is_booking\n",
              "0    6946841\n",
              "1     661867\n",
              "Name: count, dtype: int64"
            ],
            "text/html": [
              "<div>\n",
              "<style scoped>\n",
              "    .dataframe tbody tr th:only-of-type {\n",
              "        vertical-align: middle;\n",
              "    }\n",
              "\n",
              "    .dataframe tbody tr th {\n",
              "        vertical-align: top;\n",
              "    }\n",
              "\n",
              "    .dataframe thead th {\n",
              "        text-align: right;\n",
              "    }\n",
              "</style>\n",
              "<table border=\"1\" class=\"dataframe\">\n",
              "  <thead>\n",
              "    <tr style=\"text-align: right;\">\n",
              "      <th></th>\n",
              "      <th>count</th>\n",
              "    </tr>\n",
              "    <tr>\n",
              "      <th>is_booking</th>\n",
              "      <th></th>\n",
              "    </tr>\n",
              "  </thead>\n",
              "  <tbody>\n",
              "    <tr>\n",
              "      <th>0</th>\n",
              "      <td>6946841</td>\n",
              "    </tr>\n",
              "    <tr>\n",
              "      <th>1</th>\n",
              "      <td>661867</td>\n",
              "    </tr>\n",
              "  </tbody>\n",
              "</table>\n",
              "</div><br><label><b>dtype:</b> int64</label>"
            ]
          },
          "metadata": {},
          "execution_count": 41
        }
      ],
      "source": [
        "train['is_booking'].value_counts()"
      ]
    },
    {
      "cell_type": "code",
      "execution_count": null,
      "metadata": {
        "id": "A094ixO6S4UT"
      },
      "outputs": [],
      "source": [
        "X = train.drop(columns=['is_booking'], axis=1)\n",
        "y = train['is_booking']"
      ]
    },
    {
      "cell_type": "code",
      "execution_count": null,
      "metadata": {
        "id": "VRpM8AEyMK-E"
      },
      "outputs": [],
      "source": [
        "# balance data\n",
        "from imblearn.under_sampling import RandomUnderSampler\n",
        "rus = RandomUnderSampler(sampling_strategy={0: 700000})\n",
        "X_ru, y_ru = rus.fit_resample(X, y)\n",
        "\n",
        "#from imblearn.under_sampling import NearMiss\n",
        "#undersample = NearMiss(version=3, n_neighbors=3)\n",
        "#X_ru, y_ru = undersample.fit_resample(X, y)\n",
        "\n",
        "#from imblearn.over_sampling import SMOTE\n",
        "#oversample = SMOTE(sampling_strategy='minority', k_neighbors=3, random_state=42)\n",
        "#X_ru, y_ru = oversample.fit_resample(X, y)"
      ]
    },
    {
      "cell_type": "code",
      "execution_count": null,
      "metadata": {
        "colab": {
          "base_uri": "https://localhost:8080/",
          "height": 178
        },
        "id": "bLoFfj1wcqCi",
        "outputId": "5b30981c-9038-47d0-bbe4-aafa7fa97d6e"
      },
      "outputs": [
        {
          "output_type": "execute_result",
          "data": {
            "text/plain": [
              "is_booking\n",
              "0    700000\n",
              "1    661867\n",
              "Name: count, dtype: int64"
            ],
            "text/html": [
              "<div>\n",
              "<style scoped>\n",
              "    .dataframe tbody tr th:only-of-type {\n",
              "        vertical-align: middle;\n",
              "    }\n",
              "\n",
              "    .dataframe tbody tr th {\n",
              "        vertical-align: top;\n",
              "    }\n",
              "\n",
              "    .dataframe thead th {\n",
              "        text-align: right;\n",
              "    }\n",
              "</style>\n",
              "<table border=\"1\" class=\"dataframe\">\n",
              "  <thead>\n",
              "    <tr style=\"text-align: right;\">\n",
              "      <th></th>\n",
              "      <th>count</th>\n",
              "    </tr>\n",
              "    <tr>\n",
              "      <th>is_booking</th>\n",
              "      <th></th>\n",
              "    </tr>\n",
              "  </thead>\n",
              "  <tbody>\n",
              "    <tr>\n",
              "      <th>0</th>\n",
              "      <td>700000</td>\n",
              "    </tr>\n",
              "    <tr>\n",
              "      <th>1</th>\n",
              "      <td>661867</td>\n",
              "    </tr>\n",
              "  </tbody>\n",
              "</table>\n",
              "</div><br><label><b>dtype:</b> int64</label>"
            ]
          },
          "metadata": {},
          "execution_count": 44
        }
      ],
      "source": [
        "y_ru.value_counts()"
      ]
    },
    {
      "cell_type": "code",
      "execution_count": null,
      "metadata": {
        "colab": {
          "base_uri": "https://localhost:8080/"
        },
        "id": "vB2tnfoZl7g6",
        "outputId": "1fe6e0df-c82b-4ce5-af55-aed756d7cd3b"
      },
      "outputs": [
        {
          "output_type": "stream",
          "name": "stdout",
          "text": [
            "Train examples: 1089493 1089493\n",
            "Validation examples: 272374 272374\n",
            "Test examples: 325821\n"
          ]
        }
      ],
      "source": [
        "from sklearn.model_selection import train_test_split\n",
        "\n",
        "X_train, X_valid, y_train, y_valid = train_test_split(X_ru, y_ru, test_size = 0.2, random_state=123)\n",
        "\n",
        "print('Train examples:', len(X_train), len(y_train))\n",
        "print('Validation examples:', len(X_valid), len(y_valid))\n",
        "print('Test examples:',  len(test))"
      ]
    },
    {
      "cell_type": "markdown",
      "metadata": {
        "id": "DH2kRuJCmABH"
      },
      "source": [
        "**Modeling**"
      ]
    },
    {
      "cell_type": "code",
      "source": [
        "#import pandas as pd\n",
        "#train = pd.read_csv('/content/drive/My Drive/saved_data.csv')\n",
        "#test = pd.read_csv('/content/drive/My Drive/saved_testdata.csv')"
      ],
      "metadata": {
        "id": "y3CV8gMbnzT8"
      },
      "execution_count": null,
      "outputs": []
    },
    {
      "cell_type": "code",
      "execution_count": null,
      "metadata": {
        "colab": {
          "base_uri": "https://localhost:8080/"
        },
        "id": "7klmhemnmCzl",
        "outputId": "d89644ea-adfa-465d-8ba1-a52765caaacd"
      },
      "outputs": [
        {
          "output_type": "stream",
          "name": "stdout",
          "text": [
            "Requirement already satisfied: keras in /usr/local/lib/python3.10/dist-packages (3.5.0)\n",
            "Collecting keras\n",
            "  Downloading keras-3.6.0-py3-none-any.whl.metadata (5.8 kB)\n",
            "Requirement already satisfied: absl-py in /usr/local/lib/python3.10/dist-packages (from keras) (1.4.0)\n",
            "Requirement already satisfied: numpy in /usr/local/lib/python3.10/dist-packages (from keras) (1.26.4)\n",
            "Requirement already satisfied: rich in /usr/local/lib/python3.10/dist-packages (from keras) (13.9.4)\n",
            "Requirement already satisfied: namex in /usr/local/lib/python3.10/dist-packages (from keras) (0.0.8)\n",
            "Requirement already satisfied: h5py in /usr/local/lib/python3.10/dist-packages (from keras) (3.12.1)\n",
            "Requirement already satisfied: optree in /usr/local/lib/python3.10/dist-packages (from keras) (0.13.1)\n",
            "Requirement already satisfied: ml-dtypes in /usr/local/lib/python3.10/dist-packages (from keras) (0.4.1)\n",
            "Requirement already satisfied: packaging in /usr/local/lib/python3.10/dist-packages (from keras) (24.2)\n",
            "Requirement already satisfied: typing-extensions>=4.5.0 in /usr/local/lib/python3.10/dist-packages (from optree->keras) (4.12.2)\n",
            "Requirement already satisfied: markdown-it-py>=2.2.0 in /usr/local/lib/python3.10/dist-packages (from rich->keras) (3.0.0)\n",
            "Requirement already satisfied: pygments<3.0.0,>=2.13.0 in /usr/local/lib/python3.10/dist-packages (from rich->keras) (2.18.0)\n",
            "Requirement already satisfied: mdurl~=0.1 in /usr/local/lib/python3.10/dist-packages (from markdown-it-py>=2.2.0->rich->keras) (0.1.2)\n",
            "Downloading keras-3.6.0-py3-none-any.whl (1.2 MB)\n",
            "\u001b[2K   \u001b[90m━━━━━━━━━━━━━━━━━━━━━━━━━━━━━━━━━━━━━━━━\u001b[0m \u001b[32m1.2/1.2 MB\u001b[0m \u001b[31m51.5 MB/s\u001b[0m eta \u001b[36m0:00:00\u001b[0m\n",
            "\u001b[?25hInstalling collected packages: keras\n",
            "  Attempting uninstall: keras\n",
            "    Found existing installation: keras 3.5.0\n",
            "    Uninstalling keras-3.5.0:\n",
            "      Successfully uninstalled keras-3.5.0\n",
            "Successfully installed keras-3.6.0\n"
          ]
        }
      ],
      "source": [
        "!pip install keras --upgrade\n",
        "# Uncomment the above line if you don't have keras 3 installed"
      ]
    },
    {
      "cell_type": "code",
      "execution_count": null,
      "metadata": {
        "id": "Tx5sO0OHmFso"
      },
      "outputs": [],
      "source": [
        "import os\n",
        "os.environ[\"KERAS_BACKEND\"] = \"tensorflow\""
      ]
    },
    {
      "cell_type": "code",
      "execution_count": null,
      "metadata": {
        "colab": {
          "base_uri": "https://localhost:8080/"
        },
        "id": "4M6snGtMmIKb",
        "outputId": "d87bf3a6-10ae-4729-c9b5-bf702ec30f86"
      },
      "outputs": [
        {
          "output_type": "stream",
          "name": "stdout",
          "text": [
            "3.6.0\n"
          ]
        }
      ],
      "source": [
        "import keras\n",
        "print(keras.__version__)"
      ]
    },
    {
      "cell_type": "code",
      "execution_count": null,
      "metadata": {
        "id": "c-qDlFc_mKlO"
      },
      "outputs": [],
      "source": [
        "# TODO : Design Model\n",
        "# Batch normalization applies a transformation that maintains the mean output close to 0 and the output standard deviation close to 1.\n",
        "\n",
        "model = keras.Sequential()\n",
        "model.add(keras.layers.Input(shape=(21,))) # number of features\n",
        "\n",
        "model.add(keras.layers.Dense(400,\n",
        "                             activation='selu',\n",
        "                             kernel_initializer=keras.initializers.LecunNormal(seed=123),\n",
        "                             kernel_regularizer=keras.regularizers.L1L2(l1=3e-5, l2=3e-4)))\n",
        "model.add(keras.layers.LayerNormalization())\n",
        "\n",
        "model.add(keras.layers.Dense(400,\n",
        "                             activation='selu',\n",
        "                             kernel_initializer=keras.initializers.LecunNormal(seed=123),\n",
        "                             kernel_regularizer=keras.regularizers.L1L2(l1=3e-5, l2=3e-4)))\n",
        "model.add(keras.layers.LayerNormalization())\n",
        "\n",
        "model.add(keras.layers.Dense(100,\n",
        "                             activation='selu',\n",
        "                             kernel_initializer=keras.initializers.LecunNormal(seed=123),\n",
        "                             kernel_regularizer=keras.regularizers.L1L2(l1=3e-5, l2=3e-4)))\n",
        "model.add(keras.layers.LayerNormalization())\n",
        "\n",
        "model.add(keras.layers.Dense(1,\n",
        "                             activation='sigmoid',\n",
        "                             kernel_regularizer=keras.regularizers.L1L2(l1=3e-5, l2=3e-4)))\n"
      ]
    },
    {
      "cell_type": "code",
      "execution_count": null,
      "metadata": {
        "id": "q_iG4R1wmM3Z"
      },
      "outputs": [],
      "source": [
        "# TODO : Complie the Model\n",
        "model.compile(optimizer = 'adam',\n",
        "              loss = keras.losses.BinaryCrossentropy(from_logits=False),\n",
        "              metrics = [keras.metrics.AUC()])"
      ]
    },
    {
      "cell_type": "code",
      "execution_count": null,
      "metadata": {
        "colab": {
          "base_uri": "https://localhost:8080/"
        },
        "id": "RxBA0rAHmRHV",
        "outputId": "a3474d48-cf7d-4232-e959-c9324eae24a3"
      },
      "outputs": [
        {
          "output_type": "stream",
          "name": "stdout",
          "text": [
            "Epoch 1/100\n",
            "\u001b[1m34047/34047\u001b[0m \u001b[32m━━━━━━━━━━━━━━━━━━━━\u001b[0m\u001b[37m\u001b[0m \u001b[1m115s\u001b[0m 3ms/step - auc: 0.7422 - loss: 0.6625 - val_auc: 0.7564 - val_loss: 0.5700\n",
            "Epoch 2/100\n",
            "\u001b[1m34047/34047\u001b[0m \u001b[32m━━━━━━━━━━━━━━━━━━━━\u001b[0m\u001b[37m\u001b[0m \u001b[1m87s\u001b[0m 3ms/step - auc: 0.7552 - loss: 0.5701 - val_auc: 0.7571 - val_loss: 0.5677\n",
            "Epoch 3/100\n",
            "\u001b[1m34047/34047\u001b[0m \u001b[32m━━━━━━━━━━━━━━━━━━━━\u001b[0m\u001b[37m\u001b[0m \u001b[1m95s\u001b[0m 3ms/step - auc: 0.7567 - loss: 0.5684 - val_auc: 0.7582 - val_loss: 0.5667\n",
            "Epoch 4/100\n",
            "\u001b[1m34047/34047\u001b[0m \u001b[32m━━━━━━━━━━━━━━━━━━━━\u001b[0m\u001b[37m\u001b[0m \u001b[1m94s\u001b[0m 3ms/step - auc: 0.7565 - loss: 0.5682 - val_auc: 0.7585 - val_loss: 0.5670\n",
            "Epoch 5/100\n",
            "\u001b[1m34047/34047\u001b[0m \u001b[32m━━━━━━━━━━━━━━━━━━━━\u001b[0m\u001b[37m\u001b[0m \u001b[1m95s\u001b[0m 3ms/step - auc: 0.7584 - loss: 0.5670 - val_auc: 0.7576 - val_loss: 0.5666\n",
            "Epoch 6/100\n",
            "\u001b[1m34047/34047\u001b[0m \u001b[32m━━━━━━━━━━━━━━━━━━━━\u001b[0m\u001b[37m\u001b[0m \u001b[1m142s\u001b[0m 3ms/step - auc: 0.7580 - loss: 0.5674 - val_auc: 0.7578 - val_loss: 0.5670\n",
            "Epoch 7/100\n",
            "\u001b[1m34047/34047\u001b[0m \u001b[32m━━━━━━━━━━━━━━━━━━━━\u001b[0m\u001b[37m\u001b[0m \u001b[1m134s\u001b[0m 3ms/step - auc: 0.7565 - loss: 0.5687 - val_auc: 0.7578 - val_loss: 0.5687\n",
            "Epoch 8/100\n",
            "\u001b[1m34047/34047\u001b[0m \u001b[32m━━━━━━━━━━━━━━━━━━━━\u001b[0m\u001b[37m\u001b[0m \u001b[1m149s\u001b[0m 3ms/step - auc: 0.7579 - loss: 0.5675 - val_auc: 0.7582 - val_loss: 0.5665\n",
            "Epoch 9/100\n",
            "\u001b[1m34047/34047\u001b[0m \u001b[32m━━━━━━━━━━━━━━━━━━━━\u001b[0m\u001b[37m\u001b[0m \u001b[1m95s\u001b[0m 3ms/step - auc: 0.7584 - loss: 0.5669 - val_auc: 0.7590 - val_loss: 0.5666\n",
            "Epoch 10/100\n",
            "\u001b[1m34047/34047\u001b[0m \u001b[32m━━━━━━━━━━━━━━━━━━━━\u001b[0m\u001b[37m\u001b[0m \u001b[1m96s\u001b[0m 3ms/step - auc: 0.7572 - loss: 0.5676 - val_auc: 0.7586 - val_loss: 0.5670\n",
            "Epoch 11/100\n",
            "\u001b[1m34047/34047\u001b[0m \u001b[32m━━━━━━━━━━━━━━━━━━━━\u001b[0m\u001b[37m\u001b[0m \u001b[1m88s\u001b[0m 3ms/step - auc: 0.7577 - loss: 0.5674 - val_auc: 0.7578 - val_loss: 0.5669\n",
            "Epoch 12/100\n",
            "\u001b[1m34047/34047\u001b[0m \u001b[32m━━━━━━━━━━━━━━━━━━━━\u001b[0m\u001b[37m\u001b[0m \u001b[1m95s\u001b[0m 3ms/step - auc: 0.7581 - loss: 0.5677 - val_auc: 0.7584 - val_loss: 0.5674\n",
            "Epoch 13/100\n",
            "\u001b[1m34047/34047\u001b[0m \u001b[32m━━━━━━━━━━━━━━━━━━━━\u001b[0m\u001b[37m\u001b[0m \u001b[1m100s\u001b[0m 3ms/step - auc: 0.7584 - loss: 0.5671 - val_auc: 0.7590 - val_loss: 0.5678\n",
            "Epoch 14/100\n",
            "\u001b[1m34047/34047\u001b[0m \u001b[32m━━━━━━━━━━━━━━━━━━━━\u001b[0m\u001b[37m\u001b[0m \u001b[1m138s\u001b[0m 3ms/step - auc: 0.7585 - loss: 0.5670 - val_auc: 0.7585 - val_loss: 0.5668\n",
            "Epoch 15/100\n",
            "\u001b[1m34047/34047\u001b[0m \u001b[32m━━━━━━━━━━━━━━━━━━━━\u001b[0m\u001b[37m\u001b[0m \u001b[1m96s\u001b[0m 3ms/step - auc: 0.7578 - loss: 0.5676 - val_auc: 0.7580 - val_loss: 0.5663\n",
            "Epoch 16/100\n",
            "\u001b[1m34047/34047\u001b[0m \u001b[32m━━━━━━━━━━━━━━━━━━━━\u001b[0m\u001b[37m\u001b[0m \u001b[1m101s\u001b[0m 3ms/step - auc: 0.7569 - loss: 0.5680 - val_auc: 0.7583 - val_loss: 0.5667\n",
            "Epoch 17/100\n",
            "\u001b[1m34047/34047\u001b[0m \u001b[32m━━━━━━━━━━━━━━━━━━━━\u001b[0m\u001b[37m\u001b[0m \u001b[1m132s\u001b[0m 3ms/step - auc: 0.7589 - loss: 0.5665 - val_auc: 0.7577 - val_loss: 0.5687\n",
            "Epoch 18/100\n",
            "\u001b[1m34047/34047\u001b[0m \u001b[32m━━━━━━━━━━━━━━━━━━━━\u001b[0m\u001b[37m\u001b[0m \u001b[1m97s\u001b[0m 3ms/step - auc: 0.7578 - loss: 0.5674 - val_auc: 0.7592 - val_loss: 0.5666\n",
            "Epoch 19/100\n",
            "\u001b[1m34047/34047\u001b[0m \u001b[32m━━━━━━━━━━━━━━━━━━━━\u001b[0m\u001b[37m\u001b[0m \u001b[1m143s\u001b[0m 3ms/step - auc: 0.7574 - loss: 0.5679 - val_auc: 0.7593 - val_loss: 0.5663\n",
            "Epoch 20/100\n",
            "\u001b[1m34047/34047\u001b[0m \u001b[32m━━━━━━━━━━━━━━━━━━━━\u001b[0m\u001b[37m\u001b[0m \u001b[1m140s\u001b[0m 3ms/step - auc: 0.7575 - loss: 0.5677 - val_auc: 0.7558 - val_loss: 0.5709\n",
            "Epoch 21/100\n",
            "\u001b[1m34047/34047\u001b[0m \u001b[32m━━━━━━━━━━━━━━━━━━━━\u001b[0m\u001b[37m\u001b[0m \u001b[1m89s\u001b[0m 3ms/step - auc: 0.7581 - loss: 0.5675 - val_auc: 0.7587 - val_loss: 0.5667\n",
            "Epoch 22/100\n",
            "\u001b[1m34047/34047\u001b[0m \u001b[32m━━━━━━━━━━━━━━━━━━━━\u001b[0m\u001b[37m\u001b[0m \u001b[1m143s\u001b[0m 3ms/step - auc: 0.7579 - loss: 0.5673 - val_auc: 0.7586 - val_loss: 0.5672\n",
            "Epoch 23/100\n",
            "\u001b[1m34047/34047\u001b[0m \u001b[32m━━━━━━━━━━━━━━━━━━━━\u001b[0m\u001b[37m\u001b[0m \u001b[1m96s\u001b[0m 3ms/step - auc: 0.7568 - loss: 0.5682 - val_auc: 0.7585 - val_loss: 0.5663\n",
            "Epoch 24/100\n",
            "\u001b[1m34047/34047\u001b[0m \u001b[32m━━━━━━━━━━━━━━━━━━━━\u001b[0m\u001b[37m\u001b[0m \u001b[1m89s\u001b[0m 3ms/step - auc: 0.7575 - loss: 0.5677 - val_auc: 0.7590 - val_loss: 0.5663\n",
            "Epoch 25/100\n",
            "\u001b[1m34031/34047\u001b[0m \u001b[32m━━━━━━━━━━━━━━━━━━━\u001b[0m\u001b[37m━\u001b[0m \u001b[1m0s\u001b[0m 2ms/step - auc: 0.7579 - loss: 0.5676Epoch 26/100\n",
            "\u001b[1m34047/34047\u001b[0m \u001b[32m━━━━━━━━━━━━━━━━━━━━\u001b[0m\u001b[37m\u001b[0m \u001b[1m133s\u001b[0m 3ms/step - auc: 0.7584 - loss: 0.5669 - val_auc: 0.7584 - val_loss: 0.5689\n",
            "Epoch 27/100\n",
            "\u001b[1m34047/34047\u001b[0m \u001b[32m━━━━━━━━━━━━━━━━━━━━\u001b[0m\u001b[37m\u001b[0m \u001b[1m151s\u001b[0m 3ms/step - auc: 0.7577 - loss: 0.5677 - val_auc: 0.7586 - val_loss: 0.5667\n",
            "Epoch 28/100\n",
            "\u001b[1m34047/34047\u001b[0m \u001b[32m━━━━━━━━━━━━━━━━━━━━\u001b[0m\u001b[37m\u001b[0m \u001b[1m89s\u001b[0m 3ms/step - auc: 0.7582 - loss: 0.5672 - val_auc: 0.7588 - val_loss: 0.5667\n",
            "Epoch 29/100\n",
            "\u001b[1m34047/34047\u001b[0m \u001b[32m━━━━━━━━━━━━━━━━━━━━\u001b[0m\u001b[37m\u001b[0m \u001b[1m90s\u001b[0m 3ms/step - auc: 0.7573 - loss: 0.5681 - val_auc: 0.7585 - val_loss: 0.5667\n",
            "Epoch 30/100\n",
            "\u001b[1m34047/34047\u001b[0m \u001b[32m━━━━━━━━━━━━━━━━━━━━\u001b[0m\u001b[37m\u001b[0m \u001b[1m148s\u001b[0m 3ms/step - auc: 0.7578 - loss: 0.5677 - val_auc: 0.7592 - val_loss: 0.5668\n",
            "Epoch 31/100\n",
            "\u001b[1m34047/34047\u001b[0m \u001b[32m━━━━━━━━━━━━━━━━━━━━\u001b[0m\u001b[37m\u001b[0m \u001b[1m91s\u001b[0m 3ms/step - auc: 0.7583 - loss: 0.5671 - val_auc: 0.7590 - val_loss: 0.5659\n",
            "Epoch 32/100\n",
            "\u001b[1m34047/34047\u001b[0m \u001b[32m━━━━━━━━━━━━━━━━━━━━\u001b[0m\u001b[37m\u001b[0m \u001b[1m97s\u001b[0m 3ms/step - auc: 0.7580 - loss: 0.5676 - val_auc: 0.7585 - val_loss: 0.5678\n",
            "Epoch 33/100\n",
            "\u001b[1m34047/34047\u001b[0m \u001b[32m━━━━━━━━━━━━━━━━━━━━\u001b[0m\u001b[37m\u001b[0m \u001b[1m133s\u001b[0m 3ms/step - auc: 0.7585 - loss: 0.5671 - val_auc: 0.7588 - val_loss: 0.5660\n",
            "Epoch 34/100\n",
            "\u001b[1m34047/34047\u001b[0m \u001b[32m━━━━━━━━━━━━━━━━━━━━\u001b[0m\u001b[37m\u001b[0m \u001b[1m89s\u001b[0m 3ms/step - auc: 0.7583 - loss: 0.5670 - val_auc: 0.7585 - val_loss: 0.5665\n",
            "Epoch 35/100\n",
            "\u001b[1m34047/34047\u001b[0m \u001b[32m━━━━━━━━━━━━━━━━━━━━\u001b[0m\u001b[37m\u001b[0m \u001b[1m95s\u001b[0m 3ms/step - auc: 0.7581 - loss: 0.5672 - val_auc: 0.7588 - val_loss: 0.5677\n",
            "Epoch 36/100\n",
            "\u001b[1m34047/34047\u001b[0m \u001b[32m━━━━━━━━━━━━━━━━━━━━\u001b[0m\u001b[37m\u001b[0m \u001b[1m141s\u001b[0m 3ms/step - auc: 0.7577 - loss: 0.5677 - val_auc: 0.7584 - val_loss: 0.5665\n",
            "Epoch 37/100\n",
            "\u001b[1m34047/34047\u001b[0m \u001b[32m━━━━━━━━━━━━━━━━━━━━\u001b[0m\u001b[37m\u001b[0m \u001b[1m88s\u001b[0m 3ms/step - auc: 0.7587 - loss: 0.5670 - val_auc: 0.7578 - val_loss: 0.5665\n",
            "Epoch 38/100\n",
            "\u001b[1m34047/34047\u001b[0m \u001b[32m━━━━━━━━━━━━━━━━━━━━\u001b[0m\u001b[37m\u001b[0m \u001b[1m144s\u001b[0m 3ms/step - auc: 0.7583 - loss: 0.5672 - val_auc: 0.7591 - val_loss: 0.5654\n",
            "Epoch 39/100\n",
            "\u001b[1m34047/34047\u001b[0m \u001b[32m━━━━━━━━━━━━━━━━━━━━\u001b[0m\u001b[37m\u001b[0m \u001b[1m96s\u001b[0m 3ms/step - auc: 0.7582 - loss: 0.5673 - val_auc: 0.7587 - val_loss: 0.5660\n",
            "Epoch 40/100\n",
            "\u001b[1m34047/34047\u001b[0m \u001b[32m━━━━━━━━━━━━━━━━━━━━\u001b[0m\u001b[37m\u001b[0m \u001b[1m88s\u001b[0m 3ms/step - auc: 0.7578 - loss: 0.5674 - val_auc: 0.7584 - val_loss: 0.5672\n",
            "Epoch 41/100\n",
            "\u001b[1m34047/34047\u001b[0m \u001b[32m━━━━━━━━━━━━━━━━━━━━\u001b[0m\u001b[37m\u001b[0m \u001b[1m150s\u001b[0m 3ms/step - auc: 0.7574 - loss: 0.5678 - val_auc: 0.7593 - val_loss: 0.5672\n",
            "Epoch 42/100\n",
            "\u001b[1m34047/34047\u001b[0m \u001b[32m━━━━━━━━━━━━━━━━━━━━\u001b[0m\u001b[37m\u001b[0m \u001b[1m140s\u001b[0m 3ms/step - auc: 0.7581 - loss: 0.5670 - val_auc: 0.7593 - val_loss: 0.5660\n",
            "Epoch 43/100\n",
            "\u001b[1m34047/34047\u001b[0m \u001b[32m━━━━━━━━━━━━━━━━━━━━\u001b[0m\u001b[37m\u001b[0m \u001b[1m142s\u001b[0m 3ms/step - auc: 0.7577 - loss: 0.5675 - val_auc: 0.7588 - val_loss: 0.5667\n",
            "Epoch 44/100\n",
            "\u001b[1m34047/34047\u001b[0m \u001b[32m━━━━━━━━━━━━━━━━━━━━\u001b[0m\u001b[37m\u001b[0m \u001b[1m88s\u001b[0m 3ms/step - auc: 0.7575 - loss: 0.5678 - val_auc: 0.7588 - val_loss: 0.5672\n",
            "Epoch 45/100\n",
            "\u001b[1m34047/34047\u001b[0m \u001b[32m━━━━━━━━━━━━━━━━━━━━\u001b[0m\u001b[37m\u001b[0m \u001b[1m87s\u001b[0m 3ms/step - auc: 0.7587 - loss: 0.5669 - val_auc: 0.7585 - val_loss: 0.5668\n",
            "Epoch 46/100\n",
            "\u001b[1m34047/34047\u001b[0m \u001b[32m━━━━━━━━━━━━━━━━━━━━\u001b[0m\u001b[37m\u001b[0m \u001b[1m150s\u001b[0m 3ms/step - auc: 0.7579 - loss: 0.5674 - val_auc: 0.7590 - val_loss: 0.5662\n",
            "Epoch 47/100\n",
            "\u001b[1m34047/34047\u001b[0m \u001b[32m━━━━━━━━━━━━━━━━━━━━\u001b[0m\u001b[37m\u001b[0m \u001b[1m142s\u001b[0m 3ms/step - auc: 0.7578 - loss: 0.5673 - val_auc: 0.7592 - val_loss: 0.5657\n",
            "Epoch 48/100\n",
            "\u001b[1m34047/34047\u001b[0m \u001b[32m━━━━━━━━━━━━━━━━━━━━\u001b[0m\u001b[37m\u001b[0m \u001b[1m88s\u001b[0m 3ms/step - auc: 0.7575 - loss: 0.5678 - val_auc: 0.7585 - val_loss: 0.5681\n"
          ]
        }
      ],
      "source": [
        "# TODO : Train your Model\n",
        "\n",
        "EPochs = 100\n",
        "BATCH_SIZE = 32\n",
        "\n",
        "checkpoint_cb = keras.callbacks.ModelCheckpoint(filepath=\"/content/drive/My Drive/my_keras_model.keras\", save_best_only=True)\n",
        "early_stopping_cb = keras.callbacks.EarlyStopping(monitor='val_loss', mode='auto', patience=10)\n",
        "\n",
        "history = model.fit(X_train, y_train,\n",
        "                    epochs=EPochs, batch_size=BATCH_SIZE,\n",
        "                    validation_data=(X_valid, y_valid),\n",
        "                    callbacks=[checkpoint_cb, early_stopping_cb])"
      ]
    },
    {
      "cell_type": "code",
      "execution_count": null,
      "metadata": {
        "id": "Eky1YQV-olyy",
        "colab": {
          "base_uri": "https://localhost:8080/"
        },
        "outputId": "9fbba16a-8dda-46d3-d55e-e2e21b758897"
      },
      "outputs": [
        {
          "output_type": "stream",
          "name": "stdout",
          "text": [
            "\u001b[1m8512/8512\u001b[0m \u001b[32m━━━━━━━━━━━━━━━━━━━━\u001b[0m\u001b[37m\u001b[0m \u001b[1m14s\u001b[0m 2ms/step\n"
          ]
        }
      ],
      "source": [
        "from sklearn.metrics import roc_auc_score\n",
        "\n",
        "y_pred = model.predict(X_valid, batch_size=BATCH_SIZE)\n",
        "auc = roc_auc_score(y_valid, y_pred)"
      ]
    },
    {
      "cell_type": "code",
      "source": [
        "# Calculate AUC score\n",
        "from sklearn.metrics import roc_auc_score\n",
        "auc = roc_auc_score(y_valid, y_pred)\n",
        "print(\"AUC Score:\", auc)"
      ],
      "metadata": {
        "colab": {
          "base_uri": "https://localhost:8080/"
        },
        "id": "teFV0FoTVJbw",
        "outputId": "09fa1948-54a9-4119-d0aa-773dcf6e44fd"
      },
      "execution_count": null,
      "outputs": [
        {
          "output_type": "stream",
          "name": "stdout",
          "text": [
            "AUC Score: 0.758474704741942\n"
          ]
        }
      ]
    },
    {
      "cell_type": "code",
      "source": [
        "predictions = model.predict(test, batch_size=BATCH_SIZE)"
      ],
      "metadata": {
        "colab": {
          "base_uri": "https://localhost:8080/"
        },
        "id": "roIQ86aaWOJQ",
        "outputId": "7868cace-a5ca-4d9e-80eb-90789b57f31e"
      },
      "execution_count": null,
      "outputs": [
        {
          "output_type": "stream",
          "name": "stdout",
          "text": [
            "\u001b[1m10182/10182\u001b[0m \u001b[32m━━━━━━━━━━━━━━━━━━━━\u001b[0m\u001b[37m\u001b[0m \u001b[1m16s\u001b[0m 2ms/step\n"
          ]
        }
      ]
    },
    {
      "cell_type": "code",
      "source": [
        "# Preparing Submission Dataframe\n",
        "\n",
        "submission = pd.DataFrame(predictions, columns=['prediction'])\n",
        "submission.head()"
      ],
      "metadata": {
        "colab": {
          "base_uri": "https://localhost:8080/",
          "height": 206
        },
        "id": "rxkaIAK1WIHW",
        "outputId": "160f25f0-5b21-4a63-bd52-a557ce47b1b9"
      },
      "execution_count": null,
      "outputs": [
        {
          "output_type": "execute_result",
          "data": {
            "text/plain": [
              "   prediction\n",
              "0    0.514805\n",
              "1    0.723857\n",
              "2    0.631785\n",
              "3    0.805812\n",
              "4    0.525902"
            ],
            "text/html": [
              "\n",
              "  <div id=\"df-e2edcb67-c983-4089-98bc-f2bf1eb47622\" class=\"colab-df-container\">\n",
              "    <div>\n",
              "<style scoped>\n",
              "    .dataframe tbody tr th:only-of-type {\n",
              "        vertical-align: middle;\n",
              "    }\n",
              "\n",
              "    .dataframe tbody tr th {\n",
              "        vertical-align: top;\n",
              "    }\n",
              "\n",
              "    .dataframe thead th {\n",
              "        text-align: right;\n",
              "    }\n",
              "</style>\n",
              "<table border=\"1\" class=\"dataframe\">\n",
              "  <thead>\n",
              "    <tr style=\"text-align: right;\">\n",
              "      <th></th>\n",
              "      <th>prediction</th>\n",
              "    </tr>\n",
              "  </thead>\n",
              "  <tbody>\n",
              "    <tr>\n",
              "      <th>0</th>\n",
              "      <td>0.514805</td>\n",
              "    </tr>\n",
              "    <tr>\n",
              "      <th>1</th>\n",
              "      <td>0.723857</td>\n",
              "    </tr>\n",
              "    <tr>\n",
              "      <th>2</th>\n",
              "      <td>0.631785</td>\n",
              "    </tr>\n",
              "    <tr>\n",
              "      <th>3</th>\n",
              "      <td>0.805812</td>\n",
              "    </tr>\n",
              "    <tr>\n",
              "      <th>4</th>\n",
              "      <td>0.525902</td>\n",
              "    </tr>\n",
              "  </tbody>\n",
              "</table>\n",
              "</div>\n",
              "    <div class=\"colab-df-buttons\">\n",
              "\n",
              "  <div class=\"colab-df-container\">\n",
              "    <button class=\"colab-df-convert\" onclick=\"convertToInteractive('df-e2edcb67-c983-4089-98bc-f2bf1eb47622')\"\n",
              "            title=\"Convert this dataframe to an interactive table.\"\n",
              "            style=\"display:none;\">\n",
              "\n",
              "  <svg xmlns=\"http://www.w3.org/2000/svg\" height=\"24px\" viewBox=\"0 -960 960 960\">\n",
              "    <path d=\"M120-120v-720h720v720H120Zm60-500h600v-160H180v160Zm220 220h160v-160H400v160Zm0 220h160v-160H400v160ZM180-400h160v-160H180v160Zm440 0h160v-160H620v160ZM180-180h160v-160H180v160Zm440 0h160v-160H620v160Z\"/>\n",
              "  </svg>\n",
              "    </button>\n",
              "\n",
              "  <style>\n",
              "    .colab-df-container {\n",
              "      display:flex;\n",
              "      gap: 12px;\n",
              "    }\n",
              "\n",
              "    .colab-df-convert {\n",
              "      background-color: #E8F0FE;\n",
              "      border: none;\n",
              "      border-radius: 50%;\n",
              "      cursor: pointer;\n",
              "      display: none;\n",
              "      fill: #1967D2;\n",
              "      height: 32px;\n",
              "      padding: 0 0 0 0;\n",
              "      width: 32px;\n",
              "    }\n",
              "\n",
              "    .colab-df-convert:hover {\n",
              "      background-color: #E2EBFA;\n",
              "      box-shadow: 0px 1px 2px rgba(60, 64, 67, 0.3), 0px 1px 3px 1px rgba(60, 64, 67, 0.15);\n",
              "      fill: #174EA6;\n",
              "    }\n",
              "\n",
              "    .colab-df-buttons div {\n",
              "      margin-bottom: 4px;\n",
              "    }\n",
              "\n",
              "    [theme=dark] .colab-df-convert {\n",
              "      background-color: #3B4455;\n",
              "      fill: #D2E3FC;\n",
              "    }\n",
              "\n",
              "    [theme=dark] .colab-df-convert:hover {\n",
              "      background-color: #434B5C;\n",
              "      box-shadow: 0px 1px 3px 1px rgba(0, 0, 0, 0.15);\n",
              "      filter: drop-shadow(0px 1px 2px rgba(0, 0, 0, 0.3));\n",
              "      fill: #FFFFFF;\n",
              "    }\n",
              "  </style>\n",
              "\n",
              "    <script>\n",
              "      const buttonEl =\n",
              "        document.querySelector('#df-e2edcb67-c983-4089-98bc-f2bf1eb47622 button.colab-df-convert');\n",
              "      buttonEl.style.display =\n",
              "        google.colab.kernel.accessAllowed ? 'block' : 'none';\n",
              "\n",
              "      async function convertToInteractive(key) {\n",
              "        const element = document.querySelector('#df-e2edcb67-c983-4089-98bc-f2bf1eb47622');\n",
              "        const dataTable =\n",
              "          await google.colab.kernel.invokeFunction('convertToInteractive',\n",
              "                                                    [key], {});\n",
              "        if (!dataTable) return;\n",
              "\n",
              "        const docLinkHtml = 'Like what you see? Visit the ' +\n",
              "          '<a target=\"_blank\" href=https://colab.research.google.com/notebooks/data_table.ipynb>data table notebook</a>'\n",
              "          + ' to learn more about interactive tables.';\n",
              "        element.innerHTML = '';\n",
              "        dataTable['output_type'] = 'display_data';\n",
              "        await google.colab.output.renderOutput(dataTable, element);\n",
              "        const docLink = document.createElement('div');\n",
              "        docLink.innerHTML = docLinkHtml;\n",
              "        element.appendChild(docLink);\n",
              "      }\n",
              "    </script>\n",
              "  </div>\n",
              "\n",
              "\n",
              "<div id=\"df-976f062b-8e76-40e8-afe1-34568861d96c\">\n",
              "  <button class=\"colab-df-quickchart\" onclick=\"quickchart('df-976f062b-8e76-40e8-afe1-34568861d96c')\"\n",
              "            title=\"Suggest charts\"\n",
              "            style=\"display:none;\">\n",
              "\n",
              "<svg xmlns=\"http://www.w3.org/2000/svg\" height=\"24px\"viewBox=\"0 0 24 24\"\n",
              "     width=\"24px\">\n",
              "    <g>\n",
              "        <path d=\"M19 3H5c-1.1 0-2 .9-2 2v14c0 1.1.9 2 2 2h14c1.1 0 2-.9 2-2V5c0-1.1-.9-2-2-2zM9 17H7v-7h2v7zm4 0h-2V7h2v10zm4 0h-2v-4h2v4z\"/>\n",
              "    </g>\n",
              "</svg>\n",
              "  </button>\n",
              "\n",
              "<style>\n",
              "  .colab-df-quickchart {\n",
              "      --bg-color: #E8F0FE;\n",
              "      --fill-color: #1967D2;\n",
              "      --hover-bg-color: #E2EBFA;\n",
              "      --hover-fill-color: #174EA6;\n",
              "      --disabled-fill-color: #AAA;\n",
              "      --disabled-bg-color: #DDD;\n",
              "  }\n",
              "\n",
              "  [theme=dark] .colab-df-quickchart {\n",
              "      --bg-color: #3B4455;\n",
              "      --fill-color: #D2E3FC;\n",
              "      --hover-bg-color: #434B5C;\n",
              "      --hover-fill-color: #FFFFFF;\n",
              "      --disabled-bg-color: #3B4455;\n",
              "      --disabled-fill-color: #666;\n",
              "  }\n",
              "\n",
              "  .colab-df-quickchart {\n",
              "    background-color: var(--bg-color);\n",
              "    border: none;\n",
              "    border-radius: 50%;\n",
              "    cursor: pointer;\n",
              "    display: none;\n",
              "    fill: var(--fill-color);\n",
              "    height: 32px;\n",
              "    padding: 0;\n",
              "    width: 32px;\n",
              "  }\n",
              "\n",
              "  .colab-df-quickchart:hover {\n",
              "    background-color: var(--hover-bg-color);\n",
              "    box-shadow: 0 1px 2px rgba(60, 64, 67, 0.3), 0 1px 3px 1px rgba(60, 64, 67, 0.15);\n",
              "    fill: var(--button-hover-fill-color);\n",
              "  }\n",
              "\n",
              "  .colab-df-quickchart-complete:disabled,\n",
              "  .colab-df-quickchart-complete:disabled:hover {\n",
              "    background-color: var(--disabled-bg-color);\n",
              "    fill: var(--disabled-fill-color);\n",
              "    box-shadow: none;\n",
              "  }\n",
              "\n",
              "  .colab-df-spinner {\n",
              "    border: 2px solid var(--fill-color);\n",
              "    border-color: transparent;\n",
              "    border-bottom-color: var(--fill-color);\n",
              "    animation:\n",
              "      spin 1s steps(1) infinite;\n",
              "  }\n",
              "\n",
              "  @keyframes spin {\n",
              "    0% {\n",
              "      border-color: transparent;\n",
              "      border-bottom-color: var(--fill-color);\n",
              "      border-left-color: var(--fill-color);\n",
              "    }\n",
              "    20% {\n",
              "      border-color: transparent;\n",
              "      border-left-color: var(--fill-color);\n",
              "      border-top-color: var(--fill-color);\n",
              "    }\n",
              "    30% {\n",
              "      border-color: transparent;\n",
              "      border-left-color: var(--fill-color);\n",
              "      border-top-color: var(--fill-color);\n",
              "      border-right-color: var(--fill-color);\n",
              "    }\n",
              "    40% {\n",
              "      border-color: transparent;\n",
              "      border-right-color: var(--fill-color);\n",
              "      border-top-color: var(--fill-color);\n",
              "    }\n",
              "    60% {\n",
              "      border-color: transparent;\n",
              "      border-right-color: var(--fill-color);\n",
              "    }\n",
              "    80% {\n",
              "      border-color: transparent;\n",
              "      border-right-color: var(--fill-color);\n",
              "      border-bottom-color: var(--fill-color);\n",
              "    }\n",
              "    90% {\n",
              "      border-color: transparent;\n",
              "      border-bottom-color: var(--fill-color);\n",
              "    }\n",
              "  }\n",
              "</style>\n",
              "\n",
              "  <script>\n",
              "    async function quickchart(key) {\n",
              "      const quickchartButtonEl =\n",
              "        document.querySelector('#' + key + ' button');\n",
              "      quickchartButtonEl.disabled = true;  // To prevent multiple clicks.\n",
              "      quickchartButtonEl.classList.add('colab-df-spinner');\n",
              "      try {\n",
              "        const charts = await google.colab.kernel.invokeFunction(\n",
              "            'suggestCharts', [key], {});\n",
              "      } catch (error) {\n",
              "        console.error('Error during call to suggestCharts:', error);\n",
              "      }\n",
              "      quickchartButtonEl.classList.remove('colab-df-spinner');\n",
              "      quickchartButtonEl.classList.add('colab-df-quickchart-complete');\n",
              "    }\n",
              "    (() => {\n",
              "      let quickchartButtonEl =\n",
              "        document.querySelector('#df-976f062b-8e76-40e8-afe1-34568861d96c button');\n",
              "      quickchartButtonEl.style.display =\n",
              "        google.colab.kernel.accessAllowed ? 'block' : 'none';\n",
              "    })();\n",
              "  </script>\n",
              "</div>\n",
              "    </div>\n",
              "  </div>\n"
            ],
            "application/vnd.google.colaboratory.intrinsic+json": {
              "type": "dataframe",
              "variable_name": "submission"
            }
          },
          "metadata": {},
          "execution_count": 55
        }
      ]
    },
    {
      "cell_type": "code",
      "source": [
        "import zipfile\n",
        "import joblib\n",
        "import os\n",
        "\n",
        "if not os.path.exists(os.path.join(os.getcwd(), 'will_not_travel_again.ipynb')):\n",
        "    %notebook -e will_not_travel_again.ipynb\n",
        "\n",
        "def compress(file_names):\n",
        "    print(\"File Paths:\")\n",
        "    print(file_names)\n",
        "    compression = zipfile.ZIP_DEFLATED\n",
        "    with zipfile.ZipFile(\"result.zip\", mode=\"w\") as zf:\n",
        "        for file_name in file_names:\n",
        "            zf.write('./' + file_name, file_name, compress_type=compression)\n",
        "\n",
        "submission.to_csv('submission.csv', index=False)\n",
        "file_names = ['will_not_travel_again.ipynb', 'submission.csv',\n",
        "              'search_hour.json', 'checkIn_date_month.json',\n",
        "              'checkIn_day.json', 'days_between.json', 'los.json']\n",
        "compress(file_names)"
      ],
      "metadata": {
        "colab": {
          "base_uri": "https://localhost:8080/"
        },
        "id": "4xVWRuxaWIuP",
        "outputId": "d780b5b7-cf4d-44d3-a458-42f8ffb81dc6"
      },
      "execution_count": null,
      "outputs": [
        {
          "output_type": "stream",
          "name": "stdout",
          "text": [
            "File Paths:\n",
            "['will_not_travel_again.ipynb', 'submission.csv', 'search_hour.json', 'checkIn_date_month.json', 'checkIn_day.json', 'days_between.json', 'los.json']\n"
          ]
        }
      ]
    }
  ],
  "metadata": {
    "colab": {
      "provenance": [],
      "gpuType": "T4",
      "mount_file_id": "198QoWVOEt96A0QRByY6w3Jtt1LCCjEN4",
      "authorship_tag": "ABX9TyNh6dqv87Hg1yqXwPPmXSpY",
      "include_colab_link": true
    },
    "kernelspec": {
      "display_name": "Python 3",
      "name": "python3"
    },
    "language_info": {
      "name": "python"
    },
    "accelerator": "GPU"
  },
  "nbformat": 4,
  "nbformat_minor": 0
}